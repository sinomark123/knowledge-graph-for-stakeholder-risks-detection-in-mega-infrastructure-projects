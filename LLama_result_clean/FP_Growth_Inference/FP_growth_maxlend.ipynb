{
 "cells": [
  {
   "cell_type": "code",
   "execution_count": 46,
   "metadata": {},
   "outputs": [],
   "source": [
    "import pandas as pd\n",
    "from typing import *\n",
    "import re\n",
    "from mlxtend.frequent_patterns import fpgrowth, apriori\n",
    "from mlxtend.preprocessing import TransactionEncoder"
   ]
  },
  {
   "cell_type": "code",
   "execution_count": 30,
   "metadata": {},
   "outputs": [],
   "source": [
    "files = pd.read_csv(r\"./Generated_Result/three_output1.csv\", sep=\";\").fillna(\"Yes\")"
   ]
  },
  {
   "cell_type": "code",
   "execution_count": 32,
   "metadata": {},
   "outputs": [],
   "source": [
    "obj = files.iloc[:, :3]"
   ]
  },
  {
   "cell_type": "code",
   "execution_count": 33,
   "metadata": {},
   "outputs": [],
   "source": [
    "sets = obj.values.tolist()"
   ]
  },
  {
   "cell_type": "code",
   "execution_count": 40,
   "metadata": {},
   "outputs": [],
   "source": [
    "for idx, subset in enumerate(sets):\n",
    "    subset = [val.split(\"|\") for val in subset]\n",
    "    subset = [item.strip() for yitem in subset for item in yitem]\n",
    "    sets[idx] = subset"
   ]
  },
  {
   "cell_type": "code",
   "execution_count": 41,
   "metadata": {},
   "outputs": [],
   "source": [
    "def myFunc(val: List[str]):\n",
    "    pattern = r'\\b(?:yes|Yes)\\b'\n",
    "    processed_list = [item for item in val if not re.search(pattern, item)]\n",
    "    return processed_list"
   ]
  },
  {
   "cell_type": "code",
   "execution_count": 55,
   "metadata": {},
   "outputs": [
    {
     "data": {
      "text/plain": [
       "[]"
      ]
     },
     "execution_count": 55,
     "metadata": {},
     "output_type": "execute_result"
    }
   ],
   "source": [
    "myFunc([\"Yes\", \"yes\"])"
   ]
  },
  {
   "cell_type": "code",
   "execution_count": 56,
   "metadata": {},
   "outputs": [],
   "source": [
    "sets_proper = filter(myFunc, sets)\n",
    "sets_proper=list(sets_proper)"
   ]
  },
  {
   "cell_type": "code",
   "execution_count": 59,
   "metadata": {},
   "outputs": [],
   "source": [
    "te=TransactionEncoder()\n",
    "te_ary = te.fit(sets_proper).transform(sets_proper)\n",
    "df=pd.DataFrame(te_ary, columns=te.columns_).drop(columns=[\"Yes\", \"none\"])"
   ]
  },
  {
   "cell_type": "code",
   "execution_count": 78,
   "metadata": {},
   "outputs": [],
   "source": [
    "res=fpgrowth(df, min_support=0.0016, use_colnames=True)\n",
    "res[\"length\"] = res[\"itemsets\"].apply(lambda x: len(x))"
   ]
  },
  {
   "cell_type": "code",
   "execution_count": 82,
   "metadata": {},
   "outputs": [],
   "source": [
    "qualified = res[res[\"length\"]>2]"
   ]
  },
  {
   "cell_type": "code",
   "execution_count": 83,
   "metadata": {},
   "outputs": [
    {
     "data": {
      "text/html": [
       "<div>\n",
       "<style scoped>\n",
       "    .dataframe tbody tr th:only-of-type {\n",
       "        vertical-align: middle;\n",
       "    }\n",
       "\n",
       "    .dataframe tbody tr th {\n",
       "        vertical-align: top;\n",
       "    }\n",
       "\n",
       "    .dataframe thead th {\n",
       "        text-align: right;\n",
       "    }\n",
       "</style>\n",
       "<table border=\"1\" class=\"dataframe\">\n",
       "  <thead>\n",
       "    <tr style=\"text-align: right;\">\n",
       "      <th></th>\n",
       "      <th>support</th>\n",
       "      <th>itemsets</th>\n",
       "      <th>length</th>\n",
       "    </tr>\n",
       "  </thead>\n",
       "  <tbody>\n",
       "    <tr>\n",
       "      <th>336</th>\n",
       "      <td>0.002427</td>\n",
       "      <td>(project developers, investors, Host countries)</td>\n",
       "      <td>3</td>\n",
       "    </tr>\n",
       "    <tr>\n",
       "      <th>340</th>\n",
       "      <td>0.002427</td>\n",
       "      <td>(project developers, Host countries, Electrici...</td>\n",
       "      <td>3</td>\n",
       "    </tr>\n",
       "    <tr>\n",
       "      <th>341</th>\n",
       "      <td>0.002427</td>\n",
       "      <td>(project developers, investors, Electricity ge...</td>\n",
       "      <td>3</td>\n",
       "    </tr>\n",
       "    <tr>\n",
       "      <th>342</th>\n",
       "      <td>0.002427</td>\n",
       "      <td>(investors, Host countries, Electricity genera...</td>\n",
       "      <td>3</td>\n",
       "    </tr>\n",
       "    <tr>\n",
       "      <th>343</th>\n",
       "      <td>0.002427</td>\n",
       "      <td>(project developers, investors, Host countries...</td>\n",
       "      <td>4</td>\n",
       "    </tr>\n",
       "    <tr>\n",
       "      <th>...</th>\n",
       "      <td>...</td>\n",
       "      <td>...</td>\n",
       "      <td>...</td>\n",
       "    </tr>\n",
       "    <tr>\n",
       "      <th>1314</th>\n",
       "      <td>0.002427</td>\n",
       "      <td>(Local residents, environmental groups, govern...</td>\n",
       "      <td>3</td>\n",
       "    </tr>\n",
       "    <tr>\n",
       "      <th>1329</th>\n",
       "      <td>0.002427</td>\n",
       "      <td>(local communities, Environmental groups, gove...</td>\n",
       "      <td>3</td>\n",
       "    </tr>\n",
       "    <tr>\n",
       "      <th>1332</th>\n",
       "      <td>0.002427</td>\n",
       "      <td>(Government agencies, renewable energy compani...</td>\n",
       "      <td>3</td>\n",
       "    </tr>\n",
       "    <tr>\n",
       "      <th>1336</th>\n",
       "      <td>0.002427</td>\n",
       "      <td>(Local communities, government agencies., envi...</td>\n",
       "      <td>3</td>\n",
       "    </tr>\n",
       "    <tr>\n",
       "      <th>1339</th>\n",
       "      <td>0.002427</td>\n",
       "      <td>(Local communities, government agencies, Water...</td>\n",
       "      <td>3</td>\n",
       "    </tr>\n",
       "  </tbody>\n",
       "</table>\n",
       "<p>654 rows × 3 columns</p>\n",
       "</div>"
      ],
      "text/plain": [
       "       support                                           itemsets  length\n",
       "336   0.002427    (project developers, investors, Host countries)       3\n",
       "340   0.002427  (project developers, Host countries, Electrici...       3\n",
       "341   0.002427  (project developers, investors, Electricity ge...       3\n",
       "342   0.002427  (investors, Host countries, Electricity genera...       3\n",
       "343   0.002427  (project developers, investors, Host countries...       4\n",
       "...        ...                                                ...     ...\n",
       "1314  0.002427  (Local residents, environmental groups, govern...       3\n",
       "1329  0.002427  (local communities, Environmental groups, gove...       3\n",
       "1332  0.002427  (Government agencies, renewable energy compani...       3\n",
       "1336  0.002427  (Local communities, government agencies., envi...       3\n",
       "1339  0.002427  (Local communities, government agencies, Water...       3\n",
       "\n",
       "[654 rows x 3 columns]"
      ]
     },
     "execution_count": 83,
     "metadata": {},
     "output_type": "execute_result"
    }
   ],
   "source": [
    "qualified"
   ]
  }
 ],
 "metadata": {
  "kernelspec": {
   "display_name": "base",
   "language": "python",
   "name": "python3"
  },
  "language_info": {
   "codemirror_mode": {
    "name": "ipython",
    "version": 3
   },
   "file_extension": ".py",
   "mimetype": "text/x-python",
   "name": "python",
   "nbconvert_exporter": "python",
   "pygments_lexer": "ipython3",
   "version": "3.9.16"
  }
 },
 "nbformat": 4,
 "nbformat_minor": 2
}
