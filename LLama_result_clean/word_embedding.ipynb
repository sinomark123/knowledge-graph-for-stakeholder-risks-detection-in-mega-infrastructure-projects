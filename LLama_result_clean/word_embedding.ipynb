{
 "cells": [
  {
   "cell_type": "code",
   "execution_count": 15,
   "metadata": {},
   "outputs": [],
   "source": [
    "import pandas as pd\n",
    "import numpy as np\n",
    "from typing import *\n",
    "import torch.nn.functional as F\n",
    "from torch import Tensor\n",
    "from transformers import AutoTokenizer, AutoModel\n",
    "import torch"
   ]
  },
  {
   "cell_type": "code",
   "execution_count": 16,
   "metadata": {},
   "outputs": [],
   "source": [
    "def average_pool(last_hidden_states: Tensor, attention_mask: Tensor) -> Tensor:\n",
    "    last_hidden = last_hidden_states.masked_fill(~attention_mask[..., None].bool(), 0.0)\n",
    "    # print(last_hidden.shape)\n",
    "    return last_hidden.sum(dim=1) / attention_mask.sum(dim=1)[..., None]"
   ]
  },
  {
   "cell_type": "code",
   "execution_count": 17,
   "metadata": {},
   "outputs": [],
   "source": [
    "tokenizer = AutoTokenizer.from_pretrained(r\"Embedding_Model/gte_base\")\n",
    "model = AutoModel.from_pretrained(r\"Embedding_Model/gte_base\")"
   ]
  },
  {
   "cell_type": "code",
   "execution_count": 18,
   "metadata": {},
   "outputs": [],
   "source": [
    "# val1=tokenizer.save_pretrained(r\"Embedding_Model/gte_large\")\n",
    "# val2= model.save_pretrained(r\"Embedding_Model/gte_large/\")"
   ]
  },
  {
   "cell_type": "code",
   "execution_count": 19,
   "metadata": {},
   "outputs": [],
   "source": [
    "data_input = pd.read_csv(r\"Generated_Result/10k.csv\", sep=\";\")"
   ]
  },
  {
   "cell_type": "code",
   "execution_count": 20,
   "metadata": {},
   "outputs": [
    {
     "name": "stderr",
     "output_type": "stream",
     "text": [
      "C:\\Users\\jqi22\\AppData\\Local\\Temp\\ipykernel_23860\\922194924.py:1: FutureWarning: Setting an item of incompatible dtype is deprecated and will raise in a future error of pandas. Value 'None' has dtype incompatible with float64, please explicitly cast to a compatible dtype first.\n",
      "  data_input.fillna(\"None\", inplace=True)\n"
     ]
    },
    {
     "data": {
      "text/html": [
       "<div>\n",
       "<style scoped>\n",
       "    .dataframe tbody tr th:only-of-type {\n",
       "        vertical-align: middle;\n",
       "    }\n",
       "\n",
       "    .dataframe tbody tr th {\n",
       "        vertical-align: top;\n",
       "    }\n",
       "\n",
       "    .dataframe thead th {\n",
       "        text-align: right;\n",
       "    }\n",
       "</style>\n",
       "<table border=\"1\" class=\"dataframe\">\n",
       "  <thead>\n",
       "    <tr style=\"text-align: right;\">\n",
       "      <th></th>\n",
       "      <th>project</th>\n",
       "      <th>risk</th>\n",
       "      <th>stakeholder</th>\n",
       "      <th>idx</th>\n",
       "    </tr>\n",
       "  </thead>\n",
       "  <tbody>\n",
       "    <tr>\n",
       "      <th>0</th>\n",
       "      <td>Geological CO2 sequestration</td>\n",
       "      <td>Mitigation of anthropogenic carbon dioxide emi...</td>\n",
       "      <td>None</td>\n",
       "      <td>0.0</td>\n",
       "    </tr>\n",
       "    <tr>\n",
       "      <th>1</th>\n",
       "      <td>development and validation of a discrete event...</td>\n",
       "      <td>None</td>\n",
       "      <td>commercial vehicles passing through the area</td>\n",
       "      <td>1.0</td>\n",
       "    </tr>\n",
       "    <tr>\n",
       "      <th>2</th>\n",
       "      <td>Urban renaissance project in the area of Gazi</td>\n",
       "      <td>Pollution from the industrial use of Gazi|whic...</td>\n",
       "      <td>Residents of Gazi|environmental activists|loca...</td>\n",
       "      <td>2.0</td>\n",
       "    </tr>\n",
       "    <tr>\n",
       "      <th>3</th>\n",
       "      <td>simulation of changes in live carbon stocks in...</td>\n",
       "      <td>droughts</td>\n",
       "      <td>forest ecosystem|climate change</td>\n",
       "      <td>4.0</td>\n",
       "    </tr>\n",
       "    <tr>\n",
       "      <th>4</th>\n",
       "      <td>Ecological enhancement of coastal and marine i...</td>\n",
       "      <td>degraded or reduced habitat for native species</td>\n",
       "      <td>ecosystem and habitat value|this paper present...</td>\n",
       "      <td>5.0</td>\n",
       "    </tr>\n",
       "  </tbody>\n",
       "</table>\n",
       "</div>"
      ],
      "text/plain": [
       "                                             project  \\\n",
       "0                       Geological CO2 sequestration   \n",
       "1  development and validation of a discrete event...   \n",
       "2      Urban renaissance project in the area of Gazi   \n",
       "3  simulation of changes in live carbon stocks in...   \n",
       "4  Ecological enhancement of coastal and marine i...   \n",
       "\n",
       "                                                risk  \\\n",
       "0  Mitigation of anthropogenic carbon dioxide emi...   \n",
       "1                                               None   \n",
       "2  Pollution from the industrial use of Gazi|whic...   \n",
       "3                                           droughts   \n",
       "4     degraded or reduced habitat for native species   \n",
       "\n",
       "                                         stakeholder  idx  \n",
       "0                                               None  0.0  \n",
       "1       commercial vehicles passing through the area  1.0  \n",
       "2  Residents of Gazi|environmental activists|loca...  2.0  \n",
       "3                    forest ecosystem|climate change  4.0  \n",
       "4  ecosystem and habitat value|this paper present...  5.0  "
      ]
     },
     "execution_count": 20,
     "metadata": {},
     "output_type": "execute_result"
    }
   ],
   "source": [
    "data_input.fillna(\"None\", inplace=True)\n",
    "data_input.head()"
   ]
  },
  {
   "cell_type": "code",
   "execution_count": 21,
   "metadata": {},
   "outputs": [],
   "source": [
    "stupid: Dict[str, List] = {}\n",
    "for col in [\"project\", \"risk\", \"stakeholder\"]:\n",
    "    temp = data_input.loc[:, col]\n",
    "    blyat = []\n",
    "    for tep_val in temp.values.tolist():\n",
    "        if tep_val[0] != tep_val[0] or tep_val==\"None\": continue\n",
    "        tep_val = tep_val.split(\"|\")\n",
    "        blyat = [*blyat, *tep_val]\n",
    "    stupid[col] = blyat\n",
    "\n",
    "# stupid_copy = {col: [val for val in data_input[col].str.split(\"|\", expand=True).stack().dropna()]\\\n",
    "#            for col in [\"Project\", \"Risk\", \"Stakeholder\"]}"
   ]
  },
  {
   "cell_type": "code",
   "execution_count": 22,
   "metadata": {},
   "outputs": [],
   "source": [
    "temp_project = [stupid[\"risk\"][val: val+5] for val in range(0, len(stupid[\"risk\"]), 5)]"
   ]
  },
  {
   "cell_type": "code",
   "execution_count": 23,
   "metadata": {},
   "outputs": [
    {
     "name": "stdout",
     "output_type": "stream",
     "text": [
      "torch.Size([5, 13, 768]) <class 'transformers.modeling_outputs.BaseModelOutputWithPoolingAndCrossAttentions'> \n",
      " 5 173 52\n",
      "torch.Size([5, 768])\n"
     ]
    }
   ],
   "source": [
    "att= tokenizer(temp_project[0], padding=True, truncation=True, return_tensors=\"pt\")\n",
    "out_test = model(**att)\n",
    "print(out_test.last_hidden_state.shape, type(out_test), \"\\n\", len(temp_project[0])\\\n",
    "      , sum([len(val) for val in temp_project[0]]), max([len(val) for val in temp_project[0]]))\n",
    "# print(model.config)\n",
    "embedds = average_pool(out_test.last_hidden_state, att[\"attention_mask\"])\n",
    "print(embedds.shape)"
   ]
  },
  {
   "cell_type": "code",
   "execution_count": 24,
   "metadata": {},
   "outputs": [
    {
     "data": {
      "text/plain": [
       "['commercial vehicles passing through the area',\n",
       " 'Residents of Gazi',\n",
       " 'environmental activists',\n",
       " 'local government officials',\n",
       " 'and business owners who will be impacted by the proposed urban renaissance project']"
      ]
     },
     "execution_count": 24,
     "metadata": {},
     "output_type": "execute_result"
    }
   ],
   "source": [
    "stupid[\"stakeholder\"][:5]"
   ]
  },
  {
   "cell_type": "code",
   "execution_count": 25,
   "metadata": {},
   "outputs": [],
   "source": [
    "import math\n",
    "\n",
    "def embedding_value(col, input_data, threshold=1000):\n",
    "    output_project = []\n",
    "    for tax in input_data:\n",
    "        for ele in tax:\n",
    "            # Tokenize the input texts\n",
    "            batch_dict = tokenizer(ele, max_length=512, padding=True, truncation=True, return_tensors='pt')\n",
    "            outputs = model(**batch_dict)\n",
    "            embeddings = average_pool(outputs.last_hidden_state, batch_dict['attention_mask'])\n",
    "            output_project.append(embeddings)\n",
    "            torch.save(torch.cat(output_project, axis=0), f\"Embedding_Model/gte_large_embedding/10k_{col}.pt\")\n",
    "    # del output_project"
   ]
  },
  {
   "cell_type": "code",
   "execution_count": 21,
   "metadata": {},
   "outputs": [],
   "source": [
    "columns = data_input.columns.to_list()\n",
    "temp = [\"risk\", \"project\"]\n",
    "\n",
    "threshold = 200\n",
    "lens = len(stupid[col])\n",
    "new_item_list = []\n",
    "for item in range(0, math.ceil(lens/threshold)):\n",
    "    new_item_list.append(stupid[col][:(item+1)*threshold] if (item+1)*threshold<lens-1 else lens-1)\n",
    "    \n",
    "for col in temp:\n",
    "    embedding_value(col=col, threshold=200)"
   ]
  },
  {
   "cell_type": "code",
   "execution_count": 14,
   "metadata": {},
   "outputs": [],
   "source": [
    "# beside stakeholder, rest of them shall be reloaded again\n",
    "\n",
    "torch.save(torch.cat(output_project, axis=0), \"Embedding_Model/gte_large_embedding/three_ouput1_risk.pt\")"
   ]
  },
  {
   "cell_type": "code",
   "execution_count": 14,
   "metadata": {},
   "outputs": [],
   "source": [
    "# import gc\n",
    "# gc.collect()\n",
    "torch.cuda.empty_cache()"
   ]
  },
  {
   "cell_type": "code",
   "execution_count": 13,
   "metadata": {},
   "outputs": [],
   "source": [
    "full_emd, atten_mask = outputs.last_hidden_state, batch_dict['attention_mask']"
   ]
  },
  {
   "cell_type": "code",
   "execution_count": 14,
   "metadata": {},
   "outputs": [
    {
     "name": "stdout",
     "output_type": "stream",
     "text": [
      "torch.Size([4, 6, 768]) torch.Size([4, 6]) torch.Size([4, 768])\n"
     ]
    }
   ],
   "source": [
    "print(full_emd.shape, atten_mask.shape, embeddings.shape)"
   ]
  },
  {
   "cell_type": "code",
   "execution_count": 13,
   "metadata": {},
   "outputs": [
    {
     "name": "stdout",
     "output_type": "stream",
     "text": [
      "[[69.65817260742188, 88.03556060791016, 68.79690551757812]]\n"
     ]
    }
   ],
   "source": [
    "# (Optionally) normalize embeddings\n",
    "embeddings = F.normalize(embeddings, p=2, dim=1)\n",
    "scores = (embeddings[:1] @ embeddings[1:].T) * 100\n",
    "print(scores.tolist())"
   ]
  },
  {
   "cell_type": "code",
   "execution_count": 1,
   "metadata": {},
   "outputs": [],
   "source": [
    "import pandas as pd"
   ]
  },
  {
   "cell_type": "code",
   "execution_count": 7,
   "metadata": {},
   "outputs": [],
   "source": [
    "d1 = pd.read_csv(r\"Generated_Result/1k_fp.csv\", sep=';')\n",
    "d1.to_excel(r\"Generated_Result/new_split_quota.xlsx\", index=False)"
   ]
  }
 ],
 "metadata": {
  "kernelspec": {
   "display_name": "base",
   "language": "python",
   "name": "python3"
  },
  "language_info": {
   "codemirror_mode": {
    "name": "ipython",
    "version": 3
   },
   "file_extension": ".py",
   "mimetype": "text/x-python",
   "name": "python",
   "nbconvert_exporter": "python",
   "pygments_lexer": "ipython3",
   "version": "3.9.16"
  }
 },
 "nbformat": 4,
 "nbformat_minor": 2
}
