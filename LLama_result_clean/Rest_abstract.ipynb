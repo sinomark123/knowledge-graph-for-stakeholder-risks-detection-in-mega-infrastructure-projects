{
 "cells": [
  {
   "cell_type": "code",
   "execution_count": 1,
   "metadata": {},
   "outputs": [],
   "source": [
    "import pandas as pd\n",
    "import numpy as np\n",
    "from typing import *\n",
    "import re\n",
    "from three_answer import Answer\n",
    "from functools import reduce\n",
    "import operator\n",
    "import fpgrowth_py\n",
    "from functools import singledispatch"
   ]
  },
  {
   "cell_type": "code",
   "execution_count": 2,
   "metadata": {},
   "outputs": [],
   "source": [
    "content: str = \"\"\n",
    "read_content: str = \"\"\n",
    "with open(\"output/result1_10k.txt\", \"r\") as file:\n",
    "    content=[ctnt.replace(\"*\", \"\").strip() for ctnt in file.readlines()]\n",
    "\n",
    "# with open(\"output/three_output.txt\", \"r\") as file:\n",
    "#     read_content=file.read()\n",
    "\n",
    "INTERTIAL_vocabulary = [\"sure\", \"I'd be happy\", \"happy\", \"please\", \"help\", \"given sentence\", \\\n",
    "                        \"I\", \"let\", \"based\", \"here are\", \"understood\", \"predictions\", \"mentioned\", \\\n",
    "                            \"sentence\"]\n",
    "escape_vocabulary=[re.escape(word) for word in INTERTIAL_vocabulary]\n",
    "pattern = rf\"\\b({'|'.join(escape_vocabulary)})\\b\""
   ]
  },
  {
   "cell_type": "code",
   "execution_count": 3,
   "metadata": {},
   "outputs": [
    {
     "data": {
      "text/plain": [
       "'1. Project: Geological CO2 sequestration'"
      ]
     },
     "execution_count": 3,
     "metadata": {},
     "output_type": "execute_result"
    }
   ],
   "source": [
    "content[1]"
   ]
  },
  {
   "cell_type": "code",
   "execution_count": 4,
   "metadata": {},
   "outputs": [],
   "source": [
    "def list_split(cent: List[str] = content):\n",
    "    index_int = 0\n",
    "    for idx, ele in enumerate(cent):\n",
    "        if re.search(r\"^\\d+$|\\d$\", ele):\n",
    "            yield content[index_int: idx+1]\n",
    "            index_int = idx+1\n",
    "    return content[index_int: ]"
   ]
  },
  {
   "cell_type": "code",
   "execution_count": 5,
   "metadata": {},
   "outputs": [],
   "source": [
    "res = list(list_split(content))"
   ]
  },
  {
   "cell_type": "code",
   "execution_count": 6,
   "metadata": {},
   "outputs": [],
   "source": [
    "def digital_distinction(target: str) -> List[str]:\n",
    "    \"\"\"\n",
    "    target here is supposed to be the last string of each response\n",
    "    \"\"\"\n",
    "    match = re.search(pattern=r\"\\d+$\", string=target)\n",
    "    if not match: return [target] # for three_output.txt\n",
    "    pos, dig= match.span(), match.group()\n",
    "    return [target[:pos[0]], dig]"
   ]
  },
  {
   "cell_type": "code",
   "execution_count": 7,
   "metadata": {},
   "outputs": [],
   "source": [
    "# res = [[*digital_distinction(sub_sec.pop(-1)), *sub_sec] for sub_sec in res]\n",
    "for idx, sub_sec in enumerate(res):\n",
    "    res[idx] = [sub_val \\\n",
    "                for val in map(digital_distinction, sub_sec) \\\n",
    "                    for sub_val in val]\n",
    "# res = [[reduce(operator.concat, digital_distinction(val)) \\\n",
    "#               for val in sub_sec]\\\n",
    "#                      for sub_sec in res ]\n",
    "# a bit problem, pop indeed prevent existence of extra the same value \n",
    "# but it makes the order of string into chaos"
   ]
  },
  {
   "cell_type": "code",
   "execution_count": 8,
   "metadata": {},
   "outputs": [],
   "source": [
    "def interial_check(tar: Union[str, int])-> Union[str, Union[bool, int]]:\n",
    "    if not isinstance(tar, str): return (None, False)\n",
    "    digital = r\"\\d+$\"\n",
    "    numbers = re.search(pattern=digital, string=tar) # return the ditigal words hidden in the last senntece\n",
    "    return re.search(pattern=pattern, string=tar, flags=re.IGNORECASE), int(numbers.group()) if numbers else False"
   ]
  },
  {
   "cell_type": "code",
   "execution_count": 9,
   "metadata": {},
   "outputs": [],
   "source": [
    "def prefix_clean(string):\n",
    "    if not isinstance(string, str): return string\n",
    "    pattern = r\"\\* |\\d+\\.\\s|\\`\"\n",
    "    matches = re.sub(pattern=pattern, repl='', string=string, flags=re.MULTILINE)\n",
    "    return matches"
   ]
  },
  {
   "cell_type": "code",
   "execution_count": 10,
   "metadata": {},
   "outputs": [],
   "source": [
    "\"\"\"\n",
    "structure of interial_check cannot be changed, better return a stable or single value \n",
    "\"\"\"\n",
    "test_res = [[prefix_clean(sub_nele) \\\n",
    "             for sub_nele in nele \\\n",
    "                if not (not sub_nele or interial_check(sub_nele)[0])] \\\n",
    "                    for nele in res]"
   ]
  },
  {
   "cell_type": "code",
   "execution_count": 11,
   "metadata": {},
   "outputs": [
    {
     "data": {
      "text/plain": [
       "True"
      ]
     },
     "execution_count": 11,
     "metadata": {},
     "output_type": "execute_result"
    }
   ],
   "source": [
    "len(res)==len(test_res)\n",
    "# \"im gonna extract the word from result2_50k.txt according to a fixed pattern\""
   ]
  },
  {
   "cell_type": "code",
   "execution_count": 12,
   "metadata": {},
   "outputs": [],
   "source": [
    "def int_geter(tar: List[Union[str, int]]):\n",
    "    num = map(int, filter(lambda a: a.isdigit(), tar))\n",
    "    num = next(iter(num))\n",
    "    print(num, tar)\n",
    "    tar.pop(tar.index(str(num)))\n",
    "    return num, tar"
   ]
  },
  {
   "cell_type": "code",
   "execution_count": 13,
   "metadata": {},
   "outputs": [
    {
     "data": {
      "text/plain": [
       "['Project: Estimating the prevalence and odds of fleet driver errors and potentially distracting behaviors just prior to rear-end versus angle crashes.',\n",
       " 'Risk: Inadequate surveillance, potentially distracting driver behaviors, spending too much time looking at or manipulating a cell phone while driving.',\n",
       " 'Stakeholder: Fleet service drivers, as they are the ones who may benefit from',\n",
       " '10']"
      ]
     },
     "execution_count": 13,
     "metadata": {},
     "output_type": "execute_result"
    }
   ],
   "source": [
    "# hb_head = r\"^(stakeholder|risk|project)\\b\"\n",
    "# re.search(hb_head, test_res[3740][2], re.IGNORECASE).span()[1]\n",
    "# test_res[3740][2][12]\n",
    "\n",
    "test_res[11]"
   ]
  },
  {
   "cell_type": "code",
   "execution_count": 14,
   "metadata": {},
   "outputs": [],
   "source": [
    "hb_head = r\"^(stakeholder|risk|project)\\b\"\n",
    "def horizaontal_detect(obj: List[str]):\n",
    "    des = re.search(hb_head, obj, re.IGNORECASE)\n",
    "    if des == None or obj[des.span()[1]+1] != \"-\": return False\n",
    "    des = des.span()\n",
    "    if obj[des[1]+1] == \"-\": \n",
    "        title, val = pattern_horizontal_bar(obj, des[1])\n",
    "        return title+\":\"+val\n",
    "\n",
    "def pattern_horizontal_bar(obj: str, pos: int):\n",
    "    return obj[:pos], obj[pos+2: ]"
   ]
  },
  {
   "cell_type": "code",
   "execution_count": 15,
   "metadata": {},
   "outputs": [],
   "source": [
    "template: List[str] = [\"stakeholder:\", \"risk:\", \"project:\", \"stakeholders:\", \": stakeholder\", \"category:\"] #, \": risk\", \": project\"] #  \n",
    "head_pattern = r\"^(?:{})\".format(\"|\".join(template))\n",
    "# https://stackoverflow.com/questions/62700774/singledispatchmethod-with-typing-types\n",
    "\n",
    "class Answer_extraction:\n",
    "\n",
    "    def __init__(self):\n",
    "        pass\n",
    "\n",
    "@singledispatch\n",
    "def honer_solution(marker, obj: list):\n",
    "    print(\"the string format is beyond the scope of the function\")\n",
    "\n",
    "@honer_solution.register\n",
    "def _(marker: int, obj: list):\n",
    "    \"\"\"\n",
    "    problem 1: index may not be able always keep the number in the last line\n",
    "    problem 2: there will be extra explaination sentnece, find them out\n",
    "    \"\"\"\n",
    "    global head_pattern\n",
    "    three_ele, index,  = obj[:-1], obj[-1],\n",
    "    extra: dict[str: list[str]] = {}\n",
    "\n",
    "    for idx, _ in enumerate(three_ele):\n",
    "        category = None\n",
    "        while idx<len(three_ele) and not re.search(head_pattern, three_ele[idx], re.IGNORECASE):\n",
    "            category_tuple = re.search(head_pattern, three_ele[idx-1], re.IGNORECASE)\n",
    "            if not category: \n",
    "                start, end = category_tuple.span()\n",
    "                if three_ele[idx-1][:3] == \"Cat\": category = three_ele[idx-1][end+1: ]\n",
    "                else: category = three_ele[idx-1][start:end-1]\n",
    "            if category not in extra.keys(): extra[category] = [three_ele.pop(idx)]\n",
    "            else: extra[category].append(three_ele.pop(idx))\n",
    "            \n",
    "    if len(extra):\n",
    "        return extra, [], index\n",
    "\n",
    "    three_ele = [ab_ele.split(\":\") for ab_ele in three_ele]\n",
    "    return {real_time[0]: [*(real_time[1].split(\",\", -1) if real_time[1] else [])] for real_time in three_ele}, extra, index\n",
    "    "
   ]
  },
  {
   "cell_type": "code",
   "execution_count": 16,
   "metadata": {},
   "outputs": [],
   "source": [
    "qualified_col_name = [\"risk\", \"stakeholder\", \"project\"]\n",
    "def name_correct(val: str):\n",
    "    for name in qualified_col_name:\n",
    "        if name in val.lower(): return name\n",
    "    return val\n",
    "\n",
    "@honer_solution.register\n",
    "def _(marker: str, obj: list):\n",
    "    \"\"\"\n",
    "    only solve answer that in one line. e.g\n",
    "    Sure! Based on the given sentence, here are the three categories I would assign:\n",
    "    * Risk: droughts\n",
    "    * Stakeholder: forest ecosystem, climate change\n",
    "    * Project: simulation of changes in live carbon stocks in the Amazon Basin\n",
    "    4\n",
    "    \"\"\"\n",
    "    global head_pattern\n",
    "    three_ele, index,  = obj[:-1], obj[-1],\n",
    "    extra: dict[str: list[str]] = {}\n",
    "    try:\n",
    "        three_ele = [ab_ele.split(\":\") for ab_ele in three_ele]\n",
    "        for real_time in three_ele:\n",
    "            if not real_time[1]: real_time[1] = []\n",
    "            else: real_time[1] = [re.sub(r'^\\W+|\\W+$', '', val) for val in real_time[1].split(\",\", -1)]\n",
    "        return {name_correct(real_time[0]): real_time[1] for real_time in three_ele}, extra, index\n",
    "    except Exception as e:\n",
    "        return False, e, index"
   ]
  },
  {
   "cell_type": "code",
   "execution_count": 17,
   "metadata": {},
   "outputs": [
    {
     "data": {
      "text/plain": [
       "['Project: Geological CO2 sequestration',\n",
       " 'Stakeholders:',\n",
       " 'Risk: Mitigation of anthropogenic carbon dioxide emissions, injection capacity and safety of the storage system, fluid flow in porous media, etc.',\n",
       " '0']"
      ]
     },
     "execution_count": 17,
     "metadata": {},
     "output_type": "execute_result"
    }
   ],
   "source": [
    "test_res[0]"
   ]
  },
  {
   "cell_type": "code",
   "execution_count": 18,
   "metadata": {},
   "outputs": [
    {
     "name": "stdout",
     "output_type": "stream",
     "text": [
      "({'project': ['Geological CO2 sequestration'], 'stakeholder': [], 'risk': ['Mitigation of anthropogenic carbon dioxide emissions', 'injection capacity and safety of the storage system', 'fluid flow in porous media', 'etc']}, {}, '0')\n"
     ]
    }
   ],
   "source": [
    "test_num = 0\n",
    "print(honer_solution(\"0\", test_res[test_num]))"
   ]
  },
  {
   "cell_type": "code",
   "execution_count": 19,
   "metadata": {},
   "outputs": [
    {
     "name": "stdout",
     "output_type": "stream",
     "text": [
      "928\n"
     ]
    }
   ],
   "source": [
    "abs_data = []\n",
    "abnormal = []\n",
    "for nuidx, val in enumerate(test_res):\n",
    "    val, extra, ind = honer_solution(\"0\", val)\n",
    "    if not val:\n",
    "        abnormal.append(nuidx)\n",
    "    else:\n",
    "        abs_data.append((val, extra, ind))\n",
    "print(len(abnormal))\n",
    "# possible worked for index 3740\n",
    "pattern = fr\"\\b({'|'.join(template)})\\s*[:-]\""
   ]
  },
  {
   "cell_type": "code",
   "execution_count": 20,
   "metadata": {},
   "outputs": [
    {
     "data": {
      "text/plain": [
       "'70'"
      ]
     },
     "execution_count": 20,
     "metadata": {},
     "output_type": "execute_result"
    }
   ],
   "source": [
    "def abnormal_record(obj: List[int] = abnormal):\n",
    "    global res\n",
    "    return [res[idx][-1] for idx in obj]\n",
    "\n",
    "# print(test_res[int(abnormal[5])], \"\\n\", res[int(abnormal[5])])\n",
    "res[int(abnormal[5])][-1]"
   ]
  },
  {
   "cell_type": "code",
   "execution_count": 21,
   "metadata": {},
   "outputs": [],
   "source": [
    "abnormal_path = rf\"output/abnormal_{len(abnormal)}_record.txt\"\n",
    "with open(abnormal_path, \"w\") as file:\n",
    "    file.write(\"\\n\".join(abnormal_record()))"
   ]
  },
  {
   "cell_type": "code",
   "execution_count": 116,
   "metadata": {},
   "outputs": [],
   "source": [
    "hder, std_col = True, [\"project\", \"risk\", \"stakeholder\", \"idx\"]\n",
    "for idv, order_ele in enumerate(abs_data):\n",
    "    normal, extra, index = order_ele\n",
    "    if not bool(normal): continue\n",
    "    normal[\"idx\"] = [index]\n",
    "    normal = {key: ['|'.join(value).strip()] if isinstance(value, list) else str(value) for key, value in normal.items()}\n",
    "    fuck_off = pd.DataFrame(normal)\n",
    "    if len(fuck_off) < 4:\n",
    "        fuck_off = fuck_off.reindex(columns=std_col).fillna(\"None\")\n",
    "    try: \n",
    "        fuck_off.to_csv(\"Generated_Result/1k.csv\", index=False, mode=\"a\", header=hder)\n",
    "        hder = False\n",
    "    except Exception as e:\n",
    "        print(idv)"
   ]
  },
  {
   "cell_type": "code",
   "execution_count": 123,
   "metadata": {},
   "outputs": [
    {
     "data": {
      "text/plain": [
       "({'project': ['Gravel road safety'],\n",
       "  'risk': ['Inherent hazards present in gravel roads',\n",
       "   'lack of research related to crash count prediction models for these roads',\n",
       "   'and difficulty in applying existing methods due to unique conditions in Laramie County',\n",
       "   'Wyoming'],\n",
       "  'stakeholder': ['Wyoming Department of Transportation',\n",
       "   'safety experts',\n",
       "   'and residents who use gravel roads'],\n",
       "  'idx': ['19']},\n",
       " {},\n",
       " '19')"
      ]
     },
     "execution_count": 123,
     "metadata": {},
     "output_type": "execute_result"
    }
   ],
   "source": [
    "abs_data[20]"
   ]
  },
  {
   "cell_type": "code",
   "execution_count": 127,
   "metadata": {},
   "outputs": [
    {
     "data": {
      "text/html": [
       "<div>\n",
       "<style scoped>\n",
       "    .dataframe tbody tr th:only-of-type {\n",
       "        vertical-align: middle;\n",
       "    }\n",
       "\n",
       "    .dataframe tbody tr th {\n",
       "        vertical-align: top;\n",
       "    }\n",
       "\n",
       "    .dataframe thead th {\n",
       "        text-align: right;\n",
       "    }\n",
       "</style>\n",
       "<table border=\"1\" class=\"dataframe\">\n",
       "  <thead>\n",
       "    <tr style=\"text-align: right;\">\n",
       "      <th></th>\n",
       "      <th>project</th>\n",
       "      <th>risk</th>\n",
       "      <th>stakeholder</th>\n",
       "      <th>idx</th>\n",
       "    </tr>\n",
       "  </thead>\n",
       "  <tbody>\n",
       "    <tr>\n",
       "      <th>0</th>\n",
       "      <td>Geological CO2 sequestration</td>\n",
       "      <td>Mitigation of anthropogenic carbon dioxide emi...</td>\n",
       "      <td>None</td>\n",
       "      <td>0.0</td>\n",
       "    </tr>\n",
       "    <tr>\n",
       "      <th>1</th>\n",
       "      <td>development and validation of a discrete event...</td>\n",
       "      <td>None</td>\n",
       "      <td>commercial vehicles passing through the area</td>\n",
       "      <td>1.0</td>\n",
       "    </tr>\n",
       "    <tr>\n",
       "      <th>2</th>\n",
       "      <td>Urban renaissance project in the area of Gazi</td>\n",
       "      <td>Pollution from the industrial use of Gazi|whic...</td>\n",
       "      <td>Residents of Gazi|environmental activists|loca...</td>\n",
       "      <td>2.0</td>\n",
       "    </tr>\n",
       "    <tr>\n",
       "      <th>3</th>\n",
       "      <td>simulation of changes in live carbon stocks in...</td>\n",
       "      <td>droughts</td>\n",
       "      <td>forest ecosystem|climate change</td>\n",
       "      <td>4.0</td>\n",
       "    </tr>\n",
       "    <tr>\n",
       "      <th>4</th>\n",
       "      <td>Ecological enhancement of coastal and marine i...</td>\n",
       "      <td>degraded or reduced habitat for native species</td>\n",
       "      <td>ecosystem and habitat value|this paper present...</td>\n",
       "      <td>5.0</td>\n",
       "    </tr>\n",
       "  </tbody>\n",
       "</table>\n",
       "</div>"
      ],
      "text/plain": [
       "                                             project  \\\n",
       "0                       Geological CO2 sequestration   \n",
       "1  development and validation of a discrete event...   \n",
       "2      Urban renaissance project in the area of Gazi   \n",
       "3  simulation of changes in live carbon stocks in...   \n",
       "4  Ecological enhancement of coastal and marine i...   \n",
       "\n",
       "                                                risk  \\\n",
       "0  Mitigation of anthropogenic carbon dioxide emi...   \n",
       "1                                               None   \n",
       "2  Pollution from the industrial use of Gazi|whic...   \n",
       "3                                           droughts   \n",
       "4     degraded or reduced habitat for native species   \n",
       "\n",
       "                                         stakeholder  idx  \n",
       "0                                               None  0.0  \n",
       "1       commercial vehicles passing through the area  1.0  \n",
       "2  Residents of Gazi|environmental activists|loca...  2.0  \n",
       "3                    forest ecosystem|climate change  4.0  \n",
       "4  ecosystem and habitat value|this paper present...  5.0  "
      ]
     },
     "execution_count": 127,
     "metadata": {},
     "output_type": "execute_result"
    }
   ],
   "source": [
    "result = pd.read_csv(r\"./Generated_Result/1k.csv\", sep=\";\", header=0).fillna(\"None\")\n",
    "result.head()"
   ]
  },
  {
   "cell_type": "code",
   "execution_count": 139,
   "metadata": {},
   "outputs": [
    {
     "name": "stdout",
     "output_type": "stream",
     "text": [
      "Column 'project' has 763 useless element(s) compare with 9085 /10_000 \n",
      "          0.08 at indices: [7, 9, 11, 12, 14, 15, 37, 40, 42, 67, 77, 89, 107, 114, 115, 116, 123, 159, 162, 178, 208, 225, 233, 238, 250, 254, 257, 293, 294, 337, 350, 357, 358, 360, 364, 411, 425, 482, 483, 491, 496, 505, 517, 521, 568, 580, 591, 596, 601, 603, 607, 618, 623, 638, 644, 671, 681, 684, 693, 711, 714, 729, 731, 754, 757, 769, 797, 814, 846, 847, 851, 855, 856, 861, 871, 874, 882, 899, 904, 907, 911, 917, 925, 944, 945, 947, 964, 966, 972, 978, 990, 991, 994, 1014, 1040, 1041, 1069, 1083, 1092, 1113, 1117, 1122, 1135, 1136, 1144, 1155, 1161, 1189, 1206, 1230, 1234, 1248, 1249, 1261, 1266, 1277, 1285, 1286, 1287, 1292, 1299, 1333, 1344, 1345, 1352, 1362, 1368, 1370, 1391, 1397, 1401, 1410, 1422, 1426, 1434, 1436, 1443, 1453, 1470, 1471, 1485, 1535, 1540, 1546, 1550, 1560, 1572, 1576, 1582, 1585, 1592, 1609, 1610, 1638, 1643, 1653, 1656, 1659, 1662, 1709, 1710, 1712, 1727, 1735, 1740, 1744, 1754, 1760, 1781, 1787, 1799, 1825, 1832, 1846, 1847, 1857, 1875, 1877, 1879, 1893, 1917, 1923, 1929, 1934, 1935, 1936, 1960, 1970, 2000, 2006, 2009, 2020, 2025, 2035, 2043, 2052, 2058, 2060, 2073, 2076, 2111, 2134, 2137, 2151, 2179, 2197, 2208, 2209, 2220, 2227, 2238, 2244, 2251, 2252, 2254, 2258, 2286, 2287, 2291, 2307, 2312, 2318, 2321, 2328, 2330, 2337, 2341, 2352, 2367, 2380, 2421, 2436, 2440, 2458, 2460, 2475, 2495, 2500, 2511, 2527, 2538, 2552, 2563, 2585, 2596, 2603, 2610, 2627, 2636, 2662, 2668, 2691, 2698, 2707, 2716, 2719, 2727, 2747, 2761, 2762, 2797, 2806, 2808, 2824, 2831, 2832, 2837, 2844, 2856, 2868, 2877, 2880, 2881, 2897, 2899, 2931, 2933, 2941, 2942, 2959, 2969, 2976, 3011, 3020, 3060, 3062, 3065, 3084, 3085, 3111, 3113, 3118, 3122, 3131, 3141, 3146, 3156, 3160, 3168, 3173, 3185, 3199, 3211, 3216, 3225, 3230, 3235, 3251, 3252, 3275, 3288, 3298, 3302, 3303, 3311, 3315, 3341, 3351, 3352, 3357, 3359, 3363, 3365, 3404, 3413, 3423, 3427, 3430, 3443, 3444, 3448, 3484, 3500, 3503, 3504, 3512, 3534, 3562, 3567, 3584, 3585, 3586, 3587, 3588, 3658, 3671, 3687, 3693, 3702, 3703, 3718, 3719, 3752, 3755, 3760, 3764, 3771, 3779, 3783, 3799, 3861, 3879, 3924, 3925, 3931, 3948, 3979, 3990, 4035, 4036, 4046, 4079, 4080, 4081, 4112, 4124, 4136, 4137, 4138, 4156, 4160, 4163, 4166, 4201, 4219, 4222, 4254, 4283, 4286, 4300, 4305, 4334, 4359, 4361, 4364, 4373, 4376, 4382, 4386, 4403, 4406, 4410, 4411, 4412, 4427, 4435, 4451, 4452, 4453, 4454, 4470, 4479, 4485, 4496, 4500, 4510, 4527, 4546, 4550, 4555, 4558, 4607, 4616, 4625, 4646, 4655, 4657, 4664, 4667, 4685, 4707, 4740, 4759, 4798, 4801, 4819, 4845, 4847, 4853, 4874, 4881, 4883, 4904, 4925, 4930, 4935, 4946, 4965, 4967, 4991, 5001, 5015, 5033, 5049, 5051, 5068, 5078, 5084, 5085, 5097, 5110, 5134, 5147, 5152, 5163, 5182, 5185, 5190, 5197, 5207, 5236, 5254, 5278, 5279, 5281, 5320, 5347, 5354, 5359, 5361, 5394, 5395, 5397, 5399, 5400, 5411, 5412, 5432, 5460, 5469, 5481, 5509, 5512, 5522, 5538, 5548, 5567, 5584, 5623, 5633, 5648, 5667, 5685, 5687, 5689, 5706, 5716, 5722, 5723, 5742, 5746, 5797, 5801, 5803, 5809, 5862, 5865, 5869, 5924, 5931, 5958, 5961, 5979, 5997, 6000, 6002, 6007, 6011, 6022, 6023, 6032, 6035, 6039, 6054, 6068, 6084, 6103, 6110, 6120, 6138, 6142, 6149, 6169, 6173, 6174, 6181, 6187, 6199, 6204, 6240, 6257, 6260, 6266, 6272, 6295, 6299, 6320, 6339, 6362, 6373, 6379, 6384, 6405, 6416, 6434, 6435, 6436, 6447, 6469, 6471, 6487, 6500, 6502, 6510, 6519, 6527, 6538, 6579, 6585, 6600, 6612, 6665, 6669, 6670, 6679, 6728, 6740, 6742, 6748, 6769, 6771, 6775, 6810, 6813, 6877, 6933, 6943, 6960, 6991, 7013, 7032, 7049, 7056, 7077, 7090, 7119, 7143, 7147, 7198, 7200, 7201, 7218, 7233, 7264, 7279, 7295, 7312, 7318, 7319, 7320, 7321, 7325, 7341, 7342, 7368, 7383, 7391, 7393, 7397, 7400, 7421, 7424, 7426, 7429, 7438, 7441, 7447, 7448, 7460, 7461, 7491, 7516, 7522, 7525, 7553, 7555, 7573, 7574, 7579, 7592, 7595, 7603, 7637, 7646, 7666, 7667, 7678, 7715, 7717, 7738, 7741, 7752, 7790, 7799, 7811, 7819, 7822, 7839, 7842, 7843, 7845, 7849, 7858, 7883, 7908, 7917, 7928, 7980, 8015, 8027, 8037, 8038, 8082, 8084, 8093, 8097, 8102, 8148, 8173, 8177, 8189, 8193, 8212, 8235, 8244, 8248, 8252, 8261, 8264, 8265, 8266, 8289, 8319, 8329, 8344, 8346, 8377, 8381, 8382, 8385, 8402, 8422, 8439, 8461, 8468, 8491, 8495, 8496, 8540, 8555, 8556, 8572, 8575, 8577, 8581, 8587, 8610, 8611, 8651, 8655, 8666, 8679, 8703, 8713, 8717, 8718, 8720, 8725, 8734, 8749, 8796, 8810, 8821, 8822, 8839, 8846, 8863, 8868, 8869, 8875, 8876, 8899, 8903, 8921, 8926, 8930, 8971, 8977, 9019, 9023, 9024, 9041, 9053]\n",
      "Column 'risk' has 2008 useless element(s) compare with 9085 /10_000 \n",
      "          0.22 at indices: [1, 7, 9, 11, 12, 14, 15, 19, 22, 26, 29, 30, 31, 32, 37, 40, 42, 43, 46, 59, 63, 81, 89, 92, 96, 98, 101, 103, 108, 111, 114, 131, 134, 136, 161, 163, 164, 170, 171, 180, 181, 183, 186, 192, 195, 202, 203, 206, 207, 219, 233, 237, 242, 246, 255, 258, 266, 273, 284, 285, 289, 290, 291, 294, 302, 310, 311, 325, 326, 328, 332, 334, 337, 340, 341, 342, 354, 355, 357, 358, 359, 365, 375, 378, 390, 393, 397, 402, 403, 406, 422, 425, 427, 432, 443, 444, 450, 451, 469, 477, 483, 486, 489, 491, 494, 502, 504, 505, 509, 510, 513, 515, 517, 519, 521, 531, 537, 559, 560, 563, 568, 569, 574, 579, 580, 583, 586, 589, 594, 596, 603, 612, 615, 618, 623, 627, 629, 630, 631, 632, 634, 650, 651, 660, 661, 669, 677, 681, 682, 684, 685, 695, 697, 701, 705, 712, 720, 722, 727, 729, 730, 732, 744, 746, 748, 758, 761, 763, 771, 777, 786, 791, 795, 797, 798, 799, 803, 804, 814, 824, 827, 828, 830, 832, 834, 844, 846, 851, 852, 855, 856, 857, 858, 866, 867, 874, 876, 878, 879, 881, 882, 886, 890, 896, 902, 904, 906, 911, 914, 915, 917, 918, 925, 927, 936, 938, 944, 957, 958, 967, 972, 975, 976, 980, 994, 999, 1000, 1002, 1006, 1007, 1012, 1014, 1017, 1021, 1022, 1023, 1027, 1028, 1031, 1041, 1044, 1046, 1048, 1049, 1050, 1055, 1057, 1069, 1070, 1073, 1080, 1081, 1082, 1086, 1092, 1097, 1098, 1101, 1110, 1114, 1115, 1116, 1118, 1125, 1136, 1139, 1143, 1144, 1152, 1155, 1157, 1171, 1175, 1180, 1184, 1190, 1197, 1200, 1202, 1204, 1212, 1213, 1219, 1221, 1224, 1234, 1241, 1245, 1258, 1271, 1272, 1280, 1286, 1287, 1289, 1292, 1294, 1295, 1300, 1306, 1307, 1311, 1313, 1314, 1323, 1325, 1329, 1330, 1335, 1336, 1342, 1344, 1345, 1347, 1349, 1352, 1354, 1355, 1362, 1364, 1365, 1367, 1370, 1381, 1390, 1395, 1397, 1400, 1401, 1405, 1408, 1410, 1415, 1423, 1425, 1429, 1433, 1436, 1442, 1449, 1452, 1460, 1468, 1470, 1471, 1474, 1477, 1483, 1485, 1488, 1492, 1495, 1497, 1508, 1511, 1513, 1516, 1525, 1526, 1529, 1540, 1545, 1546, 1548, 1550, 1557, 1560, 1561, 1562, 1566, 1568, 1573, 1577, 1579, 1582, 1584, 1585, 1589, 1601, 1602, 1603, 1604, 1607, 1609, 1610, 1617, 1620, 1623, 1625, 1629, 1631, 1638, 1643, 1648, 1653, 1664, 1666, 1675, 1684, 1686, 1692, 1693, 1696, 1699, 1701, 1702, 1707, 1709, 1711, 1726, 1727, 1728, 1731, 1739, 1740, 1745, 1750, 1753, 1760, 1761, 1770, 1771, 1772, 1774, 1779, 1781, 1783, 1784, 1786, 1788, 1796, 1806, 1807, 1814, 1816, 1817, 1825, 1828, 1829, 1834, 1836, 1840, 1845, 1846, 1847, 1849, 1853, 1854, 1857, 1862, 1871, 1873, 1874, 1881, 1883, 1884, 1885, 1886, 1905, 1912, 1917, 1918, 1934, 1935, 1936, 1943, 1944, 1947, 1955, 1960, 1970, 1973, 1975, 1984, 1989, 1991, 1994, 2008, 2025, 2028, 2030, 2033, 2034, 2043, 2045, 2050, 2064, 2082, 2083, 2093, 2099, 2111, 2117, 2121, 2129, 2130, 2132, 2134, 2138, 2145, 2149, 2151, 2165, 2171, 2179, 2180, 2181, 2182, 2183, 2184, 2186, 2187, 2192, 2196, 2201, 2209, 2218, 2219, 2226, 2230, 2237, 2239, 2241, 2244, 2251, 2254, 2264, 2267, 2268, 2272, 2274, 2276, 2277, 2285, 2286, 2288, 2289, 2290, 2291, 2294, 2295, 2298, 2304, 2308, 2314, 2316, 2320, 2326, 2328, 2329, 2337, 2341, 2346, 2352, 2356, 2368, 2375, 2378, 2381, 2384, 2387, 2392, 2396, 2398, 2399, 2400, 2406, 2409, 2412, 2416, 2435, 2439, 2440, 2445, 2456, 2458, 2460, 2463, 2464, 2469, 2473, 2475, 2478, 2482, 2492, 2501, 2510, 2511, 2516, 2527, 2539, 2540, 2541, 2544, 2561, 2563, 2569, 2580, 2582, 2585, 2592, 2599, 2610, 2613, 2628, 2637, 2639, 2641, 2643, 2644, 2645, 2650, 2654, 2658, 2662, 2664, 2667, 2673, 2674, 2677, 2678, 2683, 2684, 2691, 2692, 2695, 2701, 2707, 2709, 2715, 2716, 2719, 2724, 2727, 2728, 2735, 2747, 2750, 2752, 2755, 2760, 2761, 2762, 2786, 2793, 2799, 2802, 2812, 2813, 2817, 2828, 2829, 2830, 2831, 2832, 2843, 2845, 2853, 2856, 2868, 2871, 2872, 2877, 2880, 2881, 2897, 2899, 2905, 2907, 2913, 2922, 2931, 2934, 2941, 2943, 2953, 2958, 2959, 2964, 2968, 2982, 2984, 2989, 2994, 2996, 3011, 3015, 3018, 3019, 3031, 3035, 3036, 3039, 3052, 3053, 3054, 3055, 3061, 3064, 3072, 3078, 3084, 3086, 3096, 3097, 3098, 3100, 3104, 3113, 3115, 3117, 3118, 3123, 3124, 3126, 3128, 3138, 3140, 3141, 3143, 3145, 3146, 3148, 3153, 3156, 3157, 3161, 3169, 3173, 3180, 3185, 3187, 3189, 3192, 3193, 3199, 3200, 3205, 3208, 3213, 3215, 3226, 3227, 3229, 3230, 3231, 3232, 3233, 3238, 3251, 3255, 3263, 3267, 3268, 3279, 3287, 3295, 3297, 3301, 3302, 3303, 3304, 3311, 3314, 3316, 3318, 3322, 3323, 3325, 3327, 3337, 3338, 3339, 3340, 3341, 3342, 3344, 3348, 3351, 3352, 3353, 3357, 3359, 3362, 3363, 3368, 3378, 3389, 3395, 3397, 3402, 3405, 3410, 3417, 3418, 3421, 3430, 3433, 3443, 3445, 3451, 3453, 3462, 3468, 3469, 3475, 3479, 3488, 3497, 3499, 3500, 3503, 3504, 3510, 3511, 3516, 3527, 3533, 3534, 3544, 3553, 3563, 3564, 3567, 3570, 3573, 3575, 3580, 3581, 3582, 3585, 3586, 3588, 3589, 3591, 3598, 3615, 3620, 3621, 3622, 3624, 3625, 3638, 3639, 3643, 3651, 3652, 3656, 3670, 3671, 3673, 3674, 3676, 3686, 3690, 3692, 3693, 3696, 3698, 3702, 3703, 3711, 3713, 3714, 3716, 3717, 3718, 3719, 3721, 3737, 3740, 3747, 3753, 3756, 3759, 3767, 3769, 3770, 3772, 3774, 3775, 3786, 3789, 3791, 3792, 3794, 3797, 3798, 3800, 3801, 3805, 3809, 3811, 3816, 3827, 3830, 3835, 3838, 3839, 3848, 3857, 3861, 3863, 3874, 3877, 3880, 3887, 3889, 3894, 3899, 3902, 3905, 3914, 3915, 3929, 3930, 3933, 3935, 3942, 3945, 3950, 3955, 3956, 3962, 3967, 3978, 3979, 3983, 3987, 3993, 4001, 4005, 4009, 4015, 4016, 4020, 4033, 4034, 4039, 4060, 4064, 4068, 4080, 4081, 4088, 4093, 4095, 4112, 4113, 4114, 4115, 4120, 4121, 4124, 4131, 4132, 4133, 4136, 4137, 4138, 4146, 4152, 4155, 4180, 4186, 4191, 4195, 4196, 4205, 4206, 4208, 4209, 4212, 4219, 4221, 4230, 4239, 4242, 4244, 4245, 4246, 4253, 4260, 4266, 4273, 4275, 4277, 4279, 4291, 4296, 4297, 4298, 4300, 4316, 4322, 4330, 4334, 4339, 4341, 4342, 4347, 4354, 4358, 4361, 4367, 4369, 4379, 4380, 4392, 4401, 4406, 4410, 4411, 4412, 4416, 4417, 4420, 4423, 4426, 4428, 4430, 4432, 4435, 4438, 4439, 4443, 4447, 4451, 4452, 4453, 4454, 4464, 4468, 4469, 4471, 4474, 4477, 4481, 4484, 4485, 4492, 4500, 4504, 4513, 4515, 4517, 4519, 4521, 4522, 4524, 4527, 4533, 4538, 4540, 4548, 4549, 4556, 4558, 4562, 4567, 4585, 4594, 4597, 4599, 4600, 4602, 4604, 4606, 4608, 4616, 4618, 4619, 4631, 4632, 4637, 4650, 4652, 4656, 4657, 4660, 4664, 4666, 4671, 4675, 4691, 4692, 4698, 4699, 4710, 4711, 4714, 4724, 4725, 4726, 4727, 4730, 4732, 4733, 4742, 4744, 4747, 4750, 4755, 4756, 4763, 4765, 4774, 4782, 4786, 4788, 4801, 4804, 4810, 4811, 4820, 4829, 4835, 4842, 4844, 4845, 4846, 4849, 4859, 4861, 4866, 4869, 4870, 4874, 4887, 4890, 4893, 4896, 4897, 4899, 4903, 4904, 4911, 4912, 4913, 4914, 4915, 4925, 4928, 4929, 4934, 4935, 4942, 4945, 4953, 4954, 4955, 4956, 4966, 4967, 4968, 4970, 4977, 4980, 4985, 4989, 4996, 5001, 5010, 5015, 5023, 5029, 5031, 5034, 5041, 5043, 5046, 5049, 5051, 5052, 5053, 5054, 5056, 5059, 5060, 5064, 5065, 5068, 5069, 5070, 5072, 5077, 5079, 5080, 5082, 5084, 5085, 5087, 5089, 5097, 5104, 5109, 5114, 5115, 5119, 5128, 5132, 5133, 5135, 5143, 5146, 5147, 5154, 5163, 5166, 5170, 5177, 5182, 5183, 5185, 5191, 5197, 5204, 5220, 5229, 5231, 5236, 5244, 5254, 5255, 5258, 5260, 5262, 5263, 5271, 5283, 5290, 5296, 5297, 5302, 5310, 5312, 5315, 5320, 5343, 5348, 5352, 5354, 5359, 5361, 5377, 5380, 5385, 5387, 5389, 5390, 5391, 5396, 5397, 5401, 5404, 5405, 5410, 5415, 5418, 5422, 5426, 5428, 5429, 5430, 5432, 5435, 5436, 5437, 5438, 5442, 5443, 5445, 5448, 5452, 5458, 5460, 5469, 5475, 5480, 5481, 5484, 5487, 5488, 5492, 5493, 5499, 5502, 5503, 5506, 5508, 5522, 5525, 5527, 5528, 5535, 5536, 5538, 5540, 5548, 5551, 5563, 5566, 5573, 5577, 5580, 5584, 5585, 5599, 5601, 5605, 5608, 5609, 5610, 5616, 5618, 5621, 5624, 5625, 5631, 5636, 5639, 5654, 5655, 5666, 5669, 5673, 5680, 5685, 5689, 5690, 5713, 5715, 5722, 5734, 5736, 5737, 5739, 5742, 5747, 5750, 5754, 5761, 5772, 5773, 5774, 5775, 5777, 5778, 5779, 5781, 5783, 5784, 5788, 5794, 5795, 5797, 5799, 5801, 5802, 5808, 5809, 5811, 5817, 5825, 5830, 5845, 5852, 5861, 5862, 5865, 5869, 5871, 5874, 5876, 5891, 5900, 5905, 5907, 5909, 5912, 5915, 5919, 5923, 5925, 5927, 5935, 5937, 5939, 5943, 5948, 5963, 5964, 5966, 5969, 5987, 5990, 5991, 5996, 6002, 6003, 6007, 6010, 6011, 6023, 6024, 6026, 6032, 6033, 6035, 6039, 6041, 6042, 6043, 6047, 6048, 6052, 6054, 6055, 6059, 6060, 6065, 6072, 6081, 6090, 6091, 6100, 6101, 6102, 6105, 6106, 6111, 6118, 6119, 6122, 6132, 6133, 6134, 6135, 6142, 6143, 6156, 6159, 6161, 6169, 6173, 6181, 6186, 6187, 6192, 6194, 6199, 6200, 6203, 6204, 6207, 6208, 6210, 6216, 6218, 6222, 6232, 6234, 6236, 6238, 6254, 6257, 6259, 6260, 6261, 6266, 6267, 6273, 6274, 6278, 6293, 6302, 6306, 6309, 6311, 6323, 6332, 6339, 6343, 6345, 6349, 6357, 6368, 6379, 6383, 6400, 6406, 6411, 6423, 6428, 6431, 6432, 6434, 6438, 6445, 6449, 6450, 6457, 6461, 6462, 6479, 6486, 6489, 6495, 6499, 6503, 6506, 6509, 6511, 6515, 6522, 6524, 6525, 6529, 6537, 6539, 6557, 6570, 6571, 6574, 6582, 6584, 6585, 6589, 6590, 6591, 6593, 6599, 6603, 6604, 6606, 6611, 6613, 6623, 6627, 6637, 6640, 6653, 6656, 6660, 6669, 6676, 6682, 6683, 6685, 6690, 6692, 6696, 6697, 6698, 6701, 6703, 6705, 6715, 6722, 6724, 6726, 6728, 6730, 6733, 6735, 6758, 6759, 6761, 6764, 6766, 6770, 6776, 6779, 6780, 6782, 6790, 6794, 6797, 6800, 6805, 6814, 6819, 6836, 6837, 6841, 6842, 6864, 6866, 6870, 6876, 6878, 6883, 6892, 6899, 6904, 6905, 6907, 6909, 6912, 6928, 6941, 6946, 6949, 6951, 6962, 6966, 6972, 6986, 6988, 6992, 6993, 6994, 6997, 7000, 7009, 7012, 7013, 7015, 7016, 7018, 7020, 7029, 7031, 7038, 7041, 7056, 7063, 7072, 7075, 7076, 7084, 7091, 7098, 7115, 7118, 7128, 7137, 7159, 7169, 7170, 7173, 7190, 7195, 7202, 7203, 7219, 7220, 7230, 7234, 7238, 7242, 7246, 7265, 7273, 7274, 7278, 7279, 7282, 7292, 7296, 7301, 7305, 7307, 7313, 7315, 7317, 7318, 7319, 7320, 7321, 7324, 7332, 7336, 7341, 7342, 7346, 7359, 7360, 7367, 7369, 7372, 7381, 7383, 7390, 7395, 7401, 7409, 7418, 7419, 7423, 7426, 7432, 7437, 7440, 7442, 7444, 7446, 7457, 7467, 7475, 7490, 7491, 7496, 7503, 7505, 7511, 7512, 7518, 7537, 7539, 7544, 7553, 7556, 7569, 7574, 7583, 7590, 7595, 7600, 7601, 7610, 7619, 7623, 7625, 7641, 7642, 7647, 7652, 7658, 7662, 7665, 7667, 7668, 7670, 7674, 7676, 7683, 7690, 7694, 7699, 7701, 7707, 7708, 7710, 7713, 7717, 7724, 7735, 7736, 7737, 7738, 7744, 7749, 7751, 7754, 7755, 7759, 7764, 7771, 7775, 7776, 7777, 7797, 7800, 7807, 7814, 7816, 7817, 7818, 7820, 7824, 7825, 7828, 7837, 7849, 7853, 7856, 7858, 7866, 7868, 7877, 7878, 7886, 7888, 7891, 7900, 7912, 7914, 7915, 7920, 7925, 7929, 7939, 7941, 7944, 7946, 7949, 7950, 7957, 7986, 7997, 7999, 8011, 8012, 8016, 8017, 8023, 8025, 8042, 8058, 8070, 8072, 8077, 8100, 8108, 8111, 8118, 8126, 8130, 8134, 8152, 8154, 8157, 8161, 8171, 8172, 8173, 8176, 8190, 8191, 8197, 8200, 8207, 8212, 8215, 8220, 8229, 8236, 8239, 8240, 8258, 8263, 8264, 8265, 8266, 8271, 8272, 8276, 8278, 8281, 8294, 8296, 8298, 8320, 8328, 8337, 8343, 8350, 8351, 8353, 8355, 8362, 8372, 8381, 8383, 8387, 8391, 8393, 8398, 8408, 8409, 8411, 8424, 8425, 8430, 8433, 8437, 8439, 8440, 8442, 8445, 8447, 8451, 8454, 8456, 8457, 8460, 8463, 8478, 8480, 8482, 8493, 8496, 8509, 8511, 8516, 8518, 8521, 8525, 8540, 8543, 8544, 8545, 8552, 8554, 8555, 8571, 8574, 8575, 8576, 8580, 8583, 8584, 8586, 8589, 8603, 8618, 8624, 8628, 8631, 8637, 8640, 8642, 8651, 8652, 8661, 8671, 8672, 8691, 8696, 8697, 8702, 8703, 8707, 8714, 8717, 8722, 8724, 8728, 8730, 8731, 8734, 8737, 8747, 8760, 8761, 8769, 8770, 8775, 8776, 8791, 8792, 8795, 8797, 8801, 8809, 8818, 8821, 8826, 8827, 8830, 8840, 8844, 8846, 8851, 8869, 8871, 8873, 8874, 8885, 8889, 8891, 8903, 8904, 8905, 8914, 8925, 8931, 8933, 8942, 8948, 8950, 8956, 8964, 8969, 8979, 8980, 8981, 8984, 8987, 8988, 8998, 9001, 9007, 9012, 9019, 9021, 9027, 9030, 9032, 9047, 9055, 9060, 9062, 9063, 9067, 9076, 9077]\n",
      "Column 'stakeholder' has 1622 useless element(s) compare with 9085 /10_000 \n",
      "          0.18 at indices: [0, 6, 9, 11, 12, 13, 14, 15, 25, 29, 30, 32, 35, 36, 37, 40, 42, 56, 60, 65, 66, 73, 88, 89, 92, 101, 103, 114, 116, 139, 140, 142, 143, 151, 153, 159, 169, 171, 179, 180, 206, 219, 227, 233, 239, 248, 249, 250, 258, 270, 278, 289, 290, 294, 326, 334, 337, 340, 342, 357, 358, 360, 362, 369, 375, 377, 396, 407, 425, 428, 432, 444, 483, 491, 494, 499, 505, 510, 515, 517, 519, 520, 531, 537, 568, 580, 586, 589, 596, 599, 601, 603, 607, 616, 618, 623, 631, 638, 647, 651, 655, 658, 665, 678, 681, 698, 700, 730, 731, 738, 745, 748, 754, 756, 757, 763, 766, 769, 781, 795, 803, 804, 814, 824, 828, 838, 846, 851, 855, 856, 861, 865, 868, 873, 882, 887, 898, 899, 900, 902, 904, 915, 917, 925, 934, 944, 945, 964, 971, 976, 985, 1003, 1004, 1006, 1022, 1023, 1027, 1028, 1032, 1055, 1066, 1069, 1072, 1073, 1079, 1087, 1088, 1092, 1098, 1113, 1115, 1119, 1124, 1135, 1136, 1140, 1143, 1150, 1153, 1155, 1157, 1162, 1183, 1185, 1186, 1194, 1199, 1200, 1206, 1212, 1219, 1234, 1242, 1248, 1249, 1279, 1282, 1286, 1299, 1302, 1304, 1306, 1307, 1309, 1316, 1323, 1325, 1336, 1344, 1345, 1349, 1351, 1362, 1364, 1368, 1391, 1393, 1397, 1401, 1410, 1415, 1417, 1425, 1427, 1433, 1436, 1442, 1450, 1452, 1456, 1460, 1466, 1468, 1470, 1471, 1477, 1480, 1485, 1488, 1492, 1495, 1502, 1505, 1529, 1546, 1548, 1550, 1563, 1576, 1582, 1585, 1604, 1608, 1609, 1617, 1620, 1625, 1628, 1629, 1643, 1653, 1660, 1663, 1664, 1669, 1672, 1686, 1696, 1699, 1701, 1705, 1709, 1711, 1726, 1727, 1728, 1731, 1735, 1737, 1739, 1740, 1745, 1746, 1750, 1751, 1753, 1757, 1760, 1772, 1786, 1799, 1807, 1815, 1825, 1836, 1841, 1846, 1847, 1857, 1865, 1870, 1875, 1877, 1881, 1883, 1900, 1903, 1910, 1917, 1935, 1936, 1937, 1942, 1950, 1955, 1959, 1960, 1970, 1974, 1981, 1988, 1989, 2009, 2020, 2030, 2033, 2034, 2038, 2048, 2050, 2060, 2061, 2064, 2076, 2101, 2111, 2117, 2149, 2177, 2179, 2183, 2187, 2193, 2197, 2202, 2204, 2205, 2208, 2216, 2218, 2227, 2237, 2244, 2262, 2264, 2267, 2274, 2275, 2286, 2287, 2288, 2291, 2292, 2304, 2312, 2318, 2328, 2337, 2352, 2362, 2364, 2367, 2375, 2381, 2387, 2391, 2393, 2395, 2396, 2400, 2407, 2412, 2439, 2440, 2444, 2445, 2460, 2473, 2495, 2511, 2527, 2530, 2552, 2559, 2569, 2571, 2573, 2576, 2593, 2603, 2605, 2610, 2613, 2627, 2643, 2648, 2650, 2654, 2655, 2657, 2664, 2683, 2691, 2706, 2707, 2709, 2710, 2715, 2720, 2741, 2742, 2747, 2757, 2761, 2762, 2767, 2781, 2799, 2802, 2806, 2816, 2824, 2825, 2831, 2833, 2834, 2837, 2839, 2843, 2844, 2856, 2872, 2877, 2881, 2897, 2903, 2907, 2912, 2916, 2922, 2928, 2931, 2934, 2935, 2940, 2941, 2943, 2946, 2958, 2959, 2976, 2985, 2990, 2997, 3000, 3001, 3005, 3011, 3013, 3021, 3026, 3039, 3040, 3044, 3052, 3060, 3076, 3078, 3083, 3084, 3098, 3104, 3111, 3112, 3113, 3120, 3124, 3131, 3133, 3140, 3145, 3146, 3159, 3168, 3171, 3173, 3184, 3188, 3192, 3194, 3199, 3205, 3208, 3211, 3213, 3221, 3225, 3230, 3231, 3233, 3238, 3251, 3252, 3253, 3255, 3267, 3275, 3284, 3298, 3303, 3311, 3315, 3319, 3321, 3322, 3325, 3337, 3339, 3340, 3344, 3347, 3352, 3357, 3358, 3364, 3366, 3368, 3369, 3372, 3381, 3404, 3416, 3426, 3430, 3443, 3444, 3455, 3461, 3478, 3479, 3481, 3496, 3499, 3503, 3504, 3511, 3512, 3513, 3515, 3516, 3519, 3522, 3533, 3544, 3570, 3573, 3580, 3584, 3586, 3587, 3597, 3619, 3621, 3629, 3638, 3639, 3642, 3643, 3647, 3663, 3670, 3673, 3674, 3676, 3686, 3690, 3692, 3694, 3703, 3716, 3717, 3719, 3737, 3742, 3747, 3751, 3752, 3755, 3759, 3769, 3770, 3792, 3798, 3801, 3811, 3834, 3844, 3848, 3861, 3863, 3864, 3870, 3877, 3902, 3907, 3912, 3914, 3915, 3922, 3923, 3924, 3931, 3933, 3949, 3952, 3955, 3959, 3962, 3978, 3980, 3981, 3990, 4001, 4006, 4009, 4011, 4020, 4022, 4034, 4035, 4038, 4049, 4064, 4079, 4080, 4084, 4093, 4097, 4112, 4113, 4124, 4133, 4136, 4137, 4138, 4140, 4153, 4155, 4158, 4166, 4182, 4193, 4194, 4196, 4201, 4205, 4210, 4212, 4218, 4221, 4222, 4233, 4245, 4256, 4273, 4275, 4279, 4286, 4293, 4297, 4300, 4307, 4308, 4311, 4313, 4331, 4334, 4339, 4349, 4358, 4359, 4373, 4376, 4382, 4386, 4403, 4406, 4410, 4411, 4412, 4427, 4435, 4451, 4452, 4453, 4454, 4464, 4470, 4474, 4477, 4479, 4484, 4491, 4496, 4498, 4500, 4510, 4514, 4515, 4519, 4521, 4527, 4533, 4538, 4546, 4549, 4558, 4566, 4570, 4572, 4577, 4583, 4587, 4593, 4607, 4616, 4629, 4637, 4645, 4652, 4664, 4666, 4687, 4690, 4691, 4692, 4698, 4699, 4710, 4714, 4715, 4718, 4724, 4725, 4730, 4733, 4734, 4740, 4751, 4753, 4765, 4795, 4798, 4799, 4801, 4806, 4811, 4812, 4816, 4821, 4822, 4835, 4843, 4845, 4846, 4853, 4855, 4866, 4871, 4874, 4883, 4890, 4897, 4901, 4912, 4925, 4935, 4939, 4945, 4946, 4949, 4954, 4966, 4980, 4994, 5000, 5001, 5002, 5015, 5016, 5023, 5041, 5045, 5046, 5049, 5051, 5059, 5064, 5068, 5069, 5070, 5072, 5074, 5075, 5077, 5078, 5079, 5084, 5089, 5097, 5115, 5128, 5135, 5147, 5156, 5163, 5177, 5182, 5187, 5191, 5197, 5199, 5200, 5201, 5207, 5209, 5212, 5214, 5227, 5228, 5236, 5237, 5238, 5254, 5255, 5262, 5263, 5278, 5279, 5281, 5296, 5304, 5305, 5309, 5310, 5312, 5313, 5320, 5326, 5348, 5354, 5359, 5361, 5362, 5376, 5380, 5390, 5397, 5402, 5404, 5410, 5414, 5418, 5422, 5423, 5428, 5430, 5432, 5437, 5442, 5452, 5460, 5469, 5481, 5484, 5493, 5505, 5508, 5509, 5515, 5522, 5545, 5560, 5566, 5567, 5572, 5577, 5592, 5609, 5610, 5616, 5634, 5641, 5648, 5651, 5657, 5666, 5668, 5670, 5685, 5687, 5689, 5690, 5711, 5716, 5721, 5722, 5723, 5729, 5730, 5733, 5737, 5738, 5750, 5757, 5761, 5769, 5788, 5789, 5795, 5796, 5801, 5809, 5832, 5860, 5862, 5869, 5871, 5874, 5875, 5878, 5881, 5883, 5886, 5895, 5897, 5900, 5916, 5917, 5924, 5927, 5937, 5940, 5947, 5948, 5950, 5958, 5961, 5963, 5964, 5969, 5972, 5982, 5988, 5990, 5991, 5993, 5996, 6000, 6002, 6003, 6007, 6010, 6015, 6016, 6022, 6023, 6025, 6032, 6035, 6042, 6043, 6047, 6059, 6065, 6072, 6076, 6081, 6094, 6100, 6103, 6104, 6106, 6114, 6118, 6120, 6124, 6134, 6138, 6143, 6149, 6151, 6155, 6156, 6157, 6161, 6165, 6169, 6171, 6173, 6181, 6187, 6192, 6194, 6197, 6204, 6210, 6218, 6227, 6232, 6236, 6247, 6257, 6260, 6261, 6262, 6267, 6273, 6278, 6287, 6291, 6302, 6306, 6330, 6343, 6358, 6359, 6368, 6373, 6374, 6379, 6383, 6396, 6398, 6400, 6401, 6404, 6406, 6411, 6423, 6438, 6439, 6457, 6458, 6462, 6467, 6469, 6476, 6486, 6488, 6489, 6495, 6496, 6502, 6505, 6509, 6511, 6514, 6519, 6522, 6524, 6529, 6531, 6537, 6538, 6539, 6541, 6550, 6553, 6568, 6579, 6589, 6590, 6591, 6599, 6603, 6605, 6611, 6612, 6613, 6620, 6621, 6627, 6628, 6637, 6638, 6653, 6655, 6668, 6669, 6672, 6678, 6679, 6682, 6684, 6685, 6687, 6688, 6690, 6696, 6697, 6698, 6700, 6701, 6703, 6707, 6715, 6717, 6722, 6727, 6728, 6730, 6732, 6734, 6735, 6745, 6758, 6759, 6760, 6766, 6771, 6773, 6779, 6780, 6790, 6794, 6797, 6799, 6809, 6810, 6813, 6819, 6833, 6841, 6842, 6862, 6866, 6867, 6870, 6878, 6882, 6891, 6899, 6901, 6903, 6904, 6905, 6907, 6912, 6936, 6941, 6943, 6946, 6958, 6959, 6961, 6962, 6972, 6984, 6985, 6987, 6989, 6991, 6993, 7000, 7007, 7011, 7012, 7013, 7015, 7016, 7020, 7029, 7031, 7032, 7033, 7039, 7045, 7052, 7055, 7056, 7059, 7063, 7072, 7073, 7076, 7081, 7092, 7098, 7104, 7107, 7108, 7110, 7111, 7115, 7118, 7122, 7123, 7128, 7138, 7166, 7169, 7170, 7173, 7179, 7190, 7191, 7197, 7202, 7210, 7218, 7220, 7234, 7235, 7238, 7241, 7242, 7248, 7259, 7261, 7264, 7265, 7267, 7273, 7274, 7276, 7278, 7281, 7282, 7283, 7292, 7295, 7307, 7312, 7313, 7318, 7319, 7320, 7321, 7324, 7341, 7342, 7348, 7352, 7355, 7359, 7360, 7367, 7368, 7369, 7372, 7381, 7387, 7390, 7393, 7395, 7397, 7398, 7401, 7421, 7425, 7426, 7431, 7438, 7439, 7440, 7442, 7444, 7446, 7448, 7461, 7465, 7475, 7482, 7489, 7490, 7491, 7492, 7496, 7503, 7505, 7507, 7509, 7525, 7537, 7539, 7544, 7551, 7553, 7554, 7569, 7573, 7575, 7582, 7590, 7592, 7595, 7596, 7600, 7601, 7613, 7617, 7619, 7626, 7635, 7636, 7638, 7641, 7645, 7646, 7648, 7649, 7652, 7664, 7674, 7678, 7683, 7686, 7691, 7694, 7695, 7701, 7703, 7705, 7707, 7713, 7715, 7717, 7719, 7720, 7723, 7730, 7731, 7737, 7738, 7740, 7744, 7756, 7759, 7760, 7771, 7774, 7777, 7784, 7789, 7790, 7798, 7799, 7807, 7811, 7814, 7816, 7817, 7820, 7826, 7828, 7832, 7849, 7868, 7870, 7871, 7873, 7877, 7878, 7883, 7900, 7903, 7911, 7912, 7914, 7917, 7928, 7931, 7941, 7944, 7945, 7949, 7961, 7962, 7967, 7977, 7980, 7994, 8013, 8017, 8023, 8025, 8038, 8039, 8043, 8050, 8067, 8068, 8070, 8072, 8078, 8082, 8089, 8097, 8100, 8102, 8105, 8107, 8108, 8111, 8115, 8118, 8121, 8123, 8125, 8133, 8134, 8135, 8143, 8147, 8148, 8151, 8157, 8162, 8172, 8173, 8176, 8188, 8189, 8191, 8193, 8200, 8207, 8211, 8212, 8215, 8220, 8229, 8237, 8240, 8241, 8247, 8257, 8261, 8264, 8265, 8266, 8272, 8276, 8291, 8292, 8294, 8296, 8298, 8305, 8314, 8319, 8324, 8327, 8328, 8333, 8340, 8342, 8343, 8348, 8350, 8351, 8353, 8355, 8358, 8362, 8371, 8372, 8375, 8381, 8383, 8384, 8408, 8414, 8422, 8423, 8430, 8433, 8439, 8440, 8442, 8443, 8447, 8454, 8457, 8461, 8463, 8468, 8469, 8475, 8482, 8489, 8491, 8496, 8510, 8517, 8518, 8525, 8539, 8543, 8545, 8554, 8556, 8557, 8562, 8568, 8572, 8580, 8581, 8583, 8585, 8586, 8587, 8590, 8603, 8610, 8624, 8625, 8628, 8634, 8637, 8640, 8647, 8651, 8655, 8660, 8661, 8672, 8675, 8691, 8696, 8698, 8702, 8703, 8707, 8712, 8717, 8722, 8724, 8726, 8727, 8731, 8747, 8749, 8753, 8757, 8760, 8769, 8779, 8793, 8796, 8797, 8801, 8803, 8810, 8818, 8821, 8822, 8827, 8831, 8846, 8852, 8863, 8864, 8871, 8884, 8889, 8894, 8899, 8900, 8903, 8904, 8905, 8915, 8917, 8918, 8922, 8930, 8932, 8933, 8934, 8949, 8951, 8956, 8963, 8964, 8982, 8989, 8991, 8998, 9007, 9012, 9018, 9019, 9023, 9024, 9027, 9030, 9032, 9037, 9041, 9046, 9055, 9056, 9061, 9063, 9065, 9075, 9076, 9078, 9081, 9083]\n",
      "Column 'idx' has 36 useless element(s) compare with 9085 /10_000 \n",
      "          0.0 at indices: [35, 110, 1150, 1853, 1989, 2793, 3044, 3083, 3381, 3515, 3597, 3643, 4038, 4084, 4251, 4254, 4293, 4311, 4572, 4751, 4812, 5045, 5127, 5376, 5399, 6374, 6925, 7179, 7492, 7496, 7749, 7944, 8107, 8121, 8510, 8963]\n"
     ]
    }
   ],
   "source": [
    "## detect how many useless element in each of column and get its index\n",
    "## useless element is words which inolves word \"None\"\n",
    "for col in result:\n",
    "    indices = [i for i, val in enumerate(result[col]) if \"None\" in str(val)]\n",
    "    print(f\"Column '{col}' has {len(indices)} useless element(s) compare with {result.shape[0]} /10_000 \\n\\\n",
    "          {round(len(indices)/result.shape[0], 2)} at indices: {indices}\")"
   ]
  },
  {
   "cell_type": "code",
   "execution_count": 133,
   "metadata": {},
   "outputs": [
    {
     "data": {
      "text/plain": [
       "9085"
      ]
     },
     "execution_count": 133,
     "metadata": {},
     "output_type": "execute_result"
    }
   ],
   "source": [
    "result.shape[0]\n",
    "# {real_time[0]: [*(real_time[1].split(\", \", -1) if real_time[1] else [])] for real_time in three_ele}, index"
   ]
  },
  {
   "cell_type": "code",
   "execution_count": null,
   "metadata": {},
   "outputs": [],
   "source": []
  },
  {
   "cell_type": "code",
   "execution_count": null,
   "metadata": {},
   "outputs": [],
   "source": []
  },
  {
   "cell_type": "code",
   "execution_count": null,
   "metadata": {},
   "outputs": [],
   "source": []
  },
  {
   "cell_type": "code",
   "execution_count": null,
   "metadata": {},
   "outputs": [],
   "source": []
  },
  {
   "cell_type": "code",
   "execution_count": null,
   "metadata": {},
   "outputs": [],
   "source": []
  },
  {
   "cell_type": "code",
   "execution_count": null,
   "metadata": {},
   "outputs": [],
   "source": []
  },
  {
   "cell_type": "code",
   "execution_count": null,
   "metadata": {},
   "outputs": [],
   "source": []
  },
  {
   "cell_type": "code",
   "execution_count": null,
   "metadata": {},
   "outputs": [],
   "source": []
  },
  {
   "cell_type": "code",
   "execution_count": null,
   "metadata": {},
   "outputs": [],
   "source": []
  }
 ],
 "metadata": {
  "kernelspec": {
   "display_name": "base",
   "language": "python",
   "name": "python3"
  },
  "language_info": {
   "codemirror_mode": {
    "name": "ipython",
    "version": 3
   },
   "file_extension": ".py",
   "mimetype": "text/x-python",
   "name": "python",
   "nbconvert_exporter": "python",
   "pygments_lexer": "ipython3",
   "version": "3.9.16"
  }
 },
 "nbformat": 4,
 "nbformat_minor": 2
}
