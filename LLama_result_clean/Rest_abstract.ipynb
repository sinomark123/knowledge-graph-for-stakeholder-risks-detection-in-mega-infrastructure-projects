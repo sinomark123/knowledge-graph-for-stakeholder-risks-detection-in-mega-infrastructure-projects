{
 "cells": [
  {
   "cell_type": "code",
   "execution_count": 226,
   "metadata": {},
   "outputs": [],
   "source": [
    "import pandas as pd\n",
    "import numpy as np\n",
    "from typing import *\n",
    "import re\n",
    "from three_answer import Answer\n",
    "from functools import reduce\n",
    "import operator"
   ]
  },
  {
   "cell_type": "code",
   "execution_count": 227,
   "metadata": {},
   "outputs": [],
   "source": [
    "content: str = \"\"\n",
    "read_content: str = \"\"\n",
    "with open(\"output/three_output1.txt\", \"r\") as file:\n",
    "    content=[ctnt.replace(\"*\", \"\").strip() for ctnt in file.readlines()]\n",
    "\n",
    "# with open(\"output/three_output.txt\", \"r\") as file:\n",
    "#     read_content=file.read()\n",
    "\n",
    "INTERTIAL_vocabulary = [\"sure\", \"I'd be happy\", \"happy\", \"please\", \"help\", \"given sentence\", \\\n",
    "                        \"I\", \"let\", \"based\", \"here are\", \"understood\", \"predictions\", \"mentioned\", \\\n",
    "                            \"sentence\"]\n",
    "escape_vocabulary=[re.escape(word) for word in INTERTIAL_vocabulary]\n",
    "pattern = rf\"\\b({'|'.join(escape_vocabulary)})\\b\""
   ]
  },
  {
   "cell_type": "code",
   "execution_count": 228,
   "metadata": {},
   "outputs": [
    {
     "data": {
      "text/plain": [
       "['Understood! Here are my predictions for each element you requested:',\n",
       " 'Project: Basin',\n",
       " 'Risk: Extreme weather events',\n",
       " 'Stakeholder: Local communities and governments  1000',\n",
       " '',\n",
       " \"Of course! I'd be happy to help you identify the keywords in the given sentence. Here are my predictions:\",\n",
       " 'Project: Stream flow augmentation',\n",
       " 'Risk: Ecological impacts',\n",
       " 'Stakeholder: Water agency and public',\n",
       " 'Please let me know if these labels are accurate, or if you would like me to adjust my prediction based on your feedback.  1001',\n",
       " '']"
      ]
     },
     "execution_count": 228,
     "metadata": {},
     "output_type": "execute_result"
    }
   ],
   "source": [
    "content[:11]"
   ]
  },
  {
   "cell_type": "code",
   "execution_count": 229,
   "metadata": {},
   "outputs": [],
   "source": [
    "def list_split(cent: List[str] = content):\n",
    "    index_int = 0\n",
    "    for idx, ele in enumerate(cent):\n",
    "        if re.search(r\"^\\d+$|\\d$\", ele):\n",
    "            yield content[index_int: idx+1]\n",
    "            index_int = idx+1\n",
    "    return content[index_int: ]"
   ]
  },
  {
   "cell_type": "code",
   "execution_count": 230,
   "metadata": {},
   "outputs": [],
   "source": [
    "res = list(list_split(content))"
   ]
  },
  {
   "cell_type": "code",
   "execution_count": 231,
   "metadata": {},
   "outputs": [],
   "source": [
    "def digital_distinction(target: str) -> List[str]:\n",
    "    \"\"\"\n",
    "    target here is supposed to be the last string of each response\n",
    "    \"\"\"\n",
    "    match = re.search(pattern=r\"\\d+$\", string=target)\n",
    "    if not match: return [target] # for three_output.txt\n",
    "    pos, dig= match.span(), match.group()\n",
    "    return [target[:pos[0]], dig]"
   ]
  },
  {
   "cell_type": "code",
   "execution_count": 232,
   "metadata": {},
   "outputs": [],
   "source": [
    "# res = [[*digital_distinction(sub_sec.pop(-1)), *sub_sec] for sub_sec in res]\n",
    "for idx, sub_sec in enumerate(res):\n",
    "    res[idx] = [sub_val \\\n",
    "                for val in map(digital_distinction, sub_sec) \\\n",
    "                    for sub_val in val]\n",
    "# res = [[reduce(operator.concat, digital_distinction(val)) \\\n",
    "#               for val in sub_sec]\\\n",
    "#                      for sub_sec in res ]\n",
    "# a bit problem, pop indeed prevent existence of extra the same value \n",
    "# but it makes the order of string into chaos"
   ]
  },
  {
   "cell_type": "code",
   "execution_count": 233,
   "metadata": {},
   "outputs": [],
   "source": [
    "def interial_check(tar: Union[str, int])-> Union[str, Union[bool, int]]:\n",
    "    if not isinstance(tar, str): return (None, False)\n",
    "    digital = r\"\\d+$\"\n",
    "    numbers = re.search(pattern=digital, string=tar) # return the ditigal words hidden in the last senntece\n",
    "    return re.search(pattern=pattern, string=tar, flags=re.IGNORECASE), int(numbers.group()) if numbers else False"
   ]
  },
  {
   "cell_type": "code",
   "execution_count": 234,
   "metadata": {},
   "outputs": [],
   "source": [
    "def prefix_clean(string):\n",
    "    if not isinstance(string, str): return string\n",
    "    pattern = r\"\\* |\\d+\\.\\s|\\`\"\n",
    "    matches = re.sub(pattern=pattern, repl='', string=string, flags=re.MULTILINE)\n",
    "    return matches"
   ]
  },
  {
   "cell_type": "code",
   "execution_count": 235,
   "metadata": {},
   "outputs": [],
   "source": [
    "\"\"\"\n",
    "structure of interial_check cannot be changed, better return a stable or single value \n",
    "\"\"\"\n",
    "test_res = [[prefix_clean(sub_nele) \\\n",
    "             for sub_nele in nele \\\n",
    "                if not (not sub_nele or interial_check(sub_nele)[0])] \\\n",
    "                    for nele in res]"
   ]
  },
  {
   "cell_type": "code",
   "execution_count": null,
   "metadata": {},
   "outputs": [],
   "source": [
    "# prefix_clean(res[1][-1])\n",
    "test_res[-10]"
   ]
  },
  {
   "cell_type": "code",
   "execution_count": 237,
   "metadata": {},
   "outputs": [],
   "source": [
    "def int_geter(tar: List[Union[str, int]]):\n",
    "    num = map(int, filter(lambda a: a.isdigit(), tar))\n",
    "    num = next(iter(num))\n",
    "    print(num, tar)\n",
    "    tar.pop(tar.index(str(num)))\n",
    "    return num, tar"
   ]
  },
  {
   "cell_type": "code",
   "execution_count": 238,
   "metadata": {},
   "outputs": [
    {
     "data": {
      "text/plain": [
       "['',\n",
       " 'Understood! Here are the three categories I have identified based on the given sentence:',\n",
       " 'Project: Climate model output analysis',\n",
       " 'Risk: Incorrect communication of aridity changes',\n",
       " 'Stakeholders: Hydroclimatologists, ecohydrologists  ',\n",
       " '9896']"
      ]
     },
     "execution_count": 238,
     "metadata": {},
     "output_type": "execute_result"
    }
   ],
   "source": [
    "res[-2]"
   ]
  },
  {
   "cell_type": "code",
   "execution_count": 252,
   "metadata": {},
   "outputs": [],
   "source": [
    "template: List[str] = [\"stakeholder:\", \"risk:\", \"project:\", \"stakeholders:\"] \n",
    "head_pattern = r\"^(?:{})\".format(\"|\".join(template))\n",
    "def honer_solution(obj: List[str]):\n",
    "    \"\"\"\n",
    "    problem 1: index may not be able always keep the number in the last line\n",
    "    problem 2: there will be extra explaination sentnece, find them out\n",
    "    \"\"\"\n",
    "    global head_pattern\n",
    "    three_ele, index = obj[:-1], obj[-1]\n",
    "    extra = []\n",
    "    for idx, _ in enumerate(three_ele):\n",
    "        while idx<len(three_ele) and not re.search(head_pattern, three_ele[idx], re.IGNORECASE):\n",
    "            category = re.search(head_pattern, three_ele[idx-1], re.IGNORECASE).group(0)\n",
    "            extra.append([category, three_ele.pop(idx)])\n",
    "\n",
    "    three_ele = [ab_ele.split(\":\") for ab_ele in three_ele]\n",
    "    return {real_time[0]: [*(real_time[1].split(\",\", -1) if real_time[1] else [])] for real_time in three_ele}, extra, index"
   ]
  },
  {
   "cell_type": "code",
   "execution_count": null,
   "metadata": {},
   "outputs": [],
   "source": [
    "abs_data = []\n",
    "for nuidx, val in enumerate(test_res):\n",
    "    try:\n",
    "        abs_data.append(honer_solution(val))\n",
    "    except Exception as e:\n",
    "        print(nuidx)\n",
    "        # break\n",
    "\n",
    "# possible worked for index 3740\n",
    "pattern = fr\"\\b({'|'.join(template)})\\s*[:-]\""
   ]
  },
  {
   "cell_type": "code",
   "execution_count": 261,
   "metadata": {},
   "outputs": [
    {
     "data": {
      "text/plain": [
       "['Project - Refers to the act of planting trees in an urban area.',\n",
       " 'Risk - Highlights the potential risks associated with tree planting, such as poor tree survival rates.',\n",
       " 'Stakeholder - Suggests that various stakeholders may be impacted by tree planting initiatives, including city officials, residents, and environmental groups.  ',\n",
       " '6433']"
      ]
     },
     "execution_count": 261,
     "metadata": {},
     "output_type": "execute_result"
    }
   ],
   "source": [
    "test_res[3740]"
   ]
  },
  {
   "cell_type": "code",
   "execution_count": 243,
   "metadata": {},
   "outputs": [
    {
     "data": {
      "text/plain": [
       "['Risk: None',\n",
       " 'Project: R.A.V.E. Space',\n",
       " 'Stakeholders:',\n",
       " 'Local communities',\n",
       " 'Inhabitants',\n",
       " 'Project partners (Interreg IIIB CADSES Programme)  ',\n",
       " '1872']"
      ]
     },
     "execution_count": 243,
     "metadata": {},
     "output_type": "execute_result"
    }
   ],
   "source": [
    "honer_solution(test_res[690]) "
   ]
  },
  {
   "cell_type": "code",
   "execution_count": 140,
   "metadata": {},
   "outputs": [],
   "source": [
    "hder, std_col = True, [\"Project\", \"Risk\", \"Stakeholder\", \"idx\"]\n",
    "for idv, order_ele in enumerate(abs_data):\n",
    "    normal, extra, index = order_ele\n",
    "    if not bool(normal): continue\n",
    "    normal[\"idx\"] = [index]\n",
    "    normal = {key: ['|'.join(value).strip()] if isinstance(value, list) else str(value) for key, value in normal.items()}\n",
    "    fuck_off = pd.DataFrame(normal).rename(columns={\"Stakeholders\": \"Stakeholder\"})\n",
    "    if len(fuck_off) < 4:\n",
    "        fuck_off = fuck_off.reindex(columns=std_col).fillna(\"None\")\n",
    "    try: \n",
    "        fuck_off.to_csv(\"Generated_Result/three_output1.csv\", index=False, mode=\"a\", header=hder)\n",
    "        hder = False\n",
    "    except Exception as e:\n",
    "        print(idv)"
   ]
  },
  {
   "cell_type": "code",
   "execution_count": 142,
   "metadata": {},
   "outputs": [
    {
     "data": {
      "text/plain": [
       "{'Risks': [], 'Stakeholders': [], 'idx': ['935']}"
      ]
     },
     "execution_count": 142,
     "metadata": {},
     "output_type": "execute_result"
    }
   ],
   "source": [
    "abs_data[821][0]"
   ]
  },
  {
   "cell_type": "code",
   "execution_count": 130,
   "metadata": {},
   "outputs": [
    {
     "data": {
      "text/plain": [
       "({'Project': [' Electricity generation sector'],\n",
       "  'Risk': [' Increased emissions through offsets'],\n",
       "  'Stakeholders': [' Host countries', ' project developers', ' investors'],\n",
       "  'idx': ['0']},\n",
       " [],\n",
       " '0')"
      ]
     },
     "execution_count": 130,
     "metadata": {},
     "output_type": "execute_result"
    }
   ],
   "source": [
    "abs_data[0]"
   ]
  },
  {
   "cell_type": "code",
   "execution_count": 124,
   "metadata": {},
   "outputs": [
    {
     "data": {
      "text/html": [
       "<div>\n",
       "<style scoped>\n",
       "    .dataframe tbody tr th:only-of-type {\n",
       "        vertical-align: middle;\n",
       "    }\n",
       "\n",
       "    .dataframe tbody tr th {\n",
       "        vertical-align: top;\n",
       "    }\n",
       "\n",
       "    .dataframe thead th {\n",
       "        text-align: right;\n",
       "    }\n",
       "</style>\n",
       "<table border=\"1\" class=\"dataframe\">\n",
       "  <thead>\n",
       "    <tr style=\"text-align: right;\">\n",
       "      <th></th>\n",
       "      <th>Project</th>\n",
       "      <th>Risk</th>\n",
       "      <th>Stakeholder</th>\n",
       "      <th>idx</th>\n",
       "    </tr>\n",
       "  </thead>\n",
       "  <tbody>\n",
       "    <tr>\n",
       "      <th>0</th>\n",
       "      <td>Urban drain restoration project</td>\n",
       "      <td>Cost savings through restoration</td>\n",
       "      <td>Homeowners and local government</td>\n",
       "      <td>959</td>\n",
       "    </tr>\n",
       "  </tbody>\n",
       "</table>\n",
       "</div>"
      ],
      "text/plain": [
       "                           Project                              Risk  \\\n",
       "0  Urban drain restoration project  Cost savings through restoration   \n",
       "\n",
       "                       Stakeholder  idx  \n",
       "0  Homeowners and local government  959  "
      ]
     },
     "execution_count": 124,
     "metadata": {},
     "output_type": "execute_result"
    }
   ],
   "source": [
    "# odle = abs_data[0][0]\n",
    "# odle[\"idx\"] = abs_data[0][-1]\n",
    "# {key: ['|'.join(value).strip()] if isinstance(value, list) else str(value) for key, value in odle.items()}\n",
    "fuck_off"
   ]
  },
  {
   "cell_type": "code",
   "execution_count": 127,
   "metadata": {},
   "outputs": [
    {
     "data": {
      "text/plain": [
       "['',\n",
       " 'Understood! Here are my predictions for each element mentioned in the sentence:',\n",
       " 'Risk: Delayed project completion',\n",
       " 'This phrase suggests that there might be dangers associated with completing the airport development project within the allotted time frame. These dangers could involve things like poor project management, insufficient funding, or unexpected obstacles during construction. By identifying these risks early on and developing strategies to mitigate them, project managers can reduce the likelihood of delays and ensure timely completion of the project.',\n",
       " 'Stakeholder: Airport users',\n",
       " 'These individuals may consist of travel',\n",
       " '253']"
      ]
     },
     "execution_count": 127,
     "metadata": {},
     "output_type": "execute_result"
    }
   ],
   "source": [
    "res[220]\n",
    "# {real_time[0]: [*(real_time[1].split(\", \", -1) if real_time[1] else [])] for real_time in three_ele}, index"
   ]
  },
  {
   "cell_type": "code",
   "execution_count": 6,
   "metadata": {},
   "outputs": [],
   "source": [
    "option2=\"\"\"Based on the given sentence, I have identified the following risks and their types:\n",
    "Risks:\n",
    "Risk 1: Landslide risk (geological risk)\n",
    "Risk Type: Seismic hazard risk\n",
    "Risk 2: Seismic risk (geological risk)\n",
    "Risk Type: Earthquake risk\n",
    "Risk 3: Structural risk (engineering risk)\n",
    "Risk Type: Failure of non-structural components risk\n",
    "\n",
    "Please note that these are my interpretations based on the given sentence, and there may be other potential risks and risk types that could be identified with further analysis.\"\"\"\n",
    "\n",
    "option3=\"\"\"  Of course! I'd be happy to help you identify and summarize the risks in the given sentence.\n",
    "Risks:\n",
    "* Terrorist attack\n",
    "* Structural stability\n",
    "* Accessibility to terrorists\n",
    "* Resistance to specific threat\n",
    "\n",
    "Risk Type:\n",
    "\n",
    "I have identified four types of risks in the sentence:\n",
    "1. Terrorist attack: This risk refers to the potential threat of a terrorist attack on the bridge, which could cause significant damage and disrupt the functioning of the bridge.\n",
    "2. Structural stability: This risk refers to the potential failure of the bridge's structural components, which could lead to a collapse of the bridge and cause harm to people and structures.\n",
    "3. Accessibility to terrorists: This risk refers to the ease with which terrorists could access the bridge and carry out a attack.\n",
    "4. Resistance to specific threat: This risk refers to the ability of the bridge's components to withstand a specific type of threat, such as a bomb or a missile attack.\n",
    "I hope this helps! Let me know if you have any further questions.\n",
    "\n",
    "\"\"\"\n",
    "test.append(option2)\n",
    "test.append(option3)\n"
   ]
  },
  {
   "cell_type": "code",
   "execution_count": 7,
   "metadata": {},
   "outputs": [
    {
     "name": "stdout",
     "output_type": "stream",
     "text": [
      "['0', '', 'Lack of data', 'Complex environmental conditions over time', 'Insufficient risk assessment', 'Inadequate risk control measures', '', '', '', 'Operational risk', 'Environmental risk', 'Data-related risk', 'Time-related risk', '', '0']\n",
      "['0', '', 'Neglecting maintenance work', 'Insufficient investment in maintenance', 'Growing backlog of maintenance work', 'Identification of maintenance significant units', 'Risk assessment of infrastructure systems', '', '', 'Operational risk', 'Financial risk', 'Reputation risk', 'Compliance risk', '', '0']\n",
      "['0', '', 'Drou']\n",
      "['0', '', ' Landslide risk (geological risk)', ' Seismic hazard risk', ' Seismic risk (geological risk)', ' Earthquake risk', ' Structural risk (engineering risk)', ' Failure of non-structural components risk', '', '0']\n",
      "['0', '', 'Terrorist attack', 'Structural stability', 'Accessibility to terrorists', 'Resistance to specific threat', '', '', '', '0', 'Terrorist attack: This risk refers to the potential threat of a terrorist attack on the bridge, which could cause significant damage and disrupt the functioning of the bridge.', \"Structural stability: This risk refers to the potential failure of the bridge's structural components, which could lead to a collapse of the bridge and cause harm to people and structures.\", 'Accessibility to terrorists: This risk refers to the ease with which terrorists could access the bridge and carry out a attack.', \"Resistance to specific threat: This risk refers to the ability of the bridge's components to withstand a specific type of threat, such as a bomb or a missile attack.\", '0', '', '']\n"
     ]
    }
   ],
   "source": [
    "%run each_answer.py\n",
    "sample1=[]\n",
    "\n",
    "for val in test:\n",
    "    proclass=Answer(val)\n",
    "    result=proclass.parse()\n",
    "    sample1.append(result)\n",
    "    print(result)"
   ]
  },
  {
   "cell_type": "code",
   "execution_count": 8,
   "metadata": {},
   "outputs": [],
   "source": [
    "# pattern = r\"[^a-zA-Z\\s,';-]+\"\n",
    "# for val in sample1[-2]:\n",
    "#     matches = re.split(pattern, val)\n",
    "#     print(matches)"
   ]
  },
  {
   "cell_type": "code",
   "execution_count": 12,
   "metadata": {},
   "outputs": [
    {
     "name": "stdout",
     "output_type": "stream",
     "text": [
      "(True, 6, 9)\n",
      "(True, 7, 9)\n",
      "(False, 3, 0)\n",
      "(False, 10, 0)\n",
      "(True, 6, 9)\n"
     ]
    }
   ],
   "source": [
    "%run each_answer.py\n",
    "for index, nounce in enumerate(test):\n",
    "    # if index == 4:\n",
    "    jack = ShortSentenceCut(nounce)\n",
    "    risk_set : List[str] = jack.input_structure()\n",
    "    print(risk_set)"
   ]
  },
  {
   "cell_type": "code",
   "execution_count": 13,
   "metadata": {},
   "outputs": [
    {
     "name": "stdout",
     "output_type": "stream",
     "text": [
      "True \n",
      "\n",
      " [{' Structural risk (engineering risk)', ' Seismic risk (geological risk)', ' Landslide risk (geological risk)'}, {' Seismic hazard risk', ' Earthquake risk', ' Failure of non-structural components risk'}]\n"
     ]
    }
   ],
   "source": [
    "%run each_answer.py\n",
    "jack = ShortSentenceCut(test[3])\n",
    "valid, value = jack.format_tracking()\n",
    "print(valid, \"\\n\\n\", value)"
   ]
  },
  {
   "cell_type": "code",
   "execution_count": 14,
   "metadata": {},
   "outputs": [],
   "source": [
    "# %run each_answer.py\n",
    "read_content=\"\"\n",
    "for val in [\"output/output.txt\", \"output/output1.txt\", \"output/output2.txt\", \"output/output3.txt\"]:\n",
    "    with open(val, \"r\") as file:\n",
    "        read_content+=file.read()\n",
    "\n",
    "all = read_content.split(\"\\n\\n\\n\")"
   ]
  },
  {
   "cell_type": "code",
   "execution_count": 78,
   "metadata": {},
   "outputs": [],
   "source": [
    "%run each_answer.py\n",
    "success = []\n",
    "\n",
    "for index, nounce in enumerate(all[:100]):\n",
    "    try:\n",
    "        jack = ShortSentenceCut(nounce)\n",
    "        risk_set : List[str] = jack.two_group()\n",
    "        success.append(risk_set)\n",
    "    except Exception as exp:\n",
    "        print(index, \"\\n\", exp)"
   ]
  },
  {
   "cell_type": "code",
   "execution_count": 77,
   "metadata": {},
   "outputs": [
    {
     "data": {
      "text/plain": [
       "{'anomaly': [],\n",
       " 'normal': {'compose': [('xxx risk (mentioned in the sentence as \"there is no reason to consider the model invalid for driver behavior in basic segments of the freeways in Iran, under non-congested conditions.\")',\n",
       "    0),\n",
       "   ('Uncertain position of vehicles (caused by their acceleration or deceleration)',\n",
       "    0),\n",
       "   ('Safety risk (related to the potential for accidents or injuries in emergency situations)',\n",
       "    0),\n",
       "   ('Environmental risk (related to the impact of environmental conditions on safety measures)',\n",
       "    0),\n",
       "   ('Equipment risk (related to the potential malfunctioning of safety equipment)',\n",
       "    0),\n",
       "   ('Emergency preparedness risk (related to the adequacy of emergency measures and training)',\n",
       "    0),\n",
       "   ('Human interaction risk (related to the potential for conflicts or inadequate communication among personnel in emergency situations)',\n",
       "    0)]}}"
      ]
     },
     "execution_count": 77,
     "metadata": {},
     "output_type": "execute_result"
    }
   ],
   "source": [
    "success[0]"
   ]
  },
  {
   "cell_type": "code",
   "execution_count": 80,
   "metadata": {},
   "outputs": [],
   "source": [
    "new_tough = []\n",
    "for idx, itm in enumerate(success):\n",
    "    kept = itm['normal']['compose']\n",
    "    for val in kept:\n",
    "        val = val + (idx, )\n",
    "        new_tough.append(val)"
   ]
  },
  {
   "cell_type": "code",
   "execution_count": 84,
   "metadata": {},
   "outputs": [],
   "source": [
    "val = pd.DataFrame(new_tough, columns=[\"risk\", \"types\", \"groups\"])"
   ]
  },
  {
   "cell_type": "code",
   "execution_count": 100,
   "metadata": {},
   "outputs": [
    {
     "data": {
      "text/html": [
       "<div>\n",
       "<style scoped>\n",
       "    .dataframe tbody tr th:only-of-type {\n",
       "        vertical-align: middle;\n",
       "    }\n",
       "\n",
       "    .dataframe tbody tr th {\n",
       "        vertical-align: top;\n",
       "    }\n",
       "\n",
       "    .dataframe thead th {\n",
       "        text-align: right;\n",
       "    }\n",
       "</style>\n",
       "<table border=\"1\" class=\"dataframe\">\n",
       "  <thead>\n",
       "    <tr style=\"text-align: right;\">\n",
       "      <th></th>\n",
       "      <th>risk</th>\n",
       "      <th>types</th>\n",
       "      <th>groups</th>\n",
       "    </tr>\n",
       "  </thead>\n",
       "  <tbody>\n",
       "    <tr>\n",
       "      <th>0</th>\n",
       "      <td>Lack of data</td>\n",
       "      <td>Environmental risk</td>\n",
       "      <td>0</td>\n",
       "    </tr>\n",
       "    <tr>\n",
       "      <th>1</th>\n",
       "      <td>Complex environmental conditions over time</td>\n",
       "      <td>Operational risk</td>\n",
       "      <td>0</td>\n",
       "    </tr>\n",
       "    <tr>\n",
       "      <th>2</th>\n",
       "      <td>Insufficient risk assessment</td>\n",
       "      <td>Data-related risk</td>\n",
       "      <td>0</td>\n",
       "    </tr>\n",
       "    <tr>\n",
       "      <th>3</th>\n",
       "      <td>Inadequate risk control measures</td>\n",
       "      <td>Time-related risk</td>\n",
       "      <td>0</td>\n",
       "    </tr>\n",
       "    <tr>\n",
       "      <th>4</th>\n",
       "      <td>Neglecting maintenance work</td>\n",
       "      <td>0</td>\n",
       "      <td>1</td>\n",
       "    </tr>\n",
       "  </tbody>\n",
       "</table>\n",
       "</div>"
      ],
      "text/plain": [
       "                                         risk               types  groups\n",
       "0                                Lack of data  Environmental risk       0\n",
       "1  Complex environmental conditions over time    Operational risk       0\n",
       "2                Insufficient risk assessment   Data-related risk       0\n",
       "3            Inadequate risk control measures   Time-related risk       0\n",
       "4                 Neglecting maintenance work                   0       1"
      ]
     },
     "execution_count": 100,
     "metadata": {},
     "output_type": "execute_result"
    }
   ],
   "source": [
    "val.head()"
   ]
  },
  {
   "cell_type": "code",
   "execution_count": null,
   "metadata": {},
   "outputs": [],
   "source": [
    "# Function to update values in the \"types\" and \"risk\" columns based on the condition\n",
    "def update_types_risk(row):\n",
    "    if not isinstance(row['types'], str):\n",
    "        return row[\"types\"], row[\"risk\"]\n",
    "\n",
    "    if row['types'].endswith(\"risk\"):\n",
    "        return row['risk'], row['types']\n",
    "    else:\n",
    "        return row['types'], row['risk']\n",
    "\n",
    "# Apply the function to update the \"types\" and \"risk\" columns\n",
    "val['types'], val['risk'] = zip(*val.apply(update_types_risk, axis=1))\n"
   ]
  },
  {
   "cell_type": "code",
   "execution_count": 105,
   "metadata": {},
   "outputs": [],
   "source": [
    "val.to_csv(\"embedding_draft.csv\", index=False)"
   ]
  },
  {
   "cell_type": "code",
   "execution_count": null,
   "metadata": {},
   "outputs": [],
   "source": []
  }
 ],
 "metadata": {
  "kernelspec": {
   "display_name": "base",
   "language": "python",
   "name": "python3"
  },
  "language_info": {
   "codemirror_mode": {
    "name": "ipython",
    "version": 3
   },
   "file_extension": ".py",
   "mimetype": "text/x-python",
   "name": "python",
   "nbconvert_exporter": "python",
   "pygments_lexer": "ipython3",
   "version": "3.9.16"
  }
 },
 "nbformat": 4,
 "nbformat_minor": 2
}
