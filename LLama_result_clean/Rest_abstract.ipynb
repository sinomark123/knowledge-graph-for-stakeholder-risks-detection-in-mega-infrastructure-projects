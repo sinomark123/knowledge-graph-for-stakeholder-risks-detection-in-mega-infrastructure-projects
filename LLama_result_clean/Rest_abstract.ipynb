{
 "cells": [
  {
   "cell_type": "code",
   "execution_count": 1,
   "metadata": {},
   "outputs": [],
   "source": [
    "import pandas as pd\n",
    "import numpy as np\n",
    "from typing import *\n",
    "import re\n",
    "from three_answer import Answer"
   ]
  },
  {
   "cell_type": "code",
   "execution_count": 76,
   "metadata": {},
   "outputs": [],
   "source": [
    "content: str = \"\"\n",
    "read_content: str = \"\"\n",
    "with open(\"output/three_output.txt\", \"r\") as file:\n",
    "    content=[ctnt.replace(\"*\", \"\").strip() for ctnt in file.readlines()]\n",
    "\n",
    "with open(\"output/three_output.txt\", \"r\") as file:\n",
    "    read_content=file.read()\n",
    "\n",
    "INTERTIAL_vocabulary = [\"sure\", \"I'd be happy\", \"happy\", \"please\", \"help\", \"given sentence\", \\\n",
    "                        \"I\", \"let\", \"based\", \"here are\", \"understood\", \"predictions\", \"mentioned\", \\\n",
    "                            \"sentence\"]\n",
    "escape_vocabulary=[re.escape(word) for word in INTERTIAL_vocabulary]\n",
    "pattern = rf\"\\b({'|'.join(escape_vocabulary)})\\b\""
   ]
  },
  {
   "cell_type": "code",
   "execution_count": null,
   "metadata": {},
   "outputs": [],
   "source": [
    "content[:11]"
   ]
  },
  {
   "cell_type": "code",
   "execution_count": 35,
   "metadata": {},
   "outputs": [],
   "source": [
    "def list_split(cent: List[str] = content):\n",
    "    index_int = 0\n",
    "    for idx, ele in enumerate(cent):\n",
    "        if re.search(r\"^\\d+$|\\d$\", ele):\n",
    "            yield content[index_int: idx+1]\n",
    "            index_int = idx+1\n",
    "    return content[index_int: ]"
   ]
  },
  {
   "cell_type": "code",
   "execution_count": 77,
   "metadata": {},
   "outputs": [],
   "source": [
    "res = list(list_split(content))"
   ]
  },
  {
   "cell_type": "code",
   "execution_count": 78,
   "metadata": {},
   "outputs": [],
   "source": [
    "test_res = res[:10].copy()"
   ]
  },
  {
   "cell_type": "code",
   "execution_count": 79,
   "metadata": {},
   "outputs": [],
   "source": [
    "def interial_check(tar: str):\n",
    "    return re.search(pattern=pattern, string=tar, flags=re.IGNORECASE)"
   ]
  },
  {
   "cell_type": "code",
   "execution_count": 106,
   "metadata": {},
   "outputs": [],
   "source": [
    "test_res = [[sub_nele for sub_nele in nele if not (not sub_nele or interial_check(sub_nele))] for nele in res]"
   ]
  },
  {
   "cell_type": "code",
   "execution_count": 120,
   "metadata": {},
   "outputs": [],
   "source": [
    "def honer_solution(obj: List[str]):\n",
    "    three_ele, index = obj[:-1], obj[-1]\n",
    "    three_ele = [ab_ele.split(\":\") for ab_ele in three_ele]\n",
    "    return {real_time[0]: [*(real_time[1].split(\",\", -1) if real_time[1] else [])] for real_time in three_ele}, index"
   ]
  },
  {
   "cell_type": "code",
   "execution_count": 124,
   "metadata": {},
   "outputs": [
    {
     "name": "stdout",
     "output_type": "stream",
     "text": [
      "220\n"
     ]
    }
   ],
   "source": [
    "abs_data = []\n",
    "for nuidx, val in enumerate(test_res):\n",
    "    try:\n",
    "        abs_data.append(honer_solution(val))\n",
    "    except IndexError as e:\n",
    "        print(nuidx)\n",
    "        break"
   ]
  },
  {
   "cell_type": "code",
   "execution_count": 125,
   "metadata": {},
   "outputs": [],
   "source": [
    "three_ele, index = val[:-1], val[-1]\n",
    "three_ele = [ab_ele.split(\":\") for ab_ele in three_ele]"
   ]
  },
  {
   "cell_type": "code",
   "execution_count": 127,
   "metadata": {},
   "outputs": [
    {
     "data": {
      "text/plain": [
       "['',\n",
       " 'Understood! Here are my predictions for each element mentioned in the sentence:',\n",
       " 'Risk: Delayed project completion',\n",
       " 'This phrase suggests that there might be dangers associated with completing the airport development project within the allotted time frame. These dangers could involve things like poor project management, insufficient funding, or unexpected obstacles during construction. By identifying these risks early on and developing strategies to mitigate them, project managers can reduce the likelihood of delays and ensure timely completion of the project.',\n",
       " 'Stakeholder: Airport users',\n",
       " 'These individuals may consist of travel',\n",
       " '253']"
      ]
     },
     "execution_count": 127,
     "metadata": {},
     "output_type": "execute_result"
    }
   ],
   "source": [
    "res[220]\n",
    "# {real_time[0]: [*(real_time[1].split(\", \", -1) if real_time[1] else [])] for real_time in three_ele}, index"
   ]
  },
  {
   "cell_type": "code",
   "execution_count": 6,
   "metadata": {},
   "outputs": [],
   "source": [
    "option2=\"\"\"Based on the given sentence, I have identified the following risks and their types:\n",
    "Risks:\n",
    "Risk 1: Landslide risk (geological risk)\n",
    "Risk Type: Seismic hazard risk\n",
    "Risk 2: Seismic risk (geological risk)\n",
    "Risk Type: Earthquake risk\n",
    "Risk 3: Structural risk (engineering risk)\n",
    "Risk Type: Failure of non-structural components risk\n",
    "\n",
    "Please note that these are my interpretations based on the given sentence, and there may be other potential risks and risk types that could be identified with further analysis.\"\"\"\n",
    "\n",
    "option3=\"\"\"  Of course! I'd be happy to help you identify and summarize the risks in the given sentence.\n",
    "Risks:\n",
    "* Terrorist attack\n",
    "* Structural stability\n",
    "* Accessibility to terrorists\n",
    "* Resistance to specific threat\n",
    "\n",
    "Risk Type:\n",
    "\n",
    "I have identified four types of risks in the sentence:\n",
    "1. Terrorist attack: This risk refers to the potential threat of a terrorist attack on the bridge, which could cause significant damage and disrupt the functioning of the bridge.\n",
    "2. Structural stability: This risk refers to the potential failure of the bridge's structural components, which could lead to a collapse of the bridge and cause harm to people and structures.\n",
    "3. Accessibility to terrorists: This risk refers to the ease with which terrorists could access the bridge and carry out a attack.\n",
    "4. Resistance to specific threat: This risk refers to the ability of the bridge's components to withstand a specific type of threat, such as a bomb or a missile attack.\n",
    "I hope this helps! Let me know if you have any further questions.\n",
    "\n",
    "\"\"\"\n",
    "test.append(option2)\n",
    "test.append(option3)\n"
   ]
  },
  {
   "cell_type": "code",
   "execution_count": 7,
   "metadata": {},
   "outputs": [
    {
     "name": "stdout",
     "output_type": "stream",
     "text": [
      "['0', '', 'Lack of data', 'Complex environmental conditions over time', 'Insufficient risk assessment', 'Inadequate risk control measures', '', '', '', 'Operational risk', 'Environmental risk', 'Data-related risk', 'Time-related risk', '', '0']\n",
      "['0', '', 'Neglecting maintenance work', 'Insufficient investment in maintenance', 'Growing backlog of maintenance work', 'Identification of maintenance significant units', 'Risk assessment of infrastructure systems', '', '', 'Operational risk', 'Financial risk', 'Reputation risk', 'Compliance risk', '', '0']\n",
      "['0', '', 'Drou']\n",
      "['0', '', ' Landslide risk (geological risk)', ' Seismic hazard risk', ' Seismic risk (geological risk)', ' Earthquake risk', ' Structural risk (engineering risk)', ' Failure of non-structural components risk', '', '0']\n",
      "['0', '', 'Terrorist attack', 'Structural stability', 'Accessibility to terrorists', 'Resistance to specific threat', '', '', '', '0', 'Terrorist attack: This risk refers to the potential threat of a terrorist attack on the bridge, which could cause significant damage and disrupt the functioning of the bridge.', \"Structural stability: This risk refers to the potential failure of the bridge's structural components, which could lead to a collapse of the bridge and cause harm to people and structures.\", 'Accessibility to terrorists: This risk refers to the ease with which terrorists could access the bridge and carry out a attack.', \"Resistance to specific threat: This risk refers to the ability of the bridge's components to withstand a specific type of threat, such as a bomb or a missile attack.\", '0', '', '']\n"
     ]
    }
   ],
   "source": [
    "%run each_answer.py\n",
    "sample1=[]\n",
    "\n",
    "for val in test:\n",
    "    proclass=Answer(val)\n",
    "    result=proclass.parse()\n",
    "    sample1.append(result)\n",
    "    print(result)"
   ]
  },
  {
   "cell_type": "code",
   "execution_count": 8,
   "metadata": {},
   "outputs": [],
   "source": [
    "# pattern = r\"[^a-zA-Z\\s,';-]+\"\n",
    "# for val in sample1[-2]:\n",
    "#     matches = re.split(pattern, val)\n",
    "#     print(matches)"
   ]
  },
  {
   "cell_type": "code",
   "execution_count": 12,
   "metadata": {},
   "outputs": [
    {
     "name": "stdout",
     "output_type": "stream",
     "text": [
      "(True, 6, 9)\n",
      "(True, 7, 9)\n",
      "(False, 3, 0)\n",
      "(False, 10, 0)\n",
      "(True, 6, 9)\n"
     ]
    }
   ],
   "source": [
    "%run each_answer.py\n",
    "for index, nounce in enumerate(test):\n",
    "    # if index == 4:\n",
    "    jack = ShortSentenceCut(nounce)\n",
    "    risk_set : List[str] = jack.input_structure()\n",
    "    print(risk_set)"
   ]
  },
  {
   "cell_type": "code",
   "execution_count": 13,
   "metadata": {},
   "outputs": [
    {
     "name": "stdout",
     "output_type": "stream",
     "text": [
      "True \n",
      "\n",
      " [{' Structural risk (engineering risk)', ' Seismic risk (geological risk)', ' Landslide risk (geological risk)'}, {' Seismic hazard risk', ' Earthquake risk', ' Failure of non-structural components risk'}]\n"
     ]
    }
   ],
   "source": [
    "%run each_answer.py\n",
    "jack = ShortSentenceCut(test[3])\n",
    "valid, value = jack.format_tracking()\n",
    "print(valid, \"\\n\\n\", value)"
   ]
  },
  {
   "cell_type": "code",
   "execution_count": 14,
   "metadata": {},
   "outputs": [],
   "source": [
    "# %run each_answer.py\n",
    "read_content=\"\"\n",
    "for val in [\"output/output.txt\", \"output/output1.txt\", \"output/output2.txt\", \"output/output3.txt\"]:\n",
    "    with open(val, \"r\") as file:\n",
    "        read_content+=file.read()\n",
    "\n",
    "all = read_content.split(\"\\n\\n\\n\")"
   ]
  },
  {
   "cell_type": "code",
   "execution_count": 78,
   "metadata": {},
   "outputs": [],
   "source": [
    "%run each_answer.py\n",
    "success = []\n",
    "\n",
    "for index, nounce in enumerate(all[:100]):\n",
    "    try:\n",
    "        jack = ShortSentenceCut(nounce)\n",
    "        risk_set : List[str] = jack.two_group()\n",
    "        success.append(risk_set)\n",
    "    except Exception as exp:\n",
    "        print(index, \"\\n\", exp)"
   ]
  },
  {
   "cell_type": "code",
   "execution_count": 77,
   "metadata": {},
   "outputs": [
    {
     "data": {
      "text/plain": [
       "{'anomaly': [],\n",
       " 'normal': {'compose': [('xxx risk (mentioned in the sentence as \"there is no reason to consider the model invalid for driver behavior in basic segments of the freeways in Iran, under non-congested conditions.\")',\n",
       "    0),\n",
       "   ('Uncertain position of vehicles (caused by their acceleration or deceleration)',\n",
       "    0),\n",
       "   ('Safety risk (related to the potential for accidents or injuries in emergency situations)',\n",
       "    0),\n",
       "   ('Environmental risk (related to the impact of environmental conditions on safety measures)',\n",
       "    0),\n",
       "   ('Equipment risk (related to the potential malfunctioning of safety equipment)',\n",
       "    0),\n",
       "   ('Emergency preparedness risk (related to the adequacy of emergency measures and training)',\n",
       "    0),\n",
       "   ('Human interaction risk (related to the potential for conflicts or inadequate communication among personnel in emergency situations)',\n",
       "    0)]}}"
      ]
     },
     "execution_count": 77,
     "metadata": {},
     "output_type": "execute_result"
    }
   ],
   "source": [
    "success[0]"
   ]
  },
  {
   "cell_type": "code",
   "execution_count": 80,
   "metadata": {},
   "outputs": [],
   "source": [
    "new_tough = []\n",
    "for idx, itm in enumerate(success):\n",
    "    kept = itm['normal']['compose']\n",
    "    for val in kept:\n",
    "        val = val + (idx, )\n",
    "        new_tough.append(val)"
   ]
  },
  {
   "cell_type": "code",
   "execution_count": 84,
   "metadata": {},
   "outputs": [],
   "source": [
    "val = pd.DataFrame(new_tough, columns=[\"risk\", \"types\", \"groups\"])"
   ]
  },
  {
   "cell_type": "code",
   "execution_count": 100,
   "metadata": {},
   "outputs": [
    {
     "data": {
      "text/html": [
       "<div>\n",
       "<style scoped>\n",
       "    .dataframe tbody tr th:only-of-type {\n",
       "        vertical-align: middle;\n",
       "    }\n",
       "\n",
       "    .dataframe tbody tr th {\n",
       "        vertical-align: top;\n",
       "    }\n",
       "\n",
       "    .dataframe thead th {\n",
       "        text-align: right;\n",
       "    }\n",
       "</style>\n",
       "<table border=\"1\" class=\"dataframe\">\n",
       "  <thead>\n",
       "    <tr style=\"text-align: right;\">\n",
       "      <th></th>\n",
       "      <th>risk</th>\n",
       "      <th>types</th>\n",
       "      <th>groups</th>\n",
       "    </tr>\n",
       "  </thead>\n",
       "  <tbody>\n",
       "    <tr>\n",
       "      <th>0</th>\n",
       "      <td>Lack of data</td>\n",
       "      <td>Environmental risk</td>\n",
       "      <td>0</td>\n",
       "    </tr>\n",
       "    <tr>\n",
       "      <th>1</th>\n",
       "      <td>Complex environmental conditions over time</td>\n",
       "      <td>Operational risk</td>\n",
       "      <td>0</td>\n",
       "    </tr>\n",
       "    <tr>\n",
       "      <th>2</th>\n",
       "      <td>Insufficient risk assessment</td>\n",
       "      <td>Data-related risk</td>\n",
       "      <td>0</td>\n",
       "    </tr>\n",
       "    <tr>\n",
       "      <th>3</th>\n",
       "      <td>Inadequate risk control measures</td>\n",
       "      <td>Time-related risk</td>\n",
       "      <td>0</td>\n",
       "    </tr>\n",
       "    <tr>\n",
       "      <th>4</th>\n",
       "      <td>Neglecting maintenance work</td>\n",
       "      <td>0</td>\n",
       "      <td>1</td>\n",
       "    </tr>\n",
       "  </tbody>\n",
       "</table>\n",
       "</div>"
      ],
      "text/plain": [
       "                                         risk               types  groups\n",
       "0                                Lack of data  Environmental risk       0\n",
       "1  Complex environmental conditions over time    Operational risk       0\n",
       "2                Insufficient risk assessment   Data-related risk       0\n",
       "3            Inadequate risk control measures   Time-related risk       0\n",
       "4                 Neglecting maintenance work                   0       1"
      ]
     },
     "execution_count": 100,
     "metadata": {},
     "output_type": "execute_result"
    }
   ],
   "source": [
    "val.head()"
   ]
  },
  {
   "cell_type": "code",
   "execution_count": null,
   "metadata": {},
   "outputs": [],
   "source": [
    "# Function to update values in the \"types\" and \"risk\" columns based on the condition\n",
    "def update_types_risk(row):\n",
    "    if not isinstance(row['types'], str):\n",
    "        return row[\"types\"], row[\"risk\"]\n",
    "\n",
    "    if row['types'].endswith(\"risk\"):\n",
    "        return row['risk'], row['types']\n",
    "    else:\n",
    "        return row['types'], row['risk']\n",
    "\n",
    "# Apply the function to update the \"types\" and \"risk\" columns\n",
    "val['types'], val['risk'] = zip(*val.apply(update_types_risk, axis=1))\n"
   ]
  },
  {
   "cell_type": "code",
   "execution_count": 105,
   "metadata": {},
   "outputs": [],
   "source": [
    "val.to_csv(\"embedding_draft.csv\", index=False)"
   ]
  },
  {
   "cell_type": "code",
   "execution_count": null,
   "metadata": {},
   "outputs": [],
   "source": []
  }
 ],
 "metadata": {
  "kernelspec": {
   "display_name": "base",
   "language": "python",
   "name": "python3"
  },
  "language_info": {
   "codemirror_mode": {
    "name": "ipython",
    "version": 3
   },
   "file_extension": ".py",
   "mimetype": "text/x-python",
   "name": "python",
   "nbconvert_exporter": "python",
   "pygments_lexer": "ipython3",
   "version": "3.9.16"
  }
 },
 "nbformat": 4,
 "nbformat_minor": 2
}
