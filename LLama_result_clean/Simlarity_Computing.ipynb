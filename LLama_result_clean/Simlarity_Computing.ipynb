{
  "cells": [
    {
      "cell_type": "code",
      "execution_count": 1,
      "metadata": {
        "id": "PF4iVIWftrEM"
      },
      "outputs": [],
      "source": [
        "import pandas as pd\n",
        "import numpy as np\n",
        "from typing import *\n",
        "import torch.nn.functional as F\n",
        "from torch import Tensor\n",
        "from transformers import AutoTokenizer, AutoModel\n",
        "import torch\n",
        "import sklearn\n",
        "from sentence_transformers import SentenceTransformer"
      ]
    },
    {
      "cell_type": "code",
      "execution_count": 2,
      "metadata": {
        "id": "l94dImaZtrEO"
      },
      "outputs": [],
      "source": [
        "import sklearn.cluster\n",
        "\n",
        "device = torch.device(\"cuda\" if torch.cuda.is_available() else \"cpu\")\n",
        "\n",
        "def average_pool(last_hidden_states: Tensor, attention_mask: Tensor) -> Tensor:\n",
        "    last_hidden = last_hidden_states.masked_fill(~attention_mask[..., None].bool(), 0.0)\n",
        "    # print(last_hidden.shape)\n",
        "    return last_hidden.sum(dim=1) / attention_mask.sum(dim=1)[..., None]"
      ]
    },
    {
      "cell_type": "code",
      "execution_count": 16,
      "metadata": {
        "id": "IOesscUMtrEP"
      },
      "outputs": [],
      "source": [
        "# tokenizer = AutoTokenizer.from_pretrained(r\"Embedding_Model/gte_base\")\n",
        "# model = AutoModel.from_pretrained(r\"Embedding_Model/gte_base\")\n",
        "model: SentenceTransformer = SentenceTransformer(r'Embedding_Model\\gte_base_sentence')\n",
        "model = model.to(device)"
      ]
    },
    {
      "cell_type": "code",
      "execution_count": 17,
      "metadata": {
        "id": "6dlziQN0trEP"
      },
      "outputs": [],
      "source": [
        "data_input = pd.read_csv(r\"Generated_Result\\40k.csv\", sep=\",\")"
      ]
    },
    {
      "cell_type": "code",
      "execution_count": 18,
      "metadata": {
        "colab": {
          "base_uri": "https://localhost:8080/",
          "height": 206
        },
        "id": "FXEwZDMjtrEQ",
        "outputId": "b5441077-a112-4d2a-8731-9c3672341b09"
      },
      "outputs": [
        {
          "data": {
            "text/html": [
              "<div>\n",
              "<style scoped>\n",
              "    .dataframe tbody tr th:only-of-type {\n",
              "        vertical-align: middle;\n",
              "    }\n",
              "\n",
              "    .dataframe tbody tr th {\n",
              "        vertical-align: top;\n",
              "    }\n",
              "\n",
              "    .dataframe thead th {\n",
              "        text-align: right;\n",
              "    }\n",
              "</style>\n",
              "<table border=\"1\" class=\"dataframe\">\n",
              "  <thead>\n",
              "    <tr style=\"text-align: right;\">\n",
              "      <th></th>\n",
              "      <th>project</th>\n",
              "      <th>risk</th>\n",
              "      <th>stakeholder</th>\n",
              "      <th>idx</th>\n",
              "    </tr>\n",
              "  </thead>\n",
              "  <tbody>\n",
              "    <tr>\n",
              "      <th>0</th>\n",
              "      <td>external dose assessment project|measurement e...</td>\n",
              "      <td>accident|air dose|environmental changes</td>\n",
              "      <td>participants|city officials in Minamisoma and ...</td>\n",
              "      <td>10000</td>\n",
              "    </tr>\n",
              "    <tr>\n",
              "      <th>1</th>\n",
              "      <td>land treatment unit</td>\n",
              "      <td>pollution migration</td>\n",
              "      <td>State of Sao Paulo|Brazil</td>\n",
              "      <td>10001</td>\n",
              "    </tr>\n",
              "    <tr>\n",
              "      <th>2</th>\n",
              "      <td>Design of a bioretention plantertrench infiltr...</td>\n",
              "      <td>Intercepting all of the runoff from a syntheti...</td>\n",
              "      <td>Urban retrofit project</td>\n",
              "      <td>10002</td>\n",
              "    </tr>\n",
              "    <tr>\n",
              "      <th>3</th>\n",
              "      <td>Construction site</td>\n",
              "      <td>Ecological environment damage low work efficie...</td>\n",
              "      <td>Surrounding environment (pollution monitoring ...</td>\n",
              "      <td>10004</td>\n",
              "    </tr>\n",
              "    <tr>\n",
              "      <th>4</th>\n",
              "      <td>Investigating the differences in urinary conce...</td>\n",
              "      <td>Air pollution|specifically PM25 and ozone|pose...</td>\n",
              "      <td>s Stud</td>\n",
              "      <td>10005</td>\n",
              "    </tr>\n",
              "  </tbody>\n",
              "</table>\n",
              "</div>"
            ],
            "text/plain": [
              "                                             project  \\\n",
              "0  external dose assessment project|measurement e...   \n",
              "1                                land treatment unit   \n",
              "2  Design of a bioretention plantertrench infiltr...   \n",
              "3                                  Construction site   \n",
              "4  Investigating the differences in urinary conce...   \n",
              "\n",
              "                                                risk  \\\n",
              "0            accident|air dose|environmental changes   \n",
              "1                                pollution migration   \n",
              "2  Intercepting all of the runoff from a syntheti...   \n",
              "3  Ecological environment damage low work efficie...   \n",
              "4  Air pollution|specifically PM25 and ozone|pose...   \n",
              "\n",
              "                                         stakeholder    idx  \n",
              "0  participants|city officials in Minamisoma and ...  10000  \n",
              "1                          State of Sao Paulo|Brazil  10001  \n",
              "2                             Urban retrofit project  10002  \n",
              "3  Surrounding environment (pollution monitoring ...  10004  \n",
              "4                                             s Stud  10005  "
            ]
          },
          "execution_count": 18,
          "metadata": {},
          "output_type": "execute_result"
        }
      ],
      "source": [
        "data_input.fillna(\"None\", inplace=True)\n",
        "data_input.head()"
      ]
    },
    {
      "cell_type": "code",
      "execution_count": 19,
      "metadata": {
        "colab": {
          "base_uri": "https://localhost:8080/"
        },
        "id": "L16mvTp4trEQ",
        "outputId": "66419f0f-17c9-4871-ffcd-ca8fdec46761"
      },
      "outputs": [
        {
          "name": "stdout",
          "output_type": "stream",
          "text": [
            "67548 77362 55630\n"
          ]
        }
      ],
      "source": [
        "stupid: Dict[str, List] = {}\n",
        "for col in [\"project\", \"risk\", \"stakeholder\"]:\n",
        "  temp = data_input.loc[:, col].values.tolist()\n",
        "  blyat = []\n",
        "  for tep_val in temp:\n",
        "    if tep_val[0] != tep_val[0] or tep_val==\"None\": continue\n",
        "    tep_val = tep_val.split(\"|\")\n",
        "    blyat = [*blyat, *tep_val]\n",
        "  stupid[col] = blyat\n",
        "\n",
        "# stupid_copy = {col: [val for val in data_input[col].str.split(\"|\", expand=True).stack().dropna()]\\\n",
        "#            for col in [\"Project\", \"Risk\", \"Stakeholder\"]}\n",
        "print(len(stupid[\"project\"]), len(stupid[\"risk\"]), len(stupid[\"stakeholder\"]))"
      ]
    },
    {
      "cell_type": "code",
      "execution_count": 23,
      "metadata": {
        "id": "3VHN7rEktrEQ"
      },
      "outputs": [],
      "source": [
        "temp_project = [stupid[\"risk\"][val: val+5] for val in range(0, len(stupid[\"risk\"]), 5)]"
      ]
    },
    {
      "cell_type": "code",
      "execution_count": null,
      "metadata": {
        "id": "DN8scjpZtrER"
      },
      "outputs": [],
      "source": [
        "# stupid[\"stakeholder\"][:5]\n",
        "temp_project[:5]"
      ]
    },
    {
      "cell_type": "code",
      "execution_count": 38,
      "metadata": {
        "id": "b3t2VUL3trER"
      },
      "outputs": [],
      "source": [
        "import math\n",
        "class Node:\n",
        "  def __init__(self, name, embeddings):\n",
        "    self.name: str =name\n",
        "    self.embeddings: np.ndarray = embeddings\n",
        "\n",
        "  def __call__(self):\n",
        "    return self.embeddings\n",
        "\n",
        "def embedding_value(col, max_lim=1000, threshold=200):\n",
        "    lens = max_lim if max_lim > threshold else len(stupid[col])\n",
        "    output_project = []\n",
        "    for item in range(0, math.ceil(lens/threshold)):\n",
        "        centre = stupid[col][item*threshold:(item+1)*threshold if (item+1)*threshold<lens-1 else lens-1]\n",
        "        if lens - item*threshold < 2_000:\n",
        "          print(item, len(centre), \"left\", lens - item*threshold)\n",
        "        # Tokenize the input texts\n",
        "        res = model.encode(centre, batch_size=len(centre), convert_to_numpy=1) # return a numpy vector in threhold * embedding dim shape\n",
        "        # should I use class Node\n",
        "        output_project.extend([Node(*new_one) for new_one in zip(centre, [*res])])\n",
        "        del res, centre\n",
        "    return output_project # use multi-processing next time"
      ]
    },
    {
      "cell_type": "code",
      "execution_count": 39,
      "metadata": {
        "colab": {
          "base_uri": "https://localhost:8080/"
        },
        "id": "DDgpgl5ytrER",
        "outputId": "55d7be7b-23f5-4841-ce69-97e1895b78c0"
      },
      "outputs": [
        {
          "name": "stdout",
          "output_type": "stream",
          "text": [
            "['project', 'risk', 'stakeholder', 'idx']\n"
          ]
        }
      ],
      "source": [
        "columns = data_input.columns.to_list()\n",
        "print(columns)\n",
        "# projectRes = embedding_value(col=columns[0], max_lim=1000, threshold=200)\n",
        "# len(projectRes)"
      ]
    },
    {
      "cell_type": "code",
      "execution_count": 40,
      "metadata": {
        "id": "EH-ol4KjtrER"
      },
      "outputs": [
        {
          "data": {
            "text/plain": [
              "77362"
            ]
          },
          "execution_count": 40,
          "metadata": {},
          "output_type": "execute_result"
        }
      ],
      "source": [
        "from importlib import reload\n",
        "# import word_embedding_acc as weacc\n",
        "# reload(weacc)\n",
        "len(stupid[\"risk\"])"
      ]
    },
    {
      "cell_type": "code",
      "execution_count": 41,
      "metadata": {
        "colab": {
          "base_uri": "https://localhost:8080/"
        },
        "id": "H13YFSdotrER",
        "outputId": "3a283413-81e5-4800-86cb-2987e220c6e0"
      },
      "outputs": [
        {
          "name": "stdout",
          "output_type": "stream",
          "text": [
            "377 200 left 1962\n",
            "378 200 left 1762\n",
            "379 200 left 1562\n",
            "380 200 left 1362\n",
            "381 200 left 1162\n",
            "382 200 left 962\n",
            "383 200 left 762\n",
            "384 200 left 562\n",
            "385 200 left 362\n",
            "386 161 left 162\n",
            "(77361, 769)\n"
          ]
        }
      ],
      "source": [
        "# %%time\n",
        "import concurrent.futures\n",
        "import gc\n",
        "\n",
        "counter = 0\n",
        "def main():\n",
        "    data = []\n",
        "    projectRes, newShape = [], 0\n",
        "    with concurrent.futures.ThreadPoolExecutor() as executor:\n",
        "        projectRes = executor.submit(embedding_value, col=columns[1], max_lim=10, threshold=200).result()\n",
        "    # projectRes = embedding_value(col = columns[1], max_lim=10, threshold=200)\n",
        "    newShape = len(projectRes)\n",
        "    for items in range(newShape):\n",
        "        pidx: Node = projectRes[items]\n",
        "        data.append([pidx.name, *pidx.embeddings])\n",
        "    dataset = pd.DataFrame(data, columns=[\"name\", *[f\"embedding_{val}\" for val in range(768)]])\n",
        "    return dataset\n",
        "\n",
        "if __name__ == \"__main__\":\n",
        "    dataset = main()\n",
        "    gc.collect()\n",
        "    print(dataset.shape)"
      ]
    },
    {
      "cell_type": "code",
      "execution_count": 42,
      "metadata": {
        "colab": {
          "base_uri": "https://localhost:8080/",
          "height": 377
        },
        "id": "Eex3NXNEGQ09",
        "outputId": "46ba9ee7-2b70-4c94-b45d-fbaddd3ad360"
      },
      "outputs": [
        {
          "data": {
            "text/html": [
              "<div>\n",
              "<style scoped>\n",
              "    .dataframe tbody tr th:only-of-type {\n",
              "        vertical-align: middle;\n",
              "    }\n",
              "\n",
              "    .dataframe tbody tr th {\n",
              "        vertical-align: top;\n",
              "    }\n",
              "\n",
              "    .dataframe thead th {\n",
              "        text-align: right;\n",
              "    }\n",
              "</style>\n",
              "<table border=\"1\" class=\"dataframe\">\n",
              "  <thead>\n",
              "    <tr style=\"text-align: right;\">\n",
              "      <th></th>\n",
              "      <th>name</th>\n",
              "      <th>embedding_0</th>\n",
              "      <th>embedding_1</th>\n",
              "      <th>embedding_2</th>\n",
              "      <th>embedding_3</th>\n",
              "      <th>embedding_4</th>\n",
              "      <th>embedding_5</th>\n",
              "      <th>embedding_6</th>\n",
              "      <th>embedding_7</th>\n",
              "      <th>embedding_8</th>\n",
              "      <th>...</th>\n",
              "      <th>embedding_758</th>\n",
              "      <th>embedding_759</th>\n",
              "      <th>embedding_760</th>\n",
              "      <th>embedding_761</th>\n",
              "      <th>embedding_762</th>\n",
              "      <th>embedding_763</th>\n",
              "      <th>embedding_764</th>\n",
              "      <th>embedding_765</th>\n",
              "      <th>embedding_766</th>\n",
              "      <th>embedding_767</th>\n",
              "    </tr>\n",
              "  </thead>\n",
              "  <tbody>\n",
              "    <tr>\n",
              "      <th>0</th>\n",
              "      <td>accident</td>\n",
              "      <td>-0.019590</td>\n",
              "      <td>-0.018509</td>\n",
              "      <td>-0.036323</td>\n",
              "      <td>-0.023507</td>\n",
              "      <td>0.057477</td>\n",
              "      <td>0.021330</td>\n",
              "      <td>0.061816</td>\n",
              "      <td>0.046516</td>\n",
              "      <td>-0.017038</td>\n",
              "      <td>...</td>\n",
              "      <td>0.022243</td>\n",
              "      <td>0.004786</td>\n",
              "      <td>-0.003610</td>\n",
              "      <td>-0.021985</td>\n",
              "      <td>0.046742</td>\n",
              "      <td>-0.037195</td>\n",
              "      <td>-0.016547</td>\n",
              "      <td>-0.001641</td>\n",
              "      <td>0.004159</td>\n",
              "      <td>0.008347</td>\n",
              "    </tr>\n",
              "    <tr>\n",
              "      <th>1</th>\n",
              "      <td>air dose</td>\n",
              "      <td>0.029340</td>\n",
              "      <td>0.040698</td>\n",
              "      <td>-0.005331</td>\n",
              "      <td>-0.036518</td>\n",
              "      <td>0.037146</td>\n",
              "      <td>0.008199</td>\n",
              "      <td>0.060314</td>\n",
              "      <td>0.017974</td>\n",
              "      <td>0.006976</td>\n",
              "      <td>...</td>\n",
              "      <td>-0.023678</td>\n",
              "      <td>-0.008291</td>\n",
              "      <td>-0.007202</td>\n",
              "      <td>-0.036296</td>\n",
              "      <td>0.012963</td>\n",
              "      <td>-0.014799</td>\n",
              "      <td>0.018555</td>\n",
              "      <td>0.028678</td>\n",
              "      <td>0.022601</td>\n",
              "      <td>0.019587</td>\n",
              "    </tr>\n",
              "    <tr>\n",
              "      <th>2</th>\n",
              "      <td>environmental changes</td>\n",
              "      <td>-0.001443</td>\n",
              "      <td>-0.012442</td>\n",
              "      <td>0.000558</td>\n",
              "      <td>-0.018727</td>\n",
              "      <td>0.088015</td>\n",
              "      <td>-0.001502</td>\n",
              "      <td>0.031800</td>\n",
              "      <td>0.064791</td>\n",
              "      <td>-0.042642</td>\n",
              "      <td>...</td>\n",
              "      <td>0.017494</td>\n",
              "      <td>0.006163</td>\n",
              "      <td>-0.014204</td>\n",
              "      <td>-0.024825</td>\n",
              "      <td>0.032355</td>\n",
              "      <td>-0.049312</td>\n",
              "      <td>-0.016147</td>\n",
              "      <td>-0.014306</td>\n",
              "      <td>0.016398</td>\n",
              "      <td>-0.006852</td>\n",
              "    </tr>\n",
              "    <tr>\n",
              "      <th>3</th>\n",
              "      <td>pollution migration</td>\n",
              "      <td>-0.000005</td>\n",
              "      <td>-0.014417</td>\n",
              "      <td>0.006132</td>\n",
              "      <td>0.000865</td>\n",
              "      <td>0.073386</td>\n",
              "      <td>0.028526</td>\n",
              "      <td>0.004738</td>\n",
              "      <td>0.042137</td>\n",
              "      <td>-0.033695</td>\n",
              "      <td>...</td>\n",
              "      <td>0.011427</td>\n",
              "      <td>-0.004061</td>\n",
              "      <td>-0.005336</td>\n",
              "      <td>-0.024035</td>\n",
              "      <td>0.031248</td>\n",
              "      <td>-0.044846</td>\n",
              "      <td>0.018250</td>\n",
              "      <td>-0.002414</td>\n",
              "      <td>-0.015324</td>\n",
              "      <td>-0.001739</td>\n",
              "    </tr>\n",
              "    <tr>\n",
              "      <th>4</th>\n",
              "      <td>Intercepting all of the runoff from a syntheti...</td>\n",
              "      <td>0.034530</td>\n",
              "      <td>-0.034736</td>\n",
              "      <td>0.046489</td>\n",
              "      <td>-0.012127</td>\n",
              "      <td>0.049874</td>\n",
              "      <td>0.016386</td>\n",
              "      <td>0.044432</td>\n",
              "      <td>0.041485</td>\n",
              "      <td>-0.032075</td>\n",
              "      <td>...</td>\n",
              "      <td>0.011834</td>\n",
              "      <td>0.034384</td>\n",
              "      <td>-0.053902</td>\n",
              "      <td>-0.032633</td>\n",
              "      <td>0.007691</td>\n",
              "      <td>-0.034596</td>\n",
              "      <td>0.006485</td>\n",
              "      <td>0.000472</td>\n",
              "      <td>-0.007849</td>\n",
              "      <td>0.015651</td>\n",
              "    </tr>\n",
              "  </tbody>\n",
              "</table>\n",
              "<p>5 rows × 769 columns</p>\n",
              "</div>"
            ],
            "text/plain": [
              "                                                name  embedding_0  \\\n",
              "0                                           accident    -0.019590   \n",
              "1                                           air dose     0.029340   \n",
              "2                              environmental changes    -0.001443   \n",
              "3                                pollution migration    -0.000005   \n",
              "4  Intercepting all of the runoff from a syntheti...     0.034530   \n",
              "\n",
              "   embedding_1  embedding_2  embedding_3  embedding_4  embedding_5  \\\n",
              "0    -0.018509    -0.036323    -0.023507     0.057477     0.021330   \n",
              "1     0.040698    -0.005331    -0.036518     0.037146     0.008199   \n",
              "2    -0.012442     0.000558    -0.018727     0.088015    -0.001502   \n",
              "3    -0.014417     0.006132     0.000865     0.073386     0.028526   \n",
              "4    -0.034736     0.046489    -0.012127     0.049874     0.016386   \n",
              "\n",
              "   embedding_6  embedding_7  embedding_8  ...  embedding_758  embedding_759  \\\n",
              "0     0.061816     0.046516    -0.017038  ...       0.022243       0.004786   \n",
              "1     0.060314     0.017974     0.006976  ...      -0.023678      -0.008291   \n",
              "2     0.031800     0.064791    -0.042642  ...       0.017494       0.006163   \n",
              "3     0.004738     0.042137    -0.033695  ...       0.011427      -0.004061   \n",
              "4     0.044432     0.041485    -0.032075  ...       0.011834       0.034384   \n",
              "\n",
              "   embedding_760  embedding_761  embedding_762  embedding_763  embedding_764  \\\n",
              "0      -0.003610      -0.021985       0.046742      -0.037195      -0.016547   \n",
              "1      -0.007202      -0.036296       0.012963      -0.014799       0.018555   \n",
              "2      -0.014204      -0.024825       0.032355      -0.049312      -0.016147   \n",
              "3      -0.005336      -0.024035       0.031248      -0.044846       0.018250   \n",
              "4      -0.053902      -0.032633       0.007691      -0.034596       0.006485   \n",
              "\n",
              "   embedding_765  embedding_766  embedding_767  \n",
              "0      -0.001641       0.004159       0.008347  \n",
              "1       0.028678       0.022601       0.019587  \n",
              "2      -0.014306       0.016398      -0.006852  \n",
              "3      -0.002414      -0.015324      -0.001739  \n",
              "4       0.000472      -0.007849       0.015651  \n",
              "\n",
              "[5 rows x 769 columns]"
            ]
          },
          "execution_count": 42,
          "metadata": {},
          "output_type": "execute_result"
        }
      ],
      "source": [
        "dataset.to_csv(rf\"Generated_Result/optimized embedding/{columns[1]}_{dataset.shape[0]}.csv\", index=False)\n",
        "dataset.head()"
      ]
    },
    {
      "cell_type": "code",
      "execution_count": 43,
      "metadata": {
        "colab": {
          "base_uri": "https://localhost:8080/"
        },
        "id": "LtboDiMTtrES",
        "outputId": "78d525a0-bc0a-44ab-9171-3e52b0f1798c"
      },
      "outputs": [],
      "source": [
        "import gc\n",
        "del dataset\n",
        "gc.collect()\n",
        "torch.cuda.empty_cache()"
      ]
    },
    {
      "cell_type": "markdown",
      "metadata": {
        "id": "14-QtywtbExU"
      },
      "source": [
        "### Code to Find simlarity"
      ]
    },
    {
      "cell_type": "code",
      "execution_count": 44,
      "metadata": {
        "colab": {
          "base_uri": "https://localhost:8080/",
          "height": 481
        },
        "id": "SryadN168iFy",
        "outputId": "0ac3f4b6-8f09-4fe8-85d8-6296535c9e6e"
      },
      "outputs": [
        {
          "data": {
            "text/html": [
              "<div>\n",
              "<style scoped>\n",
              "    .dataframe tbody tr th:only-of-type {\n",
              "        vertical-align: middle;\n",
              "    }\n",
              "\n",
              "    .dataframe tbody tr th {\n",
              "        vertical-align: top;\n",
              "    }\n",
              "\n",
              "    .dataframe thead th {\n",
              "        text-align: right;\n",
              "    }\n",
              "</style>\n",
              "<table border=\"1\" class=\"dataframe\">\n",
              "  <thead>\n",
              "    <tr style=\"text-align: right;\">\n",
              "      <th></th>\n",
              "      <th>name</th>\n",
              "      <th>embedding_0</th>\n",
              "      <th>embedding_1</th>\n",
              "      <th>embedding_2</th>\n",
              "      <th>embedding_3</th>\n",
              "      <th>embedding_4</th>\n",
              "      <th>embedding_5</th>\n",
              "      <th>embedding_6</th>\n",
              "      <th>embedding_7</th>\n",
              "      <th>embedding_8</th>\n",
              "      <th>...</th>\n",
              "      <th>embedding_758</th>\n",
              "      <th>embedding_759</th>\n",
              "      <th>embedding_760</th>\n",
              "      <th>embedding_761</th>\n",
              "      <th>embedding_762</th>\n",
              "      <th>embedding_763</th>\n",
              "      <th>embedding_764</th>\n",
              "      <th>embedding_765</th>\n",
              "      <th>embedding_766</th>\n",
              "      <th>embedding_767</th>\n",
              "    </tr>\n",
              "  </thead>\n",
              "  <tbody>\n",
              "    <tr>\n",
              "      <th>0</th>\n",
              "      <td>accident</td>\n",
              "      <td>-0.019590</td>\n",
              "      <td>-0.018509</td>\n",
              "      <td>-0.036323</td>\n",
              "      <td>-0.023507</td>\n",
              "      <td>0.057477</td>\n",
              "      <td>0.021330</td>\n",
              "      <td>0.061816</td>\n",
              "      <td>0.046516</td>\n",
              "      <td>-0.017038</td>\n",
              "      <td>...</td>\n",
              "      <td>0.022243</td>\n",
              "      <td>0.004786</td>\n",
              "      <td>-0.003610</td>\n",
              "      <td>-0.021985</td>\n",
              "      <td>0.046742</td>\n",
              "      <td>-0.037195</td>\n",
              "      <td>-0.016547</td>\n",
              "      <td>-0.001641</td>\n",
              "      <td>0.004159</td>\n",
              "      <td>0.008347</td>\n",
              "    </tr>\n",
              "    <tr>\n",
              "      <th>1</th>\n",
              "      <td>air dose</td>\n",
              "      <td>0.029340</td>\n",
              "      <td>0.040698</td>\n",
              "      <td>-0.005331</td>\n",
              "      <td>-0.036518</td>\n",
              "      <td>0.037146</td>\n",
              "      <td>0.008199</td>\n",
              "      <td>0.060314</td>\n",
              "      <td>0.017974</td>\n",
              "      <td>0.006976</td>\n",
              "      <td>...</td>\n",
              "      <td>-0.023678</td>\n",
              "      <td>-0.008291</td>\n",
              "      <td>-0.007202</td>\n",
              "      <td>-0.036296</td>\n",
              "      <td>0.012963</td>\n",
              "      <td>-0.014799</td>\n",
              "      <td>0.018555</td>\n",
              "      <td>0.028678</td>\n",
              "      <td>0.022601</td>\n",
              "      <td>0.019587</td>\n",
              "    </tr>\n",
              "    <tr>\n",
              "      <th>2</th>\n",
              "      <td>environmental changes</td>\n",
              "      <td>-0.001443</td>\n",
              "      <td>-0.012442</td>\n",
              "      <td>0.000558</td>\n",
              "      <td>-0.018727</td>\n",
              "      <td>0.088015</td>\n",
              "      <td>-0.001502</td>\n",
              "      <td>0.031800</td>\n",
              "      <td>0.064791</td>\n",
              "      <td>-0.042642</td>\n",
              "      <td>...</td>\n",
              "      <td>0.017494</td>\n",
              "      <td>0.006163</td>\n",
              "      <td>-0.014204</td>\n",
              "      <td>-0.024825</td>\n",
              "      <td>0.032355</td>\n",
              "      <td>-0.049312</td>\n",
              "      <td>-0.016147</td>\n",
              "      <td>-0.014306</td>\n",
              "      <td>0.016398</td>\n",
              "      <td>-0.006852</td>\n",
              "    </tr>\n",
              "    <tr>\n",
              "      <th>3</th>\n",
              "      <td>pollution migration</td>\n",
              "      <td>-0.000005</td>\n",
              "      <td>-0.014417</td>\n",
              "      <td>0.006132</td>\n",
              "      <td>0.000865</td>\n",
              "      <td>0.073386</td>\n",
              "      <td>0.028526</td>\n",
              "      <td>0.004738</td>\n",
              "      <td>0.042137</td>\n",
              "      <td>-0.033695</td>\n",
              "      <td>...</td>\n",
              "      <td>0.011427</td>\n",
              "      <td>-0.004061</td>\n",
              "      <td>-0.005336</td>\n",
              "      <td>-0.024035</td>\n",
              "      <td>0.031248</td>\n",
              "      <td>-0.044846</td>\n",
              "      <td>0.018250</td>\n",
              "      <td>-0.002414</td>\n",
              "      <td>-0.015324</td>\n",
              "      <td>-0.001739</td>\n",
              "    </tr>\n",
              "    <tr>\n",
              "      <th>4</th>\n",
              "      <td>Intercepting all of the runoff from a syntheti...</td>\n",
              "      <td>0.034530</td>\n",
              "      <td>-0.034736</td>\n",
              "      <td>0.046489</td>\n",
              "      <td>-0.012127</td>\n",
              "      <td>0.049874</td>\n",
              "      <td>0.016386</td>\n",
              "      <td>0.044432</td>\n",
              "      <td>0.041485</td>\n",
              "      <td>-0.032075</td>\n",
              "      <td>...</td>\n",
              "      <td>0.011834</td>\n",
              "      <td>0.034384</td>\n",
              "      <td>-0.053902</td>\n",
              "      <td>-0.032633</td>\n",
              "      <td>0.007691</td>\n",
              "      <td>-0.034596</td>\n",
              "      <td>0.006485</td>\n",
              "      <td>0.000472</td>\n",
              "      <td>-0.007849</td>\n",
              "      <td>0.015651</td>\n",
              "    </tr>\n",
              "  </tbody>\n",
              "</table>\n",
              "<p>5 rows × 769 columns</p>\n",
              "</div>"
            ],
            "text/plain": [
              "                                                name  embedding_0  \\\n",
              "0                                           accident    -0.019590   \n",
              "1                                           air dose     0.029340   \n",
              "2                              environmental changes    -0.001443   \n",
              "3                                pollution migration    -0.000005   \n",
              "4  Intercepting all of the runoff from a syntheti...     0.034530   \n",
              "\n",
              "   embedding_1  embedding_2  embedding_3  embedding_4  embedding_5  \\\n",
              "0    -0.018509    -0.036323    -0.023507     0.057477     0.021330   \n",
              "1     0.040698    -0.005331    -0.036518     0.037146     0.008199   \n",
              "2    -0.012442     0.000558    -0.018727     0.088015    -0.001502   \n",
              "3    -0.014417     0.006132     0.000865     0.073386     0.028526   \n",
              "4    -0.034736     0.046489    -0.012127     0.049874     0.016386   \n",
              "\n",
              "   embedding_6  embedding_7  embedding_8  ...  embedding_758  embedding_759  \\\n",
              "0     0.061816     0.046516    -0.017038  ...       0.022243       0.004786   \n",
              "1     0.060314     0.017974     0.006976  ...      -0.023678      -0.008291   \n",
              "2     0.031800     0.064791    -0.042642  ...       0.017494       0.006163   \n",
              "3     0.004738     0.042137    -0.033695  ...       0.011427      -0.004061   \n",
              "4     0.044432     0.041485    -0.032075  ...       0.011834       0.034384   \n",
              "\n",
              "   embedding_760  embedding_761  embedding_762  embedding_763  embedding_764  \\\n",
              "0      -0.003610      -0.021985       0.046742      -0.037195      -0.016547   \n",
              "1      -0.007202      -0.036296       0.012963      -0.014799       0.018555   \n",
              "2      -0.014204      -0.024825       0.032355      -0.049312      -0.016147   \n",
              "3      -0.005336      -0.024035       0.031248      -0.044846       0.018250   \n",
              "4      -0.053902      -0.032633       0.007691      -0.034596       0.006485   \n",
              "\n",
              "   embedding_765  embedding_766  embedding_767  \n",
              "0      -0.001641       0.004159       0.008347  \n",
              "1       0.028678       0.022601       0.019587  \n",
              "2      -0.014306       0.016398      -0.006852  \n",
              "3      -0.002414      -0.015324      -0.001739  \n",
              "4       0.000472      -0.007849       0.015651  \n",
              "\n",
              "[5 rows x 769 columns]"
            ]
          },
          "execution_count": 44,
          "metadata": {},
          "output_type": "execute_result"
        }
      ],
      "source": [
        "from sentence_transformers.util import cos_sim\n",
        "\n",
        "df = pd.read_csv(r\"Generated_Result\\optimized embedding\\risk_77361.csv\")\n",
        "col = df.columns\n",
        "# df = df.drop(col[0], axis=1)\n",
        "df.head()"
      ]
    },
    {
      "cell_type": "code",
      "execution_count": 45,
      "metadata": {
        "id": "0zrpbPPd9ZNx"
      },
      "outputs": [],
      "source": [
        "data = torch.tensor(df.iloc[:,1:].values).to(device)"
      ]
    },
    {
      "cell_type": "code",
      "execution_count": 47,
      "metadata": {
        "id": "rVtVelW6trES"
      },
      "outputs": [],
      "source": [
        "from multiprocessing.pool import ThreadPool\n",
        "import concurrent.futures\n",
        "\n",
        "def wordTracing(indices: np.array, preIdx: int, df: pd.Series=df) -> dict[int, list[str]]:\n",
        "  keys, cluster = np.unique(indices[:,0]), {}\n",
        "  for key in keys:\n",
        "    clt = indices[indices[:,0]==key][:,1]\n",
        "    cluster[key+preIdx] = df.iloc[:,0].values[clt].tolist()\n",
        "  return cluster\n",
        "\n",
        "def dictUpate(obj: dict[int, list[str]], target: dict[int, list[str]]) -> dict:\n",
        "  for key, val in target.items():\n",
        "      if key in obj.keys():\n",
        "          obj[key].extend(val)\n",
        "      else:\n",
        "          obj[key] = val\n",
        "  return obj\n",
        "\n",
        "def _validation(shape: tuple[int], data: dict[int, list[str]]) -> None:\n",
        "   dataLen = sum([len(val) for val in data.values()])\n",
        "   if abs(shape[0]-dataLen) < 2: return True\n",
        "   raise ValueError(\"The data length is not equal to the shape of the input data\")\n",
        "\n",
        "storage: dict = {}\n",
        "def logRegister(data: tuple[dict[int, list[str], tuple[int]]])->dict:\n",
        "    global storage\n",
        "    Rdata, shape = data\n",
        "    _validation(shape, Rdata)\n",
        "    return dictUpate(storage, Rdata)\n",
        "    # raise NotImplementedError(\"The function is expected either adding value up of dict cluster or append it\")\n",
        "\n",
        "def sim2idxFetching(data: torch.tensor, pieces: torch.tensor, preIdx: int, confi: float, *args)->set[dict[int:Union[list, np.array]], tuple[int, int]]:\n",
        "  \"\"\"\n",
        "  designed suspected to support for threading accerlation\n",
        "  \"\"\"\n",
        "  coSim = cos_sim(data, pieces) # tensor[dim=2]\n",
        "  wordMask = torch.gt(coSim, confi)\n",
        "  indices: torch.tensor = torch.nonzero(wordMask, as_tuple=False).cpu().numpy()\n",
        "  # delete simlarity on word itself\n",
        "  conMask = (indices[:, 0]+preIdx)<indices[:,1] # tensor[n, 2], set as idx\n",
        "  indices: np.array = indices[conMask]\n",
        "  return wordTracing(indices, preIdx), indices.shape\n",
        "\n",
        "def siMultiAcc(data: torch.tensor, piecesNum: int, confi: float)->Union[list,None]:\n",
        "  global storage\n",
        "  lenth, pool = len(data), ThreadPool()\n",
        "  lenths, pieces = [num for num in range(0, lenth, int(lenth/piecesNum))], int(lenth/piecesNum)\n",
        "  for val in lenths:\n",
        "    if val+pieces >= lenth: \n",
        "       pieces = lenth - val\n",
        "    # temp1 = sim2idxFetching(data[val:val+pieces], data, val, confi)\n",
        "    # logRegister(temp1)\n",
        "    pool.apply_async(sim2idxFetching, args=(data[val:val+pieces], data, val, confi), callback=logRegister)\n",
        "  pool.close()\n",
        "  pool.join()\n",
        "  return storage"
      ]
    },
    {
      "cell_type": "code",
      "execution_count": 48,
      "metadata": {},
      "outputs": [],
      "source": [
        "storage=siMultiAcc(data, 300, 0.88)"
      ]
    },
    {
      "cell_type": "code",
      "execution_count": 49,
      "metadata": {},
      "outputs": [
        {
          "name": "stdout",
          "output_type": "stream",
          "text": [
            "7422715 64419 6056\n"
          ]
        }
      ],
      "source": [
        "ast, zeroNum = 0, 0\n",
        "for k, v in storage.items(): \n",
        "    ast+=len(v)\n",
        "    if len(v)<=1: zeroNum+=1\n",
        "print(ast, len(storage.keys()), zeroNum)\n",
        "\n",
        "# project 2174677 48058 7346\n",
        "# risk 7422715 64419 6056\n",
        "# stakeholder 6390279 44901 3768"
      ]
    },
    {
      "cell_type": "code",
      "execution_count": 67,
      "metadata": {},
      "outputs": [
        {
          "data": {
            "text/plain": [
              "(3422, 2)"
            ]
          },
          "execution_count": 67,
          "metadata": {},
          "output_type": "execute_result"
        }
      ],
      "source": [
        "testingData = data[:1000]\n",
        "\n",
        "resotre = torch.gt((cos_sim(testingData, testingData)), 0.88)\n",
        "Nindices = torch.nonzero(resotre, as_tuple=False).cpu().numpy()\n",
        "Nindices = Nindices[Nindices[:,0]<Nindices[:,1]]\n",
        "Nindices.shape"
      ]
    },
    {
      "cell_type": "code",
      "execution_count": 75,
      "metadata": {},
      "outputs": [
        {
          "data": {
            "text/plain": [
              "['and local communities involved in the study and implementation of the']"
            ]
          },
          "execution_count": 75,
          "metadata": {},
          "output_type": "execute_result"
        }
      ],
      "source": [
        "# checkingItem = list(storage.keys())\n",
        "# storage[checkingItem[46]]\n",
        "# print(isinstance(str(\"hello\"), str), str(\"hello\"))\n",
        "# testTorch = Nindices\n",
        "# reverseTest = testTorch[:, ::-1]\n",
        "# np.where(np.all(testTorch==reverseTest, axis=1))\n",
        "storage[zeroNum]"
      ]
    },
    {
      "cell_type": "code",
      "execution_count": 50,
      "metadata": {},
      "outputs": [],
      "source": [
        "certain=[]\n",
        "for idx in storage.keys():\n",
        "    vaList = [df.iloc[idx,0], *storage[idx]]\n",
        "    lenList = [len(v) for v in vaList if isinstance(v, str)]\n",
        "    if len(lenList)<=1: continue\n",
        "    cenIdx = lenList.index(min(lenList))\n",
        "    vaList = [vaList.pop(cenIdx), *vaList]\n",
        "    certain.append(vaList)\n",
        "writeDf = pd.DataFrame(certain)"
      ]
    },
    {
      "cell_type": "code",
      "execution_count": 52,
      "metadata": {},
      "outputs": [],
      "source": [
        "writeDf = writeDf.fillna(\"N\")\n",
        "writeDf.columns=[\"shortest word\", \"original word\"]+list(writeDf.columns[2:])"
      ]
    },
    {
      "cell_type": "code",
      "execution_count": 53,
      "metadata": {},
      "outputs": [
        {
          "data": {
            "text/html": [
              "<div>\n",
              "<style scoped>\n",
              "    .dataframe tbody tr th:only-of-type {\n",
              "        vertical-align: middle;\n",
              "    }\n",
              "\n",
              "    .dataframe tbody tr th {\n",
              "        vertical-align: top;\n",
              "    }\n",
              "\n",
              "    .dataframe thead th {\n",
              "        text-align: right;\n",
              "    }\n",
              "</style>\n",
              "<table border=\"1\" class=\"dataframe\">\n",
              "  <thead>\n",
              "    <tr style=\"text-align: right;\">\n",
              "      <th></th>\n",
              "      <th>shortest word</th>\n",
              "      <th>original word</th>\n",
              "      <th>2</th>\n",
              "      <th>3</th>\n",
              "      <th>4</th>\n",
              "      <th>5</th>\n",
              "      <th>6</th>\n",
              "      <th>7</th>\n",
              "      <th>8</th>\n",
              "      <th>9</th>\n",
              "      <th>...</th>\n",
              "      <th>2304</th>\n",
              "      <th>2305</th>\n",
              "      <th>2306</th>\n",
              "      <th>2307</th>\n",
              "      <th>2308</th>\n",
              "      <th>2309</th>\n",
              "      <th>2310</th>\n",
              "      <th>2311</th>\n",
              "      <th>2312</th>\n",
              "      <th>2313</th>\n",
              "    </tr>\n",
              "  </thead>\n",
              "  <tbody>\n",
              "    <tr>\n",
              "      <th>0</th>\n",
              "      <td>smoke</td>\n",
              "      <td>smoking habits</td>\n",
              "      <td>Smoking</td>\n",
              "      <td>smoke</td>\n",
              "      <td>Smoking</td>\n",
              "      <td>cigarette smoke</td>\n",
              "      <td>smoke</td>\n",
              "      <td>Habits</td>\n",
              "      <td>smoke</td>\n",
              "      <td>smoke</td>\n",
              "      <td>...</td>\n",
              "      <td>N</td>\n",
              "      <td>N</td>\n",
              "      <td>N</td>\n",
              "      <td>N</td>\n",
              "      <td>N</td>\n",
              "      <td>N</td>\n",
              "      <td>N</td>\n",
              "      <td>N</td>\n",
              "      <td>N</td>\n",
              "      <td>N</td>\n",
              "    </tr>\n",
              "    <tr>\n",
              "      <th>1</th>\n",
              "      <td>none</td>\n",
              "      <td>none detected</td>\n",
              "      <td>none detected</td>\n",
              "      <td>none identified</td>\n",
              "      <td>none detected</td>\n",
              "      <td>none detected</td>\n",
              "      <td>none detected</td>\n",
              "      <td>none detected</td>\n",
              "      <td>none detected</td>\n",
              "      <td>none detected</td>\n",
              "      <td>...</td>\n",
              "      <td>detection</td>\n",
              "      <td>none detected</td>\n",
              "      <td>none detected</td>\n",
              "      <td>none detected</td>\n",
              "      <td>N</td>\n",
              "      <td>N</td>\n",
              "      <td>N</td>\n",
              "      <td>N</td>\n",
              "      <td>N</td>\n",
              "      <td>N</td>\n",
              "    </tr>\n",
              "    <tr>\n",
              "      <th>2</th>\n",
              "      <td>Fragile</td>\n",
              "      <td>fragile relationships</td>\n",
              "      <td>forced relationships</td>\n",
              "      <td>fragile</td>\n",
              "      <td>potential to damage relationships</td>\n",
              "      <td>N</td>\n",
              "      <td>N</td>\n",
              "      <td>N</td>\n",
              "      <td>N</td>\n",
              "      <td>N</td>\n",
              "      <td>...</td>\n",
              "      <td>N</td>\n",
              "      <td>N</td>\n",
              "      <td>N</td>\n",
              "      <td>N</td>\n",
              "      <td>N</td>\n",
              "      <td>N</td>\n",
              "      <td>N</td>\n",
              "      <td>N</td>\n",
              "      <td>N</td>\n",
              "      <td>N</td>\n",
              "    </tr>\n",
              "    <tr>\n",
              "      <th>3</th>\n",
              "      <td>complexity</td>\n",
              "      <td>increasing complexity</td>\n",
              "      <td>Complexity</td>\n",
              "      <td>Complexity of problems</td>\n",
              "      <td>Complexities</td>\n",
              "      <td>complexity</td>\n",
              "      <td>Complexity</td>\n",
              "      <td>computational complexity</td>\n",
              "      <td>organisational complexity</td>\n",
              "      <td>project complexity</td>\n",
              "      <td>...</td>\n",
              "      <td>N</td>\n",
              "      <td>N</td>\n",
              "      <td>N</td>\n",
              "      <td>N</td>\n",
              "      <td>N</td>\n",
              "      <td>N</td>\n",
              "      <td>N</td>\n",
              "      <td>N</td>\n",
              "      <td>N</td>\n",
              "      <td>N</td>\n",
              "    </tr>\n",
              "    <tr>\n",
              "      <th>4</th>\n",
              "      <td>risk</td>\n",
              "      <td>Accident risk potential</td>\n",
              "      <td>high accident risk potential</td>\n",
              "      <td>High accident risk locations</td>\n",
              "      <td>accident risk</td>\n",
              "      <td>risks</td>\n",
              "      <td>safety risk assessment</td>\n",
              "      <td>high risk of accidents</td>\n",
              "      <td>a risk analysis</td>\n",
              "      <td>risks</td>\n",
              "      <td>...</td>\n",
              "      <td>N</td>\n",
              "      <td>N</td>\n",
              "      <td>N</td>\n",
              "      <td>N</td>\n",
              "      <td>N</td>\n",
              "      <td>N</td>\n",
              "      <td>N</td>\n",
              "      <td>N</td>\n",
              "      <td>N</td>\n",
              "      <td>N</td>\n",
              "    </tr>\n",
              "  </tbody>\n",
              "</table>\n",
              "<p>5 rows × 2314 columns</p>\n",
              "</div>"
            ],
            "text/plain": [
              "  shortest word            original word                             2  \\\n",
              "0         smoke           smoking habits                       Smoking   \n",
              "1          none            none detected                 none detected   \n",
              "2       Fragile    fragile relationships          forced relationships   \n",
              "3    complexity    increasing complexity                    Complexity   \n",
              "4          risk  Accident risk potential  high accident risk potential   \n",
              "\n",
              "                              3                                  4  \\\n",
              "0                         smoke                            Smoking   \n",
              "1               none identified                      none detected   \n",
              "2                       fragile  potential to damage relationships   \n",
              "3        Complexity of problems                       Complexities   \n",
              "4  High accident risk locations                      accident risk   \n",
              "\n",
              "                 5                       6                         7  \\\n",
              "0  cigarette smoke                   smoke                    Habits   \n",
              "1    none detected           none detected             none detected   \n",
              "2                N                       N                         N   \n",
              "3       complexity              Complexity  computational complexity   \n",
              "4            risks  safety risk assessment    high risk of accidents   \n",
              "\n",
              "                           8                   9  ...       2304  \\\n",
              "0                      smoke               smoke  ...          N   \n",
              "1              none detected       none detected  ...  detection   \n",
              "2                          N                   N  ...          N   \n",
              "3  organisational complexity  project complexity  ...          N   \n",
              "4            a risk analysis               risks  ...          N   \n",
              "\n",
              "            2305           2306           2307 2308 2309 2310 2311 2312 2313  \n",
              "0              N              N              N    N    N    N    N    N    N  \n",
              "1  none detected  none detected  none detected    N    N    N    N    N    N  \n",
              "2              N              N              N    N    N    N    N    N    N  \n",
              "3              N              N              N    N    N    N    N    N    N  \n",
              "4              N              N              N    N    N    N    N    N    N  \n",
              "\n",
              "[5 rows x 2314 columns]"
            ]
          },
          "execution_count": 53,
          "metadata": {},
          "output_type": "execute_result"
        }
      ],
      "source": [
        "writeDf.to_csv(rf\"Generated_Result\\riskSim_77361_{0.88}.csv\", index=False)\n",
        "writeDf.head()"
      ]
    },
    {
      "cell_type": "code",
      "execution_count": 54,
      "metadata": {
        "id": "hdaBcscetrES"
      },
      "outputs": [],
      "source": [
        "import gc\n",
        "\n",
        "del data, storage\n",
        "gc.collect()\n",
        "torch.cuda.empty_cache()\n",
        "# beside stakeholder, rest of them shall be reloaded again\n",
        "# torch.save(torch.cat(output_project, axis=0), \"Embedding_Model/gte_large_embedding/three_ouput1_risk.pt\")"
      ]
    },
    {
      "cell_type": "code",
      "execution_count": null,
      "metadata": {
        "id": "c9gwxzAztrES"
      },
      "outputs": [],
      "source": [
        "full_emd, atten_mask = outputs.last_hidden_state, batch_dict['attention_mask']\n",
        "print(full_emd.shape, atten_mask.shape, embeddings.shape)"
      ]
    },
    {
      "cell_type": "code",
      "execution_count": null,
      "metadata": {
        "id": "yctXSD0mtrES",
        "outputId": "f2f89a98-43fb-406e-9748-758eec1c9d1f"
      },
      "outputs": [
        {
          "name": "stdout",
          "output_type": "stream",
          "text": [
            "[[69.65817260742188, 88.03556060791016, 68.79690551757812]]\n"
          ]
        }
      ],
      "source": [
        "# (Optionally) normalize embeddings\n",
        "embeddings = F.normalize(embeddings, p=2, dim=1)\n",
        "scores = (embeddings[:1] @ embeddings[1:].T) * 100\n",
        "print(scores.tolist())"
      ]
    },
    {
      "cell_type": "code",
      "execution_count": null,
      "metadata": {
        "id": "1j4aGvGCtrES"
      },
      "outputs": [],
      "source": []
    },
    {
      "cell_type": "code",
      "execution_count": null,
      "metadata": {
        "id": "84PvbNaCtrES"
      },
      "outputs": [],
      "source": []
    }
  ],
  "metadata": {
    "accelerator": "GPU",
    "colab": {
      "gpuType": "T4",
      "provenance": []
    },
    "kernelspec": {
      "display_name": "Python 3",
      "name": "python3"
    },
    "language_info": {
      "codemirror_mode": {
        "name": "ipython",
        "version": 3
      },
      "file_extension": ".py",
      "mimetype": "text/x-python",
      "name": "python",
      "nbconvert_exporter": "python",
      "pygments_lexer": "ipython3",
      "version": "3.11.7"
    }
  },
  "nbformat": 4,
  "nbformat_minor": 0
}
