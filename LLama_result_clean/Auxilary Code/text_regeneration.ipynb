{
 "cells": [
  {
   "cell_type": "code",
   "execution_count": 1,
   "metadata": {},
   "outputs": [],
   "source": [
    "import pandas as pd\n",
    "from hashlib import sha512\n",
    "\n",
    "pathprefix = r\"D:\\Code Working Area\\Jupyter\\knowledge-graph-for-stakeholder-risks-detection-in-mega-infrastructure-projects\\ExcelData\"\n",
    "jsfile = pathprefix+\"\\\\Transactions.json\"\n",
    "stop_words=pathprefix+\"\\\\stop_words\\\\stop_words_stakeholder.txt\"\n",
    "unknow_long_phrase=pathprefix+\"\\\\stop_words\\\\unknow_long.txt\"\n",
    "\n",
    "project_sor = pathprefix+\"\\\\Source\\\\project.csv\"\n",
    "risk_sor_path = pathprefix+\"\\\\Source\\\\risk.xlsx\"\n",
    "stake_sor = pathprefix+\"\\\\Source\\\\stakeholder.csv\"\n",
    "\n",
    "project_key = pathprefix+\"\\\\project_keyword\\\\Project_keyword.xlsx\"\n",
    "risk_key_path = pathprefix+\"\\\\risk_keyword\\\\Risk_keyword.xlsx\"\n",
    "stake_key = pathprefix+\"\\\\stakeholder_keyword\\\\third_layer_iteration_one_stakeholder.xlsx\""
   ]
  },
  {
   "cell_type": "code",
   "execution_count": 2,
   "metadata": {},
   "outputs": [
    {
     "name": "stderr",
     "output_type": "stream",
     "text": [
      "C:\\Users\\jqi22\\AppData\\Local\\Temp\\ipykernel_13460\\3794204323.py:1: DtypeWarning: Columns (3,7,8,12,13,18,27,28,29,30,31,38,39,40,41,42,43,44,45,50,51,53,54,59,63,64,65,67) have mixed types. Specify dtype option on import or set low_memory=False.\n",
      "  prj_sor = pd.read_csv(project_sor, sep = \",\")\n"
     ]
    }
   ],
   "source": [
    "prj_sor = pd.read_csv(project_sor, sep = \",\")\n",
    "risk_sor = pd.read_excel(risk_sor_path)\n",
    "stk_sor = pd.read_csv(stake_sor, sep = \",\")\n",
    "\n",
    "def sample_filter(df: pd.DataFrame, columns: str = \"Abstract\", n: int = 10_000) -> pd.DataFrame:\n",
    "    return df[columns].to_frame().dropna(how=\"any\").reset_index(drop=True).sample(n=n, random_state=42) # .loc[:30_000, \"Abstract\"].to_frame()"
   ]
  },
  {
   "cell_type": "code",
   "execution_count": 3,
   "metadata": {},
   "outputs": [],
   "source": [
    "with open(r\"input/mix_30K.txt\", \"r\") as file:\n",
    "    test_set = [lines.rstrip(\"\\n\") for lines in file.readlines() if lines!=\"\\n\"]"
   ]
  },
  {
   "cell_type": "code",
   "execution_count": 4,
   "metadata": {},
   "outputs": [],
   "source": [
    "# test_set = set(test_set)\n",
    "# prj, stk, risk = set(prj_sor[\"Abstract\"].to_list()), set(stk_sor[\"Abstract\"].to_list()), set(risk_sor[\"Abstract\"].to_list())\n",
    "# prj_left = risk.difference(test_set)"
   ]
  },
  {
   "cell_type": "code",
   "execution_count": 5,
   "metadata": {},
   "outputs": [
    {
     "data": {
      "text/plain": [
       "(266327,)"
      ]
     },
     "execution_count": 5,
     "metadata": {},
     "output_type": "execute_result"
    }
   ],
   "source": [
    "prj_sor[\"Abstract\"].shape"
   ]
  },
  {
   "cell_type": "code",
   "execution_count": 6,
   "metadata": {},
   "outputs": [],
   "source": [
    "prj, stk, risk = prj_sor.loc[:, \"Abstract\"].dropna().to_frame(), stk_sor.loc[:, \"Abstract\"].dropna().to_frame(), risk_sor.loc[:, \"Abstract\"].dropna().to_frame()\n",
    "test_set = pd.DataFrame({\"test\": test_set})\n",
    "oprj, ostk, orisk, otest = prj.shape, stk.shape, risk.shape, test_set.shape"
   ]
  },
  {
   "cell_type": "code",
   "execution_count": 7,
   "metadata": {},
   "outputs": [],
   "source": [
    "prj, stk, risk = prj.Abstract.apply(lambda x: sha512(x.encode()).hexdigest()).drop_duplicates().to_frame(), stk.Abstract.apply(lambda x: sha512(x.encode()).hexdigest()).drop_duplicates().to_frame(), risk.Abstract.apply(lambda x: sha512(x.encode()).hexdigest()).drop_duplicates().to_frame()\n",
    "test_set = test_set.test.apply(lambda x: sha512(x.encode()).hexdigest()).to_frame()"
   ]
  },
  {
   "cell_type": "code",
   "execution_count": 8,
   "metadata": {},
   "outputs": [],
   "source": [
    "prj_ndup, stk_ndup, risk_ndup = prj[~prj[\"Abstract\"].isin(test_set[\"test\"])], \\\n",
    "    stk[~stk[\"Abstract\"].isin(test_set[\"test\"])], \\\n",
    "        risk[~risk[\"Abstract\"].isin(test_set[\"test\"])]"
   ]
  },
  {
   "cell_type": "code",
   "execution_count": 9,
   "metadata": {},
   "outputs": [
    {
     "name": "stdout",
     "output_type": "stream",
     "text": [
      "the original shape of project compare with filtered document is (254352, 135053, 0.53) \n",
      " the original shape of stakeholder compare with filtered document is (48341, 45075, 0.93) \n",
      " the original shape of risk compare with filtered document is (120420, 106322, 0.88) \n",
      "\n"
     ]
    }
   ],
   "source": [
    "print(f\"the original shape of project compare with filtered document is {oprj[0], prj_ndup.shape[0], round(prj_ndup.shape[0]/oprj[0], 2)} \\n\",\\\n",
    "      f\"the original shape of stakeholder compare with filtered document is {ostk[0], stk_ndup.shape[0], round(stk_ndup.shape[0]/ostk[0], 2)} \\n\",\\\n",
    "    f\"the original shape of risk compare with filtered document is {orisk[0], risk_ndup.shape[0], round(risk_ndup.shape[0]/orisk[0], 2)} \\n\")"
   ]
  },
  {
   "cell_type": "code",
   "execution_count": 10,
   "metadata": {},
   "outputs": [],
   "source": [
    "filtered_prj = prj[~(prj['Abstract'].isin(stk['Abstract']) | prj['Abstract'].isin(risk['Abstract']))]\n",
    "\n",
    "filtered_stk = stk[~(stk['Abstract'].isin(prj['Abstract']) | stk['Abstract'].isin(risk['Abstract']))]\n",
    "\n",
    "filtered_risk = risk[~(risk['Abstract'].isin(prj['Abstract']) | risk['Abstract'].isin(stk['Abstract']))]"
   ]
  },
  {
   "cell_type": "code",
   "execution_count": 11,
   "metadata": {},
   "outputs": [],
   "source": [
    "real_prj, real_stk, real_risk = prj_sor.loc[filtered_prj.index, \"Abstract\"], stk_sor.loc[filtered_stk.index, \"Abstract\"], risk_sor.loc[filtered_risk.index, \"Abstract\"]"
   ]
  },
  {
   "cell_type": "code",
   "execution_count": 93,
   "metadata": {},
   "outputs": [],
   "source": [
    "real_prj.to_csv(r\"input/non_duplicate_prj.csv\", index=False)\n",
    "real_stk.to_csv(r\"input/non_duplicate_stk.csv\", index=False)\n",
    "real_risk.to_csv(r\"input/non_duplicate_risk.csv\", index=False)"
   ]
  },
  {
   "cell_type": "code",
   "execution_count": 12,
   "metadata": {},
   "outputs": [
    {
     "name": "stdout",
     "output_type": "stream",
     "text": [
      "the original shape of project compare with filtered document is (254352, 146048, 0.57) \n",
      " the original shape of stakeholder compare with filtered document is (48341, 35012, 0.72) \n",
      " the original shape of risk compare with filtered document is (120420, 94860, 0.79) \n",
      "\n"
     ]
    }
   ],
   "source": [
    "print(f\"the original shape of project compare with filtered document is {oprj[0], real_prj.shape[0], round(real_prj.shape[0]/oprj[0], 2)} \\n\",\\\n",
    "      f\"the original shape of stakeholder compare with filtered document is {ostk[0], real_stk.shape[0], round(real_stk.shape[0]/ostk[0], 2)} \\n\",\\\n",
    "    f\"the original shape of risk compare with filtered document is {orisk[0], real_risk.shape[0], round(real_risk.shape[0]/orisk[0], 2)} \\n\")"
   ]
  },
  {
   "cell_type": "code",
   "execution_count": 100,
   "metadata": {},
   "outputs": [],
   "source": [
    "with open(r\"input/risk.txt\", \"a+\") as file:\n",
    "    for val in real_risk.to_list(): file.writelines(val+\"\\n\")"
   ]
  },
  {
   "cell_type": "code",
   "execution_count": 98,
   "metadata": {},
   "outputs": [
    {
     "data": {
      "text/plain": [
       "[\"This paper considers how an offset scheme specific to the electricity generation sector could incentivize emissions cuts while avoiding the problems encountered by the Clean Development Mechanism (CDM). It proposes an approach to project evaluation based on measures of additionality, economic viability and contribution to sustainable development specific to this sector and re-evaluates 460 registered CDM projects in China that generate electricity using wind, natural gas or small hydro. It concludes that many small hydro schemes would be viable without the CDM subsidy. Although these projects have zero emissions from operations, offsets issued to projects that are viable without subsidy permit increased emissions in developed countries and lead to a net increase in global emissions. To provide some indication of the sustainable development benefits that CDM projects bring to their host countries, the paper includes estimates of the projects' benefit to public health due to the reduced use of coal for generation. The paper provides insights into the economics of projects and their value to host countries that are missed by the official CDM methodologies. It contributes to the debate over the design of sector-specific offset schemes that may be part of a new global agreement on combating climate change. (C) 2010 Elsevier Ltd. All rights reserved.\",\n",
       " 'Between 2013 and 2020 the EU set up a complex institutional system to select and support the implementation of energy infrastructure projects that are of European interest (PCIs). EUR 1.4 billion EU support was awarded to 16 natural gas projects between 2014 and 2019, most of them are still under construction. With the decarbonization agenda emerging, fossil investments have a limited lifetime to recover their investment. To assess the net socioeconomic benefits of the gas PCI projects a modelling-based cost benefit analysis was applied. Results revealed that the cross-border projects that were implemented so far have a joint socio-economic benefit/cost ratio (B/C) above 1 even in the most conservative scenario setups. The ones with a final investment decision would need to face a high gas price environment in the future to push the B/C above 1, which is the reality since 2021. The other projects on the full EU list of PCIs are not beneficial as a single group, as they serve similar needs. Some individual non-FID projects are though promising.',\n",
       " 'Time is money, and it is crucial to accelerate road construction to improve the accessibility and connectivity of infrastructure. Prolonged periods of project implementation lead to delays and cost overruns, and further delays could destabilize the construction industry, causing an economic slowdown. This study explores the causes of delay in giving site possession, a topic that has received little explicit attention. The authors qualitatively identified the causes of delayed site possession from 15 project case studies. The data analysis presented in this paper involves two stages: (1) exploring causes of delay in giving site possession from 15 federal road projects and (2) further reviewing three road projects to provide significant insights into the fundamental reasons for, and the impacts of, the delay. This approach contributes to a better understanding of the specific causes of delay using a qualitative approach. The findings show that a slow process in land acquisition, squatters, and compensation disputes contributed to delayed site possession. The authors developed a conceptual framework to recommend strategies for mitigating the delay and accelerating the timelines of road projects based on the findings.',\n",
       " 'In this modern era of climate protection, the need for climate justice in the distribution of projects cannot be neglected or postponed. While the pursuit of climate and environmental protection, sustainable development and green technologies have become increasingly topical, issues surrounding the sustainability of the Least Developed Countries (LDCs) within the context of climate protection are being unwittingly developed and ignored. Thus, this article offers a critique of the uneven distribution of Clean Development Mechanism (CDM) projects. While most projects have gone to the emerging countries of China, India, Brazil and Mexico with opportunities for investment, unfortunately very little projects were established in the LDCs of Africa and Middle East. This prompts the question whether the CDM is fulfilling its climate protection goal, or does it currently deliver its sustainable development claim in the LDCs? Only a relatively few countries that are attractive destinations for foreign direct investment have benefited immensely from CDM projects. Consequently, this paper looks into the distribution of CDM project activities among developing countries, justification for the distribution, and examines what can be done to ensure equity among developing countries concerning the harnessing of the benefits of the CDM.',\n",
       " \"Innovation plays a critical role in the sustainable development of the construction industry. This research aims at examining transformational leadership's role in shaping employees' innovative behavior by analyzing the mediating effect of innovation climate and the cross-level moderating effect of innovativeness as a project requirement. To achieve this aim, a questionnaire survey was conducted with 300 construction industry professionals in China and 251 valid replies were received. Data collected by the questionnaire were analyzed using the method of hierarchical linear modeling (HLM). The results showed that transformational leaders could nurture a mutual climate for innovation to motivate employees' innovative behaviors. In addition, innovativeness as a project requirement at the project level strengthens the indirect link amongst transformational leadership and innovative behavior via the innovation climate. Therefore, in the presence of higher innovativeness as a project requirement, transformational leadership is more prone to exert a positive influence upon an individual's innovative behavior via the perceived innovation climate. The research findings improve understanding of the roles of leadership and innovation climate in affecting individual behavioral outcomes, and could help project managers and leaders encourage innovative ideas within project organizations.\"]"
      ]
     },
     "execution_count": 98,
     "metadata": {},
     "output_type": "execute_result"
    }
   ],
   "source": [
    "real_prj.tolist()[:5]"
   ]
  }
 ],
 "metadata": {
  "kernelspec": {
   "display_name": "base",
   "language": "python",
   "name": "python3"
  },
  "language_info": {
   "codemirror_mode": {
    "name": "ipython",
    "version": 3
   },
   "file_extension": ".py",
   "mimetype": "text/x-python",
   "name": "python",
   "nbconvert_exporter": "python",
   "pygments_lexer": "ipython3",
   "version": "3.9.16"
  }
 },
 "nbformat": 4,
 "nbformat_minor": 2
}
