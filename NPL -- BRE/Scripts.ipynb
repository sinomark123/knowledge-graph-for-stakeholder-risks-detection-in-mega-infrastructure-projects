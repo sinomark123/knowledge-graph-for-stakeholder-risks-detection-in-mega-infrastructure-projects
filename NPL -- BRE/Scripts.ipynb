{
 "cells": [
  {
   "cell_type": "code",
   "execution_count": 1,
   "metadata": {
    "collapsed": true
   },
   "outputs": [],
   "source": [
    "# import sys\n",
    "# import openai\n",
    "# from langchain.llms import OpenAI\n",
    "# from langchain.embeddings.openai import OpenAIEmbeddings\n",
    "# from langchain.vectorstores import Chroma\n",
    "# from langchain.text_splitter import CharacterTextSplitter\n",
    "# import re\n",
    "# from concurrent.futures import ThreadPoolExecutor\n",
    "# import logging\n",
    "# from langchain.document_loaders import DirectoryLoader\n",
    "import pandas as pd\n",
    "import os\n",
    "from langchain import OpenAI, VectorDBQA\n",
    "\n",
    "os.environ[\"OPENAI_API_KEY\"] = \"YOUR_OPENAI_API_KEY\"\n",
    "\n",
    "risk_path=r\"risk.xlsx\""
   ]
  },
  {
   "cell_type": "markdown",
   "source": [
    "### Hi DR, Remeber to input your OpenAI API Key in Above Cell !!!"
   ],
   "metadata": {
    "collapsed": false
   }
  },
  {
   "cell_type": "code",
   "execution_count": 2,
   "outputs": [],
   "source": [
    "risk_sor = pd.read_excel(risk_path)"
   ],
   "metadata": {
    "collapsed": false
   }
  },
  {
   "cell_type": "code",
   "execution_count": 3,
   "outputs": [],
   "source": [
    "# get the target text from original dataset to match\n",
    "risk = pd.DataFrame(risk_sor[\"Abstract\"])\n",
    "\n",
    "risk.dropna(inplace=True, how=\"any\")"
   ],
   "metadata": {
    "collapsed": false
   }
  },
  {
   "cell_type": "code",
   "execution_count": 4,
   "outputs": [],
   "source": [
    "def risk_template(words: str):\n",
    "    return f\"\"\"help me to identify and extract risks in the '{words}'? please mark it out and specify the type . Also pick keywords to label what ENTIRE sentence talked about from given tags: [environment science, environment studies, engineering civil, engineering industrial, management, engineering manufacturing, constructing building, constructing technology, transportation, finance]. If you cannot judge the organizations or there is no matched tag to label the entire sentence, please return 'None'. Show risks, type of risks, keyword and tags appeared in sentence separately. Attention, you can only predict the output in above given criteria and no more than 15 words.No need to specific mark out on every sentence\n",
    "\n",
    "    Answer example: \"\n",
    "    risks: Construction cost overrun, Ship collision and grounding \\n\n",
    "\n",
    "    risk_type : Financial, Technical \\n\n",
    "\n",
    "    keywords : Risk Management \\n\n",
    "\n",
    "    tags : Environment Science, Environment Studies, Finance\" \\n\n",
    "    Answer no more than 20 words.\n",
    "\"\"\"\n",
    "\n",
    "\n",
    "def risk_template_backwords(words: str):\n",
    "    return f\"\"\"help me to identify and extract risks in the '{words}'? please mark it out and specify the type . Also pick keywords to label what ENTIRE sentence talked about from given tags: [environment science, environment studies, engineering civil, engineering industrial, management, engineering manufacturing, constructing building, constructing technology, transportation, finance]. If you cannot judge the organizations or there is no matched tag to label the entire sentence, please return 'None'. Show type of risk follows its risks, keyword and tags appeared in sentence separately. Attention, you can only predict the category in above given criteria and no more than 20 words. No need to specific mark out on every sentence.\n",
    "\"\"\""
   ],
   "metadata": {
    "collapsed": false
   }
  },
  {
   "cell_type": "code",
   "execution_count": 5,
   "outputs": [],
   "source": [
    "def stk_keyword_split(res: list[str]):\n",
    "    \"\"\"res receive value from original feedback, right after OpenAI API return the value and split with \\n\"\"\"\n",
    "    feedback=[val.split(\": \")[1] for val in res if val!='']\n",
    "    if len(feedback)>3: feedback=[\", \".join([feedback[0]+feedback[1]]), *feedback[2:]]\n",
    "    elif len(feedback)<3: feedback=[*feedback, *[None]*(3-(len(feedback)))]\n",
    "    return feedback\n",
    "\n",
    "def risk_keyword_split(res: str):\n",
    "    res=res.split(\"\\n\")\n",
    "    feedback=[val.split(\": \")[1] for val in res if val!='']\n",
    "    if len(feedback)<4: feedback=[*feedback, *([None]*(4-len(feedback)))]\n",
    "    return feedback\n",
    "\n",
    "llm=OpenAI(temperature=0)"
   ],
   "metadata": {
    "collapsed": false
   }
  },
  {
   "cell_type": "code",
   "execution_count": 6,
   "outputs": [],
   "source": [
    "risk_df=pd.DataFrame([], columns=[\"risks description\", \"risk_type\", \"keywords\", \"sentence tags\", \"source\"])"
   ],
   "metadata": {
    "collapsed": false
   }
  },
  {
   "cell_type": "code",
   "execution_count": null,
   "outputs": [],
   "source": [
    "risk_length, chunk_size=len(risk), 10\n",
    "for times in range(2594, risk_length, chunk_size):\n",
    "    long_phrase=risk.Abstract[times: times+chunk_size].to_list()\n",
    "    words=risk_template(\" \".join(long_phrase))\n",
    "    try:\n",
    "        response=llm(words)\n",
    "        risk_df.loc[len(risk_df)]=[*risk_keyword_split(response), long_phrase]\n",
    "    except Exception as e:\n",
    "        print(f\"the possible reason is {e}, be reminded, processed risk up to {times}\")\n",
    "        break"
   ],
   "metadata": {
    "collapsed": false
   }
  },
  {
   "cell_type": "code",
   "execution_count": 8,
   "outputs": [],
   "source": [],
   "metadata": {
    "collapsed": false
   }
  }
 ],
 "metadata": {
  "kernelspec": {
   "display_name": "Python 3",
   "language": "python",
   "name": "python3"
  },
  "language_info": {
   "codemirror_mode": {
    "name": "ipython",
    "version": 2
   },
   "file_extension": ".py",
   "mimetype": "text/x-python",
   "name": "python",
   "nbconvert_exporter": "python",
   "pygments_lexer": "ipython2",
   "version": "2.7.6"
  }
 },
 "nbformat": 4,
 "nbformat_minor": 0
}
