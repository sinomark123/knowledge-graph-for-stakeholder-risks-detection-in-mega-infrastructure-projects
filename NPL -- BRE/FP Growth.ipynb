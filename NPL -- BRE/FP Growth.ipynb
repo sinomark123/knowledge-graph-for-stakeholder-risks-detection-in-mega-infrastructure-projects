{
 "cells": [
  {
   "cell_type": "code",
   "execution_count": 1,
   "id": "3681ed2d",
   "metadata": {},
   "outputs": [],
   "source": [
    "import math\n",
    "\n",
    "import pandas\n",
    "from fpgrowth_py import fpgrowth\n",
    "import pandas as pd\n",
    "import re\n",
    "import json\n",
    "import spacy\n",
    "import seaborn as sns\n",
    "from spacy import displacy\n",
    "from flashtext import KeywordProcessor\n",
    "import ahocorasick\n",
    "import nltk\n",
    "from concurrent.futures import ThreadPoolExecutor\n",
    "from enum import Enum\n",
    "\n",
    "pathprefix = r\"D:\\Code Working Area\\Jupyter\\knowledge-graph-for-stakeholder-risks-detection-in-mega-infrastructure-projects\\ExcelData\"\n",
    "jsfile = pathprefix+\"\\\\Transactions.json\"\n",
    "stop_words=pathprefix+\"\\\\stop_words\\\\stop_words_stakeholder.txt\"\n",
    "unknow_long_phrase=pathprefix+\"\\\\stop_words\\\\unknow_long.txt\"\n",
    "\n",
    "project_sor = pathprefix+\"\\\\Source\\\\project.csv\"\n",
    "risk_sor = pathprefix+\"\\\\Source\\\\risk.xlsx\"\n",
    "stake_sor = pathprefix+\"\\\\Source\\\\stakeholder.csv\"\n",
    "\n",
    "project_key = pathprefix+\"\\\\project_keyword\\\\Project_keyword.xlsx\"\n",
    "risk_key_path = pathprefix+\"\\\\risk_keyword\\\\Fourth_edition.xlsx\"\n",
    "stake_key = pathprefix+\"\\\\stakeholder_keyword\\\\third_layer_iteration_one_stakeholder.xlsx\""
   ]
  },
  {
   "cell_type": "code",
   "execution_count": 2,
   "id": "c4136250",
   "metadata": {},
   "outputs": [
    {
     "name": "stderr",
     "output_type": "stream",
     "text": [
      "C:\\Users\\jqi22\\AppData\\Local\\Temp\\ipykernel_7032\\2395300540.py:1: DtypeWarning: Columns (3,7,8,12,13,18,27,28,29,30,31,38,39,40,41,42,43,44,45,50,51,53,54,59,63,64,65,67) have mixed types. Specify dtype option on import or set low_memory=False.\n",
      "  prj_sor = pd.read_csv(project_sor, sep = \",\")\n"
     ]
    }
   ],
   "source": [
    "prj_sor = pd.read_csv(project_sor, sep = \",\")\n",
    "risk_sor = pd.read_excel(risk_sor)\n",
    "stk_sor = pd.read_csv(stake_sor, sep = \",\")\n",
    "\n",
    "prj_key = pd.read_excel(project_key, index_col=None)\n",
    "risk_key = pd.read_excel(risk_key_path).dropna(axis=0, how=\"any\")\n",
    "stk_key = pd.read_excel(stake_key, index_col=None)\n",
    "stk_key.dropna(inplace=True)"
   ]
  },
  {
   "cell_type": "code",
   "execution_count": 3,
   "id": "d6369d30",
   "metadata": {},
   "outputs": [],
   "source": [
    "# get the target text from original dataset to match\n",
    "project = pd.DataFrame(prj_sor[\"Article Title\"])\n",
    "risk = pd.DataFrame(risk_sor[\"Abstract\"])\n",
    "stake = pd.DataFrame(stk_sor[\"Abstract\"])\n",
    "\n",
    "risk.dropna(inplace=True, how=\"any\")"
   ]
  },
  {
   "cell_type": "code",
   "execution_count": 4,
   "outputs": [],
   "source": [
    "stk_key.Abstract = stk_key.Abstract.str.lower()\n",
    "\n",
    "# Do I really need below two steps?\n",
    "risk_key.Abstract = risk_key.Abstract.astype(str)\n",
    "stk_key.Abstract = stk_key.Abstract.astype(str)"
   ],
   "metadata": {
    "collapsed": false
   }
  },
  {
   "cell_type": "code",
   "execution_count": 5,
   "outputs": [],
   "source": [
    "# do this for keyword abstract\n",
    "prjkey_list = prj_key[\"Article\"].to_list()\n",
    "riskey_list = risk_key[\"Abstract\"].to_list()\n",
    "stkey_list = stk_key.Abstract.to_list()\n",
    "### initialize keywordprocessor class\n",
    "keypro = KeywordProcessor()\n",
    "keypro.add_keywords_from_list(prjkey_list + riskey_list + stkey_list)"
   ],
   "metadata": {
    "collapsed": false
   }
  },
  {
   "cell_type": "code",
   "execution_count": 6,
   "outputs": [
    {
     "data": {
      "text/plain": "['tok2vec', 'tagger', 'parser', 'attribute_ruler', 'lemmatizer', 'ner']"
     },
     "execution_count": 6,
     "metadata": {},
     "output_type": "execute_result"
    }
   ],
   "source": [
    "nlp = spacy.load('en_core_web_sm') # disable=[\"attribute_ruler\"]\n",
    "stopwords = nlp.Defaults.stop_words\n",
    "nlp.pipe_names"
   ],
   "metadata": {
    "collapsed": false
   }
  },
  {
   "cell_type": "code",
   "execution_count": 7,
   "id": "659980c0",
   "metadata": {},
   "outputs": [],
   "source": [
    "def reload_dashes(droped: int)->pd.DataFrame:\n",
    "    dashes = pd.read_excel(pathprefix+\"\\\\stop_words\\\\adjustment.xlsx\")\n",
    "    dashes = dashes[dashes.frequency > droped].Words.to_list()\n",
    "    return set(dashes)\n",
    "\n",
    "stopwords |= reload_dashes(2)\n",
    "# filout = pd.read_excel(r\"D:\\Code Working Area\\Python\\knowledge-graph-for-stakeholder-risks-detection-in-mega-infrastructure-projects\\ExcelData\\filtered.xlsx\")\n",
    "# stopwords |= set(filout.name.to_list())\n",
    "stopwords |= set([str(num) for num in range(1,100)])\n",
    "\n",
    "# manually add the words to the stopwords\n",
    "possiblew = {\"connections\", \"efficacy\", \"life\", \"This\"}\n",
    "stopwords |= possiblew\n",
    "\n",
    "for word in stopwords:\n",
    "    nlp.vocab[word].is_stop=True"
   ]
  },
  {
   "cell_type": "markdown",
   "source": [
    "### extract keyword from Abstract"
   ],
   "metadata": {
    "collapsed": false
   }
  },
  {
   "cell_type": "code",
   "execution_count": 12,
   "id": "48a2902c",
   "metadata": {},
   "outputs": [],
   "source": [
    "extracted=risk.Abstract.apply(lambda x: keypro.extract_keywords(x))"
   ]
  },
  {
   "cell_type": "code",
   "execution_count": 16,
   "id": "7d8c8eaa",
   "metadata": {
    "scrolled": true
   },
   "outputs": [],
   "source": [
    "extracted=extracted.apply(lambda x: x if len(x)>0 else None).dropna()"
   ]
  },
  {
   "cell_type": "code",
   "execution_count": 19,
   "id": "33010647",
   "metadata": {},
   "outputs": [],
   "source": []
  },
  {
   "cell_type": "code",
   "execution_count": 47,
   "id": "7642dd57",
   "metadata": {},
   "outputs": [],
   "source": []
  },
  {
   "cell_type": "code",
   "execution_count": 63,
   "id": "fa01eb00",
   "metadata": {},
   "outputs": [],
   "source": []
  },
  {
   "cell_type": "code",
   "execution_count": 78,
   "id": "7e9ddac2",
   "metadata": {},
   "outputs": [],
   "source": []
  },
  {
   "cell_type": "code",
   "execution_count": 80,
   "id": "948f5d6a",
   "metadata": {},
   "outputs": [],
   "source": []
  },
  {
   "cell_type": "code",
   "execution_count": null,
   "id": "a5215caf",
   "metadata": {},
   "outputs": [],
   "source": []
  },
  {
   "cell_type": "code",
   "execution_count": null,
   "id": "3d05b0d6",
   "metadata": {},
   "outputs": [],
   "source": []
  },
  {
   "cell_type": "code",
   "execution_count": null,
   "id": "fc3e2a22",
   "metadata": {},
   "outputs": [],
   "source": []
  }
 ],
 "metadata": {
  "kernelspec": {
   "display_name": "Python 3 (ipykernel)",
   "language": "python",
   "name": "python3"
  },
  "language_info": {
   "codemirror_mode": {
    "name": "ipython",
    "version": 3
   },
   "file_extension": ".py",
   "mimetype": "text/x-python",
   "name": "python",
   "nbconvert_exporter": "python",
   "pygments_lexer": "ipython3",
   "version": "3.9.16"
  }
 },
 "nbformat": 4,
 "nbformat_minor": 5
}
