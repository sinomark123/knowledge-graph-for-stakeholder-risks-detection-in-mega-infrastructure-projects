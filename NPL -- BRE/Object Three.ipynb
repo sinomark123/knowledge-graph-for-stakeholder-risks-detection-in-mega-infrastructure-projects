{
 "cells": [
  {
   "cell_type": "code",
   "execution_count": 1,
   "id": "028d0dd3",
   "metadata": {},
   "outputs": [],
   "source": [
    "import math\n",
    "import os\n",
    "\n",
    "from fpgrowth_py import fpgrowth\n",
    "import pandas as pd\n",
    "import glob\n",
    "import json\n",
    "import spacy\n",
    "from flashtext import KeywordProcessor\n",
    "import ahocorasick\n",
    "import nltk\n",
    "from concurrent.futures import ThreadPoolExecutor\n",
    "import plotly.graph_objects as go\n",
    "\n",
    "pathprefix = r\"D:\\Code Working Area\\Jupyter\\knowledge-graph-for-stakeholder-risks-detection-in-mega-infrastructure-projects\\ExcelData\"\n",
    "jsfile = pathprefix+\"\\\\Transactions.json\"\n",
    "stop_words=pathprefix+\"\\\\stop_words\\\\stop_words_stakeholder.txt\"\n",
    "unknow_long_phrase=pathprefix+\"\\\\stop_words\\\\unknow_long.txt\"\n",
    "\n",
    "project_sor = pathprefix+\"\\\\Source\\\\project.csv\"\n",
    "risk_sor = pathprefix+\"\\\\Source\\\\risk.xlsx\"\n",
    "stake_sor = pathprefix+\"\\\\Source\\\\stakeholder.csv\"\n",
    "\n",
    "project_key = pathprefix+\"\\\\project_keyword\\\\Project_keyword.xlsx\"\n",
    "risk_key_path = pathprefix+\"\\\\risk_keyword\\\\Risk_keyword.xlsx\"\n",
    "stake_key = pathprefix+\"\\\\stakeholder_keyword\\\\third_layer_iteration_one_stakeholder.xlsx\""
   ]
  },
  {
   "cell_type": "code",
   "execution_count": 2,
   "id": "6e3a3de2",
   "metadata": {},
   "outputs": [],
   "source": [
    "# !pip install regex\n",
    "# !pip install spacy\n",
    "# !pip install fpgrowth_py\n",
    "# !pip install pandas\n",
    "# !pip install seaborn\n",
    "# !pip install openpyxl\n",
    "# !python -m spacy install en_core_web_sm"
   ]
  },
  {
   "cell_type": "code",
   "execution_count": 3,
   "id": "a13df1ef",
   "metadata": {},
   "outputs": [
    {
     "name": "stderr",
     "output_type": "stream",
     "text": [
      "C:\\Users\\jqi22\\AppData\\Local\\Temp\\ipykernel_17688\\3799099859.py:1: DtypeWarning: Columns (3,7,8,12,13,18,27,28,29,30,31,38,39,40,41,42,43,44,45,50,51,53,54,59,63,64,65,67) have mixed types. Specify dtype option on import or set low_memory=False.\n",
      "  prj_sor = pd.read_csv(project_sor, sep = \",\")\n"
     ]
    }
   ],
   "source": [
    "prj_sor = pd.read_csv(project_sor, sep = \",\")\n",
    "risk_sor = pd.read_excel(risk_sor)\n",
    "stk_sor = pd.read_csv(stake_sor, sep = \",\")\n",
    "\n",
    "prj_key = pd.read_excel(project_key, index_col=None)\n",
    "risk_key = pd.read_excel(risk_key_path, index_col=None)\n",
    "stk_key = pd.read_excel(stake_key, index_col=None)\n",
    "stk_key.dropna(inplace=True)"
   ]
  },
  {
   "cell_type": "code",
   "execution_count": 4,
   "id": "07668456",
   "metadata": {},
   "outputs": [],
   "source": [
    "# get the target text from original dataset to match\n",
    "project = pd.DataFrame(prj_sor[\"Article Title\"])\n",
    "risk = pd.DataFrame(risk_sor[\"Abstract\"])\n",
    "stake = pd.DataFrame(stk_sor[\"Abstract\"])\n",
    "\n",
    "risk.dropna(inplace=True, how=\"any\")"
   ]
  },
  {
   "cell_type": "code",
   "execution_count": 5,
   "id": "aade67ab",
   "metadata": {
    "pycharm": {
     "is_executing": true
    }
   },
   "outputs": [],
   "source": [
    "en = spacy.load('en_core_web_sm')\n",
    "stopwords = en.Defaults.stop_words\n",
    "\n",
    "with open(stop_words, \"r\") as file:\n",
    "    in_list=[val.strip() for val in file.readlines()]\n",
    "\n",
    "def reload_dashes(droped: int)->set:\n",
    "    dashes = pd.read_excel(pathprefix+\"\\\\stop_words\\\\adjustment.xlsx\")\n",
    "    dashes = dashes[dashes.frequency > droped].Words.to_list()\n",
    "    return set(dashes)\n",
    "\n",
    "stopwords |= reload_dashes(2)\n",
    "stopwords |= set([str(num) for num in range(1,100)])\n",
    "stop_words={*stop_words, *in_list}\n",
    "\n",
    "# manually add the words to the stopwords\n",
    "possiblew = {\"connections\", \"efficacy\", \"life\", \"This\"}\n",
    "stopwords |= possiblew"
   ]
  },
  {
   "cell_type": "code",
   "execution_count": 6,
   "id": "9c0336c1",
   "metadata": {},
   "outputs": [],
   "source": [
    "stk_key.Abstract = stk_key.Abstract.str.lower()\n",
    "\n",
    "# Do I really need below two steps?\n",
    "risk_key.Abstract=risk_key.Abstract.astype(str)\n",
    "stk_key.Abstract=stk_key.Abstract.astype(str)"
   ]
  },
  {
   "cell_type": "markdown",
   "id": "bf81f86e",
   "metadata": {},
   "source": [
    "### First section of extraction keyword finished\n",
    "#### Usually suggested to comment out if already with test dataset"
   ]
  },
  {
   "cell_type": "code",
   "execution_count": 7,
   "id": "7c33fe95",
   "metadata": {},
   "outputs": [],
   "source": [
    "# test_file=pd.DataFrame([])\n",
    "# test_file=test_file.replace(regex=[\"{\", \"}\", \"'\"], value=\"\")\n",
    "def Warp_fpgrowth(minSup:float, confident:float, dataset_name: str):\n",
    "    ..."
   ]
  },
  {
   "cell_type": "code",
   "execution_count": 8,
   "id": "3981f469",
   "metadata": {},
   "outputs": [],
   "source": [
    "# Originally be devised for initialize the keyword for later integration\n",
    "class keyword():\n",
    "    prj, stk, risk=\"project\", \"stakeholder\", \"risk\"\n",
    "    prjw: KeywordProcessor=None\n",
    "    stkw: KeywordProcessor=None\n",
    "    riskw: KeywordProcessor=None\n",
    "\n",
    "    def re_estabilishment(self):\n",
    "        if not self.prjw and not self.stkw and not self.riskw:\n",
    "            ...\n"
   ]
  },
  {
   "cell_type": "code",
   "execution_count": 9,
   "id": "6ffa769f",
   "metadata": {},
   "outputs": [],
   "source": [
    "# test running process\n",
    "prjkeyword, stkeyw, riskeyw=KeywordProcessor(), KeywordProcessor(), KeywordProcessor()\n",
    "prjkeyword.add_keywords_from_list(prj_key.Article.to_list())\n",
    "stkeyw.add_keywords_from_list(stk_key.Abstract.to_list())\n",
    "riskeyw.add_keywords_from_list(risk_key.Abstract.to_list())"
   ]
  },
  {
   "cell_type": "code",
   "execution_count": 10,
   "id": "6c7a1aa0",
   "metadata": {},
   "outputs": [],
   "source": [
    "def single_plot(left: KeywordProcessor, val: list):\n",
    "    existence: int=0\n",
    "    for keyword in val:\n",
    "        if left.extract_keywords(keyword): existence+=1\n",
    "    return existence"
   ]
  },
  {
   "cell_type": "code",
   "execution_count": null,
   "id": "d5ebbc98",
   "metadata": {},
   "outputs": [],
   "source": [
    "def row_retrieve(name: str, left: KeywordProcessor, comparison: pd.DataFrame):\n",
    "    extradata: list=[]\n",
    "    for val in comparison.iterrows():\n",
    "        ori, dest = val[1][0:2]\n",
    "        ori,dest=ori.split(\", \"), dest.split(\", \")\n",
    "        ori,dest=single_plot(left, ori), single_plot(left, dest)\n",
    "        extradata.append([ori, dest])\n",
    "    comparison[[name+\" on start\", name+\" on destination\"]] = pd.DataFrame(extradata)\n",
    "    return comparison"
   ]
  },
  {
   "cell_type": "code",
   "execution_count": 12,
   "id": "9b98941d",
   "metadata": {},
   "outputs": [],
   "source": [
    "def test_retrieve(test_file: pd.DataFrame):\n",
    "    temp=row_retrieve(\"prj\", prjkeyword, test_file)\n",
    "    temp=row_retrieve(\"stk\", stkeyw, temp)\n",
    "    return row_retrieve(\"risk\", riskeyw, temp)"
   ]
  },
  {
   "cell_type": "code",
   "execution_count": 13,
   "id": "7efdabfd",
   "metadata": {},
   "outputs": [],
   "source": [
    "def general_info(dataset:pd.DataFrame):\n",
    "    series=dataset.loc[:,dataset.columns.to_list()[3:]]\n",
    "    remain=series[series.sum(axis=1)>1]\n",
    "    len3= remain.apply(lambda row: 1 if row[0]+row[1]>0 and row[2]+row[3]>0 and row[4]+row[5]>0 else 0, axis=1).sum()\n",
    "    len2=remain.apply(lambda row: 1 if sum([1 if row[i]+row[j]>0 else 0 for i in [0,2,4] for j in [1,3,5] if i==j-1])==2 else 0, axis=1).sum()\n",
    "    remain_val=(len2+len3)/len(series)\n",
    "    return [remain, remain_val, len2, len3]"
   ]
  },
  {
   "cell_type": "code",
   "execution_count": 14,
   "metadata": {
    "collapsed": false
   },
   "outputs": [],
   "source": [
    "def general_info_judge(dataset:pd.Series):\n",
    "    series=dataset.to_list()[3:]\n",
    "    len3= True if series[0]+series[1]>0 and series[2]+series[3]>0 and series[4]+series[5]>0 else False\n",
    "    len2=True if sum([1 if series[i]+series[j]>0 else 0 for i in [0,2,4] for j in [1,3,5] if i==j-1])==2 else False\n",
    "    return True if len2 or len3 else False"
   ]
  },
  {
   "cell_type": "code",
   "execution_count": 15,
   "id": "509d8f78",
   "metadata": {},
   "outputs": [],
   "source": [
    "# start, des=[],[]\n",
    "# for val in range(0, 6):\n",
    "# if info[val]&(val%2==0): start.append(val)\n",
    "# elif info[val]&val%2: des.append(val)\n",
    "def eigen_counts(remain: pd.Series):\n",
    "    p2sr, sp2r, pr2s, p2s, p2r, s2r, r2s=0,0,0,0,0,0,0\n",
    "    for _, val in remain.iterrows():\n",
    "        info=val.to_list()\n",
    "        if info[0]&info[3]&info[5]: p2sr+=1\n",
    "        elif info[2]&info[0]&info[5]: sp2r+=1\n",
    "        elif info[0]&info[4]&info[3]: pr2s+=1\n",
    "        elif info[0]&info[3]&(not info[1]+info[2]+info[4]+info[5]): p2s+=1\n",
    "        elif info[0]&info[5]&(not info[1]+info[2]+info[4]+info[3]): p2r+=1\n",
    "        elif info[2]&info[5]&(not info[1]+info[0]+info[4]+info[3]): s2r+=1\n",
    "        elif info[4]&info[3]&(not info[1]+info[2]+info[0]+info[5]): r2s+=1\n",
    "    return [p2sr, sp2r, pr2s, p2s, p2r, s2r, r2s]"
   ]
  },
  {
   "cell_type": "code",
   "execution_count": 16,
   "id": "69de58cc",
   "metadata": {},
   "outputs": [],
   "source": [
    "# remain, remain_val, len2, len3=general_info(temp)\n",
    "# pd.DataFrame([len(temp), remain_val, len2, len3, *eigen_counts(remain)], columns=[\"values\"], index=[\"file size\", \"validate rate\", \"length larger 2\", \"length larger than 3\", \"p2sr\", \"sp2r\", \"pr2s\", \"p2s\", \"p2r\", \"s2r\", \"r2s\"])"
   ]
  },
  {
   "cell_type": "code",
   "execution_count": null,
   "id": "1365888c",
   "metadata": {},
   "outputs": [],
   "source": [
    "file_name=os.listdir(pathprefix+\"\\\\FP_growth_result\")\n",
    "initial=pd.DataFrame([], index=[\"file size\", \"validate rate\", \"length larger 2\", \"length larger than 3\", \"p2sr\", \"sp2r\", \"pr2s\", \"p2s\", \"p2r\", \"s2r\", \"r2s\"])\n",
    "for files in file_name:\n",
    "    doc=pd.read_csv(pathprefix+f\"\\\\FP_growth_result\\\\{files}\").replace(regex=[\"{\", \"}\", \"'\"], value=\"\")\n",
    "    # print(files)\n",
    "    if doc.shape[1]!=3: continue\n",
    "    counting=test_retrieve(doc)\n",
    "    remain, remain_val, len2, len3=general_info(counting)\n",
    "    initial[files]=[len(doc),remain_val, len2, len3, *eigen_counts(remain)]"
   ]
  },
  {
   "cell_type": "code",
   "execution_count": 28,
   "id": "8753842e",
   "metadata": {},
   "outputs": [
    {
     "data": {
      "text/html": [
       "<div>\n",
       "<style scoped>\n",
       "    .dataframe tbody tr th:only-of-type {\n",
       "        vertical-align: middle;\n",
       "    }\n",
       "\n",
       "    .dataframe tbody tr th {\n",
       "        vertical-align: top;\n",
       "    }\n",
       "\n",
       "    .dataframe thead th {\n",
       "        text-align: right;\n",
       "    }\n",
       "</style>\n",
       "<table border=\"1\" class=\"dataframe\">\n",
       "  <thead>\n",
       "    <tr style=\"text-align: right;\">\n",
       "      <th></th>\n",
       "      <th>prj_0.0001049979_0.18.csv</th>\n",
       "      <th>prj_0.0001049979_0.22.csv</th>\n",
       "      <th>prj_0.0001049979_0.26.csv</th>\n",
       "      <th>prj_0.0001060305_0.1.csv</th>\n",
       "      <th>prj_0.0001060305_0.22.csv</th>\n",
       "      <th>prj_0.0001060305_0.26.csv</th>\n",
       "      <th>prj_0.0001312474_0.18.csv</th>\n",
       "      <th>prj_0.0001325381_0.14.csv</th>\n",
       "      <th>prj_0.0001574969_0.26.csv</th>\n",
       "      <th>prj_0.0001590457_0.18.csv</th>\n",
       "      <th>...</th>\n",
       "      <th>stk_0.0003306468_0.26.csv</th>\n",
       "      <th>stk_0.0003306468_0.3.csv</th>\n",
       "      <th>stk_0.0003665689_0.18.csv</th>\n",
       "      <th>stk_0.0003665689_0.22.csv</th>\n",
       "      <th>stk_0.0003665689_0.26.csv</th>\n",
       "      <th>stk_0.0003719777_0.14.csv</th>\n",
       "      <th>stk_0.0003719777_0.22.csv</th>\n",
       "      <th>stk_0.0004072988_0.14.csv</th>\n",
       "      <th>stk_0.0004072988_0.3.csv</th>\n",
       "      <th>stk_0.0004133085_0.14.csv</th>\n",
       "    </tr>\n",
       "  </thead>\n",
       "  <tbody>\n",
       "    <tr>\n",
       "      <th>file size</th>\n",
       "      <td>89.00000</td>\n",
       "      <td>82.00000</td>\n",
       "      <td>76.000000</td>\n",
       "      <td>40.000</td>\n",
       "      <td>27.00000</td>\n",
       "      <td>25.00</td>\n",
       "      <td>21.000000</td>\n",
       "      <td>35.000000</td>\n",
       "      <td>10.0</td>\n",
       "      <td>21.000000</td>\n",
       "      <td>...</td>\n",
       "      <td>39.000000</td>\n",
       "      <td>35.000000</td>\n",
       "      <td>39.000000</td>\n",
       "      <td>34.000000</td>\n",
       "      <td>32.00000</td>\n",
       "      <td>33.000000</td>\n",
       "      <td>26.000000</td>\n",
       "      <td>33.000000</td>\n",
       "      <td>22.000000</td>\n",
       "      <td>33.000000</td>\n",
       "    </tr>\n",
       "    <tr>\n",
       "      <th>validate rate</th>\n",
       "      <td>0.47191</td>\n",
       "      <td>0.47561</td>\n",
       "      <td>0.486842</td>\n",
       "      <td>0.425</td>\n",
       "      <td>0.37037</td>\n",
       "      <td>0.36</td>\n",
       "      <td>0.285714</td>\n",
       "      <td>0.428571</td>\n",
       "      <td>0.3</td>\n",
       "      <td>0.285714</td>\n",
       "      <td>...</td>\n",
       "      <td>0.230769</td>\n",
       "      <td>0.257143</td>\n",
       "      <td>0.128205</td>\n",
       "      <td>0.147059</td>\n",
       "      <td>0.15625</td>\n",
       "      <td>0.151515</td>\n",
       "      <td>0.192308</td>\n",
       "      <td>0.151515</td>\n",
       "      <td>0.227273</td>\n",
       "      <td>0.151515</td>\n",
       "    </tr>\n",
       "    <tr>\n",
       "      <th>length larger 2</th>\n",
       "      <td>42.00000</td>\n",
       "      <td>39.00000</td>\n",
       "      <td>37.000000</td>\n",
       "      <td>17.000</td>\n",
       "      <td>10.00000</td>\n",
       "      <td>9.00</td>\n",
       "      <td>6.000000</td>\n",
       "      <td>15.000000</td>\n",
       "      <td>3.0</td>\n",
       "      <td>6.000000</td>\n",
       "      <td>...</td>\n",
       "      <td>9.000000</td>\n",
       "      <td>9.000000</td>\n",
       "      <td>5.000000</td>\n",
       "      <td>5.000000</td>\n",
       "      <td>5.00000</td>\n",
       "      <td>5.000000</td>\n",
       "      <td>5.000000</td>\n",
       "      <td>5.000000</td>\n",
       "      <td>5.000000</td>\n",
       "      <td>5.000000</td>\n",
       "    </tr>\n",
       "    <tr>\n",
       "      <th>length larger than 3</th>\n",
       "      <td>0.00000</td>\n",
       "      <td>0.00000</td>\n",
       "      <td>0.000000</td>\n",
       "      <td>0.000</td>\n",
       "      <td>0.00000</td>\n",
       "      <td>0.00</td>\n",
       "      <td>0.000000</td>\n",
       "      <td>0.000000</td>\n",
       "      <td>0.0</td>\n",
       "      <td>0.000000</td>\n",
       "      <td>...</td>\n",
       "      <td>0.000000</td>\n",
       "      <td>0.000000</td>\n",
       "      <td>0.000000</td>\n",
       "      <td>0.000000</td>\n",
       "      <td>0.00000</td>\n",
       "      <td>0.000000</td>\n",
       "      <td>0.000000</td>\n",
       "      <td>0.000000</td>\n",
       "      <td>0.000000</td>\n",
       "      <td>0.000000</td>\n",
       "    </tr>\n",
       "    <tr>\n",
       "      <th>p2sr</th>\n",
       "      <td>0.00000</td>\n",
       "      <td>0.00000</td>\n",
       "      <td>0.000000</td>\n",
       "      <td>0.000</td>\n",
       "      <td>0.00000</td>\n",
       "      <td>0.00</td>\n",
       "      <td>0.000000</td>\n",
       "      <td>0.000000</td>\n",
       "      <td>0.0</td>\n",
       "      <td>0.000000</td>\n",
       "      <td>...</td>\n",
       "      <td>0.000000</td>\n",
       "      <td>0.000000</td>\n",
       "      <td>0.000000</td>\n",
       "      <td>0.000000</td>\n",
       "      <td>0.00000</td>\n",
       "      <td>0.000000</td>\n",
       "      <td>0.000000</td>\n",
       "      <td>0.000000</td>\n",
       "      <td>0.000000</td>\n",
       "      <td>0.000000</td>\n",
       "    </tr>\n",
       "    <tr>\n",
       "      <th>sp2r</th>\n",
       "      <td>0.00000</td>\n",
       "      <td>0.00000</td>\n",
       "      <td>0.000000</td>\n",
       "      <td>0.000</td>\n",
       "      <td>0.00000</td>\n",
       "      <td>0.00</td>\n",
       "      <td>0.000000</td>\n",
       "      <td>0.000000</td>\n",
       "      <td>0.0</td>\n",
       "      <td>0.000000</td>\n",
       "      <td>...</td>\n",
       "      <td>0.000000</td>\n",
       "      <td>0.000000</td>\n",
       "      <td>0.000000</td>\n",
       "      <td>0.000000</td>\n",
       "      <td>0.00000</td>\n",
       "      <td>0.000000</td>\n",
       "      <td>0.000000</td>\n",
       "      <td>0.000000</td>\n",
       "      <td>0.000000</td>\n",
       "      <td>0.000000</td>\n",
       "    </tr>\n",
       "    <tr>\n",
       "      <th>pr2s</th>\n",
       "      <td>0.00000</td>\n",
       "      <td>0.00000</td>\n",
       "      <td>0.000000</td>\n",
       "      <td>0.000</td>\n",
       "      <td>0.00000</td>\n",
       "      <td>0.00</td>\n",
       "      <td>0.000000</td>\n",
       "      <td>0.000000</td>\n",
       "      <td>0.0</td>\n",
       "      <td>0.000000</td>\n",
       "      <td>...</td>\n",
       "      <td>0.000000</td>\n",
       "      <td>0.000000</td>\n",
       "      <td>0.000000</td>\n",
       "      <td>0.000000</td>\n",
       "      <td>0.00000</td>\n",
       "      <td>0.000000</td>\n",
       "      <td>0.000000</td>\n",
       "      <td>0.000000</td>\n",
       "      <td>0.000000</td>\n",
       "      <td>0.000000</td>\n",
       "    </tr>\n",
       "    <tr>\n",
       "      <th>p2s</th>\n",
       "      <td>12.00000</td>\n",
       "      <td>11.00000</td>\n",
       "      <td>11.000000</td>\n",
       "      <td>7.000</td>\n",
       "      <td>4.00000</td>\n",
       "      <td>4.00</td>\n",
       "      <td>3.000000</td>\n",
       "      <td>6.000000</td>\n",
       "      <td>2.0</td>\n",
       "      <td>3.000000</td>\n",
       "      <td>...</td>\n",
       "      <td>3.000000</td>\n",
       "      <td>3.000000</td>\n",
       "      <td>1.000000</td>\n",
       "      <td>1.000000</td>\n",
       "      <td>1.00000</td>\n",
       "      <td>1.000000</td>\n",
       "      <td>1.000000</td>\n",
       "      <td>1.000000</td>\n",
       "      <td>1.000000</td>\n",
       "      <td>1.000000</td>\n",
       "    </tr>\n",
       "    <tr>\n",
       "      <th>p2r</th>\n",
       "      <td>0.00000</td>\n",
       "      <td>0.00000</td>\n",
       "      <td>0.000000</td>\n",
       "      <td>0.000</td>\n",
       "      <td>0.00000</td>\n",
       "      <td>0.00</td>\n",
       "      <td>0.000000</td>\n",
       "      <td>0.000000</td>\n",
       "      <td>0.0</td>\n",
       "      <td>0.000000</td>\n",
       "      <td>...</td>\n",
       "      <td>0.000000</td>\n",
       "      <td>0.000000</td>\n",
       "      <td>0.000000</td>\n",
       "      <td>0.000000</td>\n",
       "      <td>0.00000</td>\n",
       "      <td>0.000000</td>\n",
       "      <td>0.000000</td>\n",
       "      <td>0.000000</td>\n",
       "      <td>0.000000</td>\n",
       "      <td>0.000000</td>\n",
       "    </tr>\n",
       "    <tr>\n",
       "      <th>s2r</th>\n",
       "      <td>5.00000</td>\n",
       "      <td>5.00000</td>\n",
       "      <td>4.000000</td>\n",
       "      <td>3.000</td>\n",
       "      <td>2.00000</td>\n",
       "      <td>2.00</td>\n",
       "      <td>1.000000</td>\n",
       "      <td>3.000000</td>\n",
       "      <td>0.0</td>\n",
       "      <td>1.000000</td>\n",
       "      <td>...</td>\n",
       "      <td>2.000000</td>\n",
       "      <td>2.000000</td>\n",
       "      <td>2.000000</td>\n",
       "      <td>2.000000</td>\n",
       "      <td>2.00000</td>\n",
       "      <td>2.000000</td>\n",
       "      <td>2.000000</td>\n",
       "      <td>2.000000</td>\n",
       "      <td>2.000000</td>\n",
       "      <td>2.000000</td>\n",
       "    </tr>\n",
       "    <tr>\n",
       "      <th>r2s</th>\n",
       "      <td>0.00000</td>\n",
       "      <td>0.00000</td>\n",
       "      <td>0.000000</td>\n",
       "      <td>0.000</td>\n",
       "      <td>0.00000</td>\n",
       "      <td>0.00</td>\n",
       "      <td>0.000000</td>\n",
       "      <td>0.000000</td>\n",
       "      <td>0.0</td>\n",
       "      <td>0.000000</td>\n",
       "      <td>...</td>\n",
       "      <td>0.000000</td>\n",
       "      <td>0.000000</td>\n",
       "      <td>0.000000</td>\n",
       "      <td>0.000000</td>\n",
       "      <td>0.00000</td>\n",
       "      <td>0.000000</td>\n",
       "      <td>0.000000</td>\n",
       "      <td>0.000000</td>\n",
       "      <td>0.000000</td>\n",
       "      <td>0.000000</td>\n",
       "    </tr>\n",
       "  </tbody>\n",
       "</table>\n",
       "<p>11 rows × 89 columns</p>\n",
       "</div>"
      ],
      "text/plain": [
       "                      prj_0.0001049979_0.18.csv  prj_0.0001049979_0.22.csv  \\\n",
       "file size                              89.00000                   82.00000   \n",
       "validate rate                           0.47191                    0.47561   \n",
       "length larger 2                        42.00000                   39.00000   \n",
       "length larger than 3                    0.00000                    0.00000   \n",
       "p2sr                                    0.00000                    0.00000   \n",
       "sp2r                                    0.00000                    0.00000   \n",
       "pr2s                                    0.00000                    0.00000   \n",
       "p2s                                    12.00000                   11.00000   \n",
       "p2r                                     0.00000                    0.00000   \n",
       "s2r                                     5.00000                    5.00000   \n",
       "r2s                                     0.00000                    0.00000   \n",
       "\n",
       "                      prj_0.0001049979_0.26.csv  prj_0.0001060305_0.1.csv  \\\n",
       "file size                             76.000000                    40.000   \n",
       "validate rate                          0.486842                     0.425   \n",
       "length larger 2                       37.000000                    17.000   \n",
       "length larger than 3                   0.000000                     0.000   \n",
       "p2sr                                   0.000000                     0.000   \n",
       "sp2r                                   0.000000                     0.000   \n",
       "pr2s                                   0.000000                     0.000   \n",
       "p2s                                   11.000000                     7.000   \n",
       "p2r                                    0.000000                     0.000   \n",
       "s2r                                    4.000000                     3.000   \n",
       "r2s                                    0.000000                     0.000   \n",
       "\n",
       "                      prj_0.0001060305_0.22.csv  prj_0.0001060305_0.26.csv  \\\n",
       "file size                              27.00000                      25.00   \n",
       "validate rate                           0.37037                       0.36   \n",
       "length larger 2                        10.00000                       9.00   \n",
       "length larger than 3                    0.00000                       0.00   \n",
       "p2sr                                    0.00000                       0.00   \n",
       "sp2r                                    0.00000                       0.00   \n",
       "pr2s                                    0.00000                       0.00   \n",
       "p2s                                     4.00000                       4.00   \n",
       "p2r                                     0.00000                       0.00   \n",
       "s2r                                     2.00000                       2.00   \n",
       "r2s                                     0.00000                       0.00   \n",
       "\n",
       "                      prj_0.0001312474_0.18.csv  prj_0.0001325381_0.14.csv  \\\n",
       "file size                             21.000000                  35.000000   \n",
       "validate rate                          0.285714                   0.428571   \n",
       "length larger 2                        6.000000                  15.000000   \n",
       "length larger than 3                   0.000000                   0.000000   \n",
       "p2sr                                   0.000000                   0.000000   \n",
       "sp2r                                   0.000000                   0.000000   \n",
       "pr2s                                   0.000000                   0.000000   \n",
       "p2s                                    3.000000                   6.000000   \n",
       "p2r                                    0.000000                   0.000000   \n",
       "s2r                                    1.000000                   3.000000   \n",
       "r2s                                    0.000000                   0.000000   \n",
       "\n",
       "                      prj_0.0001574969_0.26.csv  prj_0.0001590457_0.18.csv  \\\n",
       "file size                                  10.0                  21.000000   \n",
       "validate rate                               0.3                   0.285714   \n",
       "length larger 2                             3.0                   6.000000   \n",
       "length larger than 3                        0.0                   0.000000   \n",
       "p2sr                                        0.0                   0.000000   \n",
       "sp2r                                        0.0                   0.000000   \n",
       "pr2s                                        0.0                   0.000000   \n",
       "p2s                                         2.0                   3.000000   \n",
       "p2r                                         0.0                   0.000000   \n",
       "s2r                                         0.0                   1.000000   \n",
       "r2s                                         0.0                   0.000000   \n",
       "\n",
       "                      ...  stk_0.0003306468_0.26.csv  \\\n",
       "file size             ...                  39.000000   \n",
       "validate rate         ...                   0.230769   \n",
       "length larger 2       ...                   9.000000   \n",
       "length larger than 3  ...                   0.000000   \n",
       "p2sr                  ...                   0.000000   \n",
       "sp2r                  ...                   0.000000   \n",
       "pr2s                  ...                   0.000000   \n",
       "p2s                   ...                   3.000000   \n",
       "p2r                   ...                   0.000000   \n",
       "s2r                   ...                   2.000000   \n",
       "r2s                   ...                   0.000000   \n",
       "\n",
       "                      stk_0.0003306468_0.3.csv  stk_0.0003665689_0.18.csv  \\\n",
       "file size                            35.000000                  39.000000   \n",
       "validate rate                         0.257143                   0.128205   \n",
       "length larger 2                       9.000000                   5.000000   \n",
       "length larger than 3                  0.000000                   0.000000   \n",
       "p2sr                                  0.000000                   0.000000   \n",
       "sp2r                                  0.000000                   0.000000   \n",
       "pr2s                                  0.000000                   0.000000   \n",
       "p2s                                   3.000000                   1.000000   \n",
       "p2r                                   0.000000                   0.000000   \n",
       "s2r                                   2.000000                   2.000000   \n",
       "r2s                                   0.000000                   0.000000   \n",
       "\n",
       "                      stk_0.0003665689_0.22.csv  stk_0.0003665689_0.26.csv  \\\n",
       "file size                             34.000000                   32.00000   \n",
       "validate rate                          0.147059                    0.15625   \n",
       "length larger 2                        5.000000                    5.00000   \n",
       "length larger than 3                   0.000000                    0.00000   \n",
       "p2sr                                   0.000000                    0.00000   \n",
       "sp2r                                   0.000000                    0.00000   \n",
       "pr2s                                   0.000000                    0.00000   \n",
       "p2s                                    1.000000                    1.00000   \n",
       "p2r                                    0.000000                    0.00000   \n",
       "s2r                                    2.000000                    2.00000   \n",
       "r2s                                    0.000000                    0.00000   \n",
       "\n",
       "                      stk_0.0003719777_0.14.csv  stk_0.0003719777_0.22.csv  \\\n",
       "file size                             33.000000                  26.000000   \n",
       "validate rate                          0.151515                   0.192308   \n",
       "length larger 2                        5.000000                   5.000000   \n",
       "length larger than 3                   0.000000                   0.000000   \n",
       "p2sr                                   0.000000                   0.000000   \n",
       "sp2r                                   0.000000                   0.000000   \n",
       "pr2s                                   0.000000                   0.000000   \n",
       "p2s                                    1.000000                   1.000000   \n",
       "p2r                                    0.000000                   0.000000   \n",
       "s2r                                    2.000000                   2.000000   \n",
       "r2s                                    0.000000                   0.000000   \n",
       "\n",
       "                      stk_0.0004072988_0.14.csv  stk_0.0004072988_0.3.csv  \\\n",
       "file size                             33.000000                 22.000000   \n",
       "validate rate                          0.151515                  0.227273   \n",
       "length larger 2                        5.000000                  5.000000   \n",
       "length larger than 3                   0.000000                  0.000000   \n",
       "p2sr                                   0.000000                  0.000000   \n",
       "sp2r                                   0.000000                  0.000000   \n",
       "pr2s                                   0.000000                  0.000000   \n",
       "p2s                                    1.000000                  1.000000   \n",
       "p2r                                    0.000000                  0.000000   \n",
       "s2r                                    2.000000                  2.000000   \n",
       "r2s                                    0.000000                  0.000000   \n",
       "\n",
       "                      stk_0.0004133085_0.14.csv  \n",
       "file size                             33.000000  \n",
       "validate rate                          0.151515  \n",
       "length larger 2                        5.000000  \n",
       "length larger than 3                   0.000000  \n",
       "p2sr                                   0.000000  \n",
       "sp2r                                   0.000000  \n",
       "pr2s                                   0.000000  \n",
       "p2s                                    1.000000  \n",
       "p2r                                    0.000000  \n",
       "s2r                                    2.000000  \n",
       "r2s                                    0.000000  \n",
       "\n",
       "[11 rows x 89 columns]"
      ]
     },
     "execution_count": 28,
     "metadata": {},
     "output_type": "execute_result"
    }
   ],
   "source": [
    "initial"
   ]
  },
  {
   "cell_type": "code",
   "execution_count": null,
   "id": "0f67dbb5",
   "metadata": {},
   "outputs": [],
   "source": []
  },
  {
   "cell_type": "code",
   "execution_count": 82,
   "id": "0ad7c751",
   "metadata": {},
   "outputs": [
    {
     "data": {
      "text/plain": [
       "1.453"
      ]
     },
     "execution_count": 82,
     "metadata": {},
     "output_type": "execute_result"
    }
   ],
   "source": [
    "# files=file_name[1]\n",
    "# doc=pd.read_csv(pathprefix+\"\\\\FP_growth_result\\\\risk_9.92605e-05_0.26.csv\").replace(regex=[\"{\", \"}\", \"'\"], value=\"\")\n",
    "# counting=test_retrieve(doc)\n",
    "# remain, remain_val, len2, len3=general_info(counting)\n",
    "# initial[files]=[len(remain),remain_val, len2, len3, *eigen_counts(remain)]"
   ]
  },
  {
   "cell_type": "code",
   "execution_count": 29,
   "id": "4b5d49ed",
   "metadata": {},
   "outputs": [],
   "source": [
    "partition=initial.loc[[\"validate rate\"], :]\n",
    "value, columns=partition.values, partition.columns.to_list()"
   ]
  },
  {
   "cell_type": "code",
   "execution_count": 30,
   "id": "0d9e252e",
   "metadata": {},
   "outputs": [],
   "source": [
    "new_vis_set=[columns[num].replace(\".csv\", \"\").split(\"_\")+[value[0][num]] for num in range(0, len(columns))]"
   ]
  },
  {
   "cell_type": "code",
   "execution_count": 31,
   "id": "0320551b",
   "metadata": {},
   "outputs": [],
   "source": [
    "new_vis_set=pd.DataFrame(new_vis_set, columns=[\"name\", \"fre\", \"conf\", \"validate rate\"])\n",
    "new_vis_set[[\"fre\", \"conf\"]]=new_vis_set.loc[:, [\"fre\", \"conf\"]].astype(float)"
   ]
  },
  {
   "cell_type": "code",
   "execution_count": 32,
   "id": "570a8937",
   "metadata": {},
   "outputs": [
    {
     "data": {
      "text/html": [
       "<div>\n",
       "<style scoped>\n",
       "    .dataframe tbody tr th:only-of-type {\n",
       "        vertical-align: middle;\n",
       "    }\n",
       "\n",
       "    .dataframe tbody tr th {\n",
       "        vertical-align: top;\n",
       "    }\n",
       "\n",
       "    .dataframe thead th {\n",
       "        text-align: right;\n",
       "    }\n",
       "</style>\n",
       "<table border=\"1\" class=\"dataframe\">\n",
       "  <thead>\n",
       "    <tr style=\"text-align: right;\">\n",
       "      <th></th>\n",
       "      <th>name</th>\n",
       "      <th>fre</th>\n",
       "      <th>conf</th>\n",
       "      <th>validate rate</th>\n",
       "    </tr>\n",
       "  </thead>\n",
       "  <tbody>\n",
       "    <tr>\n",
       "      <th>0</th>\n",
       "      <td>prj</td>\n",
       "      <td>0.000105</td>\n",
       "      <td>0.18</td>\n",
       "      <td>0.471910</td>\n",
       "    </tr>\n",
       "    <tr>\n",
       "      <th>1</th>\n",
       "      <td>prj</td>\n",
       "      <td>0.000105</td>\n",
       "      <td>0.22</td>\n",
       "      <td>0.475610</td>\n",
       "    </tr>\n",
       "    <tr>\n",
       "      <th>2</th>\n",
       "      <td>prj</td>\n",
       "      <td>0.000105</td>\n",
       "      <td>0.26</td>\n",
       "      <td>0.486842</td>\n",
       "    </tr>\n",
       "    <tr>\n",
       "      <th>3</th>\n",
       "      <td>prj</td>\n",
       "      <td>0.000106</td>\n",
       "      <td>0.10</td>\n",
       "      <td>0.425000</td>\n",
       "    </tr>\n",
       "    <tr>\n",
       "      <th>4</th>\n",
       "      <td>prj</td>\n",
       "      <td>0.000106</td>\n",
       "      <td>0.22</td>\n",
       "      <td>0.370370</td>\n",
       "    </tr>\n",
       "    <tr>\n",
       "      <th>...</th>\n",
       "      <td>...</td>\n",
       "      <td>...</td>\n",
       "      <td>...</td>\n",
       "      <td>...</td>\n",
       "    </tr>\n",
       "    <tr>\n",
       "      <th>84</th>\n",
       "      <td>stk</td>\n",
       "      <td>0.000372</td>\n",
       "      <td>0.14</td>\n",
       "      <td>0.151515</td>\n",
       "    </tr>\n",
       "    <tr>\n",
       "      <th>85</th>\n",
       "      <td>stk</td>\n",
       "      <td>0.000372</td>\n",
       "      <td>0.22</td>\n",
       "      <td>0.192308</td>\n",
       "    </tr>\n",
       "    <tr>\n",
       "      <th>86</th>\n",
       "      <td>stk</td>\n",
       "      <td>0.000407</td>\n",
       "      <td>0.14</td>\n",
       "      <td>0.151515</td>\n",
       "    </tr>\n",
       "    <tr>\n",
       "      <th>87</th>\n",
       "      <td>stk</td>\n",
       "      <td>0.000407</td>\n",
       "      <td>0.30</td>\n",
       "      <td>0.227273</td>\n",
       "    </tr>\n",
       "    <tr>\n",
       "      <th>88</th>\n",
       "      <td>stk</td>\n",
       "      <td>0.000413</td>\n",
       "      <td>0.14</td>\n",
       "      <td>0.151515</td>\n",
       "    </tr>\n",
       "  </tbody>\n",
       "</table>\n",
       "<p>89 rows × 4 columns</p>\n",
       "</div>"
      ],
      "text/plain": [
       "   name       fre  conf  validate rate\n",
       "0   prj  0.000105  0.18       0.471910\n",
       "1   prj  0.000105  0.22       0.475610\n",
       "2   prj  0.000105  0.26       0.486842\n",
       "3   prj  0.000106  0.10       0.425000\n",
       "4   prj  0.000106  0.22       0.370370\n",
       "..  ...       ...   ...            ...\n",
       "84  stk  0.000372  0.14       0.151515\n",
       "85  stk  0.000372  0.22       0.192308\n",
       "86  stk  0.000407  0.14       0.151515\n",
       "87  stk  0.000407  0.30       0.227273\n",
       "88  stk  0.000413  0.14       0.151515\n",
       "\n",
       "[89 rows x 4 columns]"
      ]
     },
     "execution_count": 32,
     "metadata": {},
     "output_type": "execute_result"
    }
   ],
   "source": [
    "new_vis_set"
   ]
  },
  {
   "cell_type": "code",
   "execution_count": 132,
   "id": "ccdf2807",
   "metadata": {},
   "outputs": [],
   "source": [
    "# # Read data from a csv\n",
    "# z_data = pd.read_csv('https://raw.githubusercontent.com/plotly/datasets/master/api_docs/mt_bruno_elevation.csv')\n",
    "#\n",
    "# fig = go.Figure(data=[go.Surface(z=z_data.values)])\n",
    "# fig.update_traces(contours_z=dict(show=True, usecolormap=True,\n",
    "#                                   highlightcolor=\"limegreen\", project_z=True))\n",
    "# fig.update_layout(title='Mt Bruno Elevation', autosize=False,\n",
    "#                   scene_camera_eye=dict(x=1.87, y=0.88, z=-0.64),\n",
    "#                   width=500, height=500,\n",
    "#                   margin=dict(l=65, r=50, b=65, t=90)\n",
    "# )\n",
    "\n",
    "# fig.show()"
   ]
  },
  {
   "cell_type": "code",
   "execution_count": 33,
   "id": "30f3a354",
   "metadata": {},
   "outputs": [],
   "source": [
    "# vals=attempt1.values\n",
    "fig=go.Figure(data=[go.Surface(\n",
    "    y=new_vis_set.conf.values,  # (5, 40, 5)\n",
    "    x=new_vis_set.fre.values,  # (10, 30, 5)\n",
    "    z=new_vis_set[\"validate rate\"].values, name=\"Test validation Score\")\n",
    "])"
   ]
  },
  {
   "cell_type": "code",
   "execution_count": null,
   "id": "692b6f53",
   "metadata": {
    "pycharm": {
     "is_executing": true
    }
   },
   "outputs": [],
   "source": [
    "fig.update_layout(title='Validation Score', autosize=False,\n",
    "                  scene_camera_eye=dict(x=1.7, y=1.8, z=-0.5),\n",
    "                  width=500, height=500,\n",
    "                  margin=dict(l=65, r=50, b=65, t=90),\n",
    "                  scene = dict(\n",
    "                      yaxis_title='Condition Probability',\n",
    "                      xaxis_title='Frequency',\n",
    "                      zaxis_title='Scores')\n",
    "                  )\n",
    "# , x=\"n_estimator\", y=\"max_depth\", z=\"Scores\", color=\"species\", title=\"validation plot\"\n",
    "# fig.show()"
   ]
  },
  {
   "cell_type": "code",
   "execution_count": 35,
   "id": "46913fbf",
   "metadata": {},
   "outputs": [
    {
     "data": {
      "application/vnd.plotly.v1+json": {
       "config": {
        "plotlyServerURL": "https://plot.ly"
       },
       "data": [
        {
         "hovertemplate": "name=prj<br>fre=%{x}<br>conf=%{y}<br>validate rate=%{z}<extra></extra>",
         "legendgroup": "prj",
         "marker": {
          "color": "#636efa",
          "opacity": 0.7,
          "symbol": "circle"
         },
         "mode": "markers",
         "name": "prj",
         "scene": "scene",
         "showlegend": true,
         "type": "scatter3d",
         "x": [
          0.0001049979,
          0.0001049979,
          0.0001049979,
          0.0001060305,
          0.0001060305,
          0.0001060305,
          0.0001312474,
          0.0001325381,
          0.0001574969,
          0.0001590457,
          0.0001837463,
          0.0001855533,
          0.0001855533,
          0.0002099958,
          0.0002099958,
          0.000212061,
          0.0002362453,
          0.0002362453,
          0.0002362453,
          0.0002385686,
          0.0002385686,
          0.0002385686,
          0.0002624948,
          0.0002624948,
          0.0002650762,
          0.0002650762,
          0.00026508,
          0.00026508
         ],
         "y": [
          0.18,
          0.22,
          0.26,
          0.1,
          0.22,
          0.26,
          0.18,
          0.14,
          0.26,
          0.18,
          0.22,
          0.1,
          0.18,
          0.18,
          0.3,
          0.14,
          0.1,
          0.14,
          0.3,
          0.1,
          0.18,
          0.3,
          0.1,
          0.26,
          0.18,
          0.26,
          0.1,
          0.22
         ],
         "z": [
          0.47191011235955055,
          0.47560975609756095,
          0.4868421052631579,
          0.425,
          0.37037037037037035,
          0.36,
          0.2857142857142857,
          0.42857142857142855,
          0.3,
          0.2857142857142857,
          0.3,
          0.35294117647058826,
          0.3,
          0.3,
          0.3,
          0.125,
          0.16666666666666666,
          0.2,
          0,
          0.16666666666666666,
          0,
          0,
          0.16666666666666666,
          0,
          0,
          0,
          0.16666666666666666,
          0
         ]
        },
        {
         "hovertemplate": "name=Result<br>fre=%{x}<br>conf=%{y}<br>validate rate=%{z}<extra></extra>",
         "legendgroup": "Result",
         "marker": {
          "color": "#EF553B",
          "opacity": 0.7,
          "symbol": "circle"
         },
         "mode": "markers",
         "name": "Result",
         "scene": "scene",
         "showlegend": true,
         "type": "scatter3d",
         "x": [
          0.001
         ],
         "y": [
          0.5
         ],
         "z": [
          0.007662835249042145
         ]
        },
        {
         "hovertemplate": "name=risk<br>fre=%{x}<br>conf=%{y}<br>validate rate=%{z}<extra></extra>",
         "legendgroup": "risk",
         "marker": {
          "color": "#00cc96",
          "opacity": 0.7,
          "symbol": "circle"
         },
         "mode": "markers",
         "name": "risk",
         "scene": "scene",
         "showlegend": true,
         "type": "scatter3d",
         "x": [
          0.0001121921,
          0.0001158039,
          0.0001158039,
          0.0001282195,
          0.0001323473,
          0.0001323473,
          0.0001488908,
          0.0001602744,
          0.0001602744,
          0.0001654342,
          0.0001654342,
          0.0001654342,
          0.00016543,
          0.00016543,
          0.0000641098,
          0.0000641098,
          0.0000661737,
          0.0000661737,
          0.0000801372,
          0.0000801372,
          0.0000801372,
          0.0000961646,
          0.0000961646,
          0.0000961646,
          0.0000992605,
          0.0000992605
         ],
         "y": [
          0.26,
          0.22,
          0.3,
          0.22,
          0.1,
          0.18,
          0.26,
          0.18,
          0.22,
          0.1,
          0.22,
          0.3,
          0.14,
          0.18,
          0.14,
          0.3,
          0.14,
          0.18,
          0.14,
          0.22,
          0.26,
          0.14,
          0.18,
          0.22,
          0.14,
          0.26
         ],
         "z": [
          0.4370860927152318,
          0.4838709677419355,
          0.460431654676259,
          0.4418604651162791,
          0.4797297297297297,
          0.49261083743842365,
          0.40404040404040403,
          0.3602941176470588,
          0.33636363636363636,
          0.42441860465116277,
          0.4,
          0.3717948717948718,
          0.42696629213483145,
          0.43448275862068964,
          0.4262295081967213,
          0.4065040650406504,
          0.44871794871794873,
          0.4609164420485175,
          0.4257142857142857,
          0.4330357142857143,
          0.4322916666666667,
          0.4257142857142857,
          0.4264705882352941,
          0.4330357142857143,
          0.45345345345345345,
          0.4696132596685083
         ]
        },
        {
         "hovertemplate": "name=stk<br>fre=%{x}<br>conf=%{y}<br>validate rate=%{z}<extra></extra>",
         "legendgroup": "stk",
         "marker": {
          "color": "#ab63fa",
          "opacity": 0.7,
          "symbol": "circle"
         },
         "mode": "markers",
         "name": "stk",
         "scene": "scene",
         "showlegend": true,
         "type": "scatter3d",
         "x": [
          0.0001629195,
          0.0001653234,
          0.0002036494,
          0.0002036494,
          0.0002066543,
          0.0002066543,
          0.0002066543,
          0.0002066543,
          0.0002066543,
          0.0002443793,
          0.0002443793,
          0.0002479851,
          0.0002479851,
          0.0002479851,
          0.0002851092,
          0.0002851092,
          0.0002851092,
          0.0002851092,
          0.000289316,
          0.000289316,
          0.000325839,
          0.000325839,
          0.000325839,
          0.0003306468,
          0.0003306468,
          0.0003306468,
          0.0003665689,
          0.0003665689,
          0.0003665689,
          0.0003719777,
          0.0003719777,
          0.0004072988,
          0.0004072988,
          0.0004133085
         ],
         "y": [
          0.1,
          0.3,
          0.1,
          0.3,
          0.1,
          0.18,
          0.22,
          0.26,
          0.3,
          0.1,
          0.3,
          0.1,
          0.22,
          0.3,
          0.1,
          0.14,
          0.18,
          0.3,
          0.14,
          0.26,
          0.1,
          0.14,
          0.26,
          0.22,
          0.26,
          0.3,
          0.18,
          0.22,
          0.26,
          0.14,
          0.22,
          0.14,
          0.3,
          0.14
         ],
         "z": [
          0.1568627450980392,
          0.18666666666666668,
          0.1826086956521739,
          0.24324324324324326,
          0.1891891891891892,
          0.2127659574468085,
          0.23809523809523808,
          0.24050632911392406,
          0.25,
          0.18681318681318682,
          0.24193548387096775,
          0.1891891891891892,
          0.23809523809523808,
          0.25,
          0.1694915254237288,
          0.16981132075471697,
          0.1836734693877551,
          0.23684210526315788,
          0.18,
          0.23076923076923078,
          0.1694915254237288,
          0.16981132075471697,
          0.21428571428571427,
          0.21951219512195122,
          0.23076923076923078,
          0.2571428571428571,
          0.1282051282051282,
          0.14705882352941177,
          0.15625,
          0.15151515151515152,
          0.19230769230769232,
          0.15151515151515152,
          0.22727272727272727,
          0.15151515151515152
         ]
        }
       ],
       "layout": {
        "legend": {
         "title": {
          "text": "name"
         },
         "tracegroupgap": 0
        },
        "margin": {
         "t": 60
        },
        "scene": {
         "domain": {
          "x": [
           0,
           1
          ],
          "y": [
           0,
           1
          ]
         },
         "xaxis": {
          "title": {
           "text": "fre"
          }
         },
         "yaxis": {
          "title": {
           "text": "conf"
          }
         },
         "zaxis": {
          "title": {
           "text": "validate rate"
          }
         }
        },
        "template": {
         "data": {
          "bar": [
           {
            "error_x": {
             "color": "#2a3f5f"
            },
            "error_y": {
             "color": "#2a3f5f"
            },
            "marker": {
             "line": {
              "color": "#E5ECF6",
              "width": 0.5
             },
             "pattern": {
              "fillmode": "overlay",
              "size": 10,
              "solidity": 0.2
             }
            },
            "type": "bar"
           }
          ],
          "barpolar": [
           {
            "marker": {
             "line": {
              "color": "#E5ECF6",
              "width": 0.5
             },
             "pattern": {
              "fillmode": "overlay",
              "size": 10,
              "solidity": 0.2
             }
            },
            "type": "barpolar"
           }
          ],
          "carpet": [
           {
            "aaxis": {
             "endlinecolor": "#2a3f5f",
             "gridcolor": "white",
             "linecolor": "white",
             "minorgridcolor": "white",
             "startlinecolor": "#2a3f5f"
            },
            "baxis": {
             "endlinecolor": "#2a3f5f",
             "gridcolor": "white",
             "linecolor": "white",
             "minorgridcolor": "white",
             "startlinecolor": "#2a3f5f"
            },
            "type": "carpet"
           }
          ],
          "choropleth": [
           {
            "colorbar": {
             "outlinewidth": 0,
             "ticks": ""
            },
            "type": "choropleth"
           }
          ],
          "contour": [
           {
            "colorbar": {
             "outlinewidth": 0,
             "ticks": ""
            },
            "colorscale": [
             [
              0,
              "#0d0887"
             ],
             [
              0.1111111111111111,
              "#46039f"
             ],
             [
              0.2222222222222222,
              "#7201a8"
             ],
             [
              0.3333333333333333,
              "#9c179e"
             ],
             [
              0.4444444444444444,
              "#bd3786"
             ],
             [
              0.5555555555555556,
              "#d8576b"
             ],
             [
              0.6666666666666666,
              "#ed7953"
             ],
             [
              0.7777777777777778,
              "#fb9f3a"
             ],
             [
              0.8888888888888888,
              "#fdca26"
             ],
             [
              1,
              "#f0f921"
             ]
            ],
            "type": "contour"
           }
          ],
          "contourcarpet": [
           {
            "colorbar": {
             "outlinewidth": 0,
             "ticks": ""
            },
            "type": "contourcarpet"
           }
          ],
          "heatmap": [
           {
            "colorbar": {
             "outlinewidth": 0,
             "ticks": ""
            },
            "colorscale": [
             [
              0,
              "#0d0887"
             ],
             [
              0.1111111111111111,
              "#46039f"
             ],
             [
              0.2222222222222222,
              "#7201a8"
             ],
             [
              0.3333333333333333,
              "#9c179e"
             ],
             [
              0.4444444444444444,
              "#bd3786"
             ],
             [
              0.5555555555555556,
              "#d8576b"
             ],
             [
              0.6666666666666666,
              "#ed7953"
             ],
             [
              0.7777777777777778,
              "#fb9f3a"
             ],
             [
              0.8888888888888888,
              "#fdca26"
             ],
             [
              1,
              "#f0f921"
             ]
            ],
            "type": "heatmap"
           }
          ],
          "heatmapgl": [
           {
            "colorbar": {
             "outlinewidth": 0,
             "ticks": ""
            },
            "colorscale": [
             [
              0,
              "#0d0887"
             ],
             [
              0.1111111111111111,
              "#46039f"
             ],
             [
              0.2222222222222222,
              "#7201a8"
             ],
             [
              0.3333333333333333,
              "#9c179e"
             ],
             [
              0.4444444444444444,
              "#bd3786"
             ],
             [
              0.5555555555555556,
              "#d8576b"
             ],
             [
              0.6666666666666666,
              "#ed7953"
             ],
             [
              0.7777777777777778,
              "#fb9f3a"
             ],
             [
              0.8888888888888888,
              "#fdca26"
             ],
             [
              1,
              "#f0f921"
             ]
            ],
            "type": "heatmapgl"
           }
          ],
          "histogram": [
           {
            "marker": {
             "pattern": {
              "fillmode": "overlay",
              "size": 10,
              "solidity": 0.2
             }
            },
            "type": "histogram"
           }
          ],
          "histogram2d": [
           {
            "colorbar": {
             "outlinewidth": 0,
             "ticks": ""
            },
            "colorscale": [
             [
              0,
              "#0d0887"
             ],
             [
              0.1111111111111111,
              "#46039f"
             ],
             [
              0.2222222222222222,
              "#7201a8"
             ],
             [
              0.3333333333333333,
              "#9c179e"
             ],
             [
              0.4444444444444444,
              "#bd3786"
             ],
             [
              0.5555555555555556,
              "#d8576b"
             ],
             [
              0.6666666666666666,
              "#ed7953"
             ],
             [
              0.7777777777777778,
              "#fb9f3a"
             ],
             [
              0.8888888888888888,
              "#fdca26"
             ],
             [
              1,
              "#f0f921"
             ]
            ],
            "type": "histogram2d"
           }
          ],
          "histogram2dcontour": [
           {
            "colorbar": {
             "outlinewidth": 0,
             "ticks": ""
            },
            "colorscale": [
             [
              0,
              "#0d0887"
             ],
             [
              0.1111111111111111,
              "#46039f"
             ],
             [
              0.2222222222222222,
              "#7201a8"
             ],
             [
              0.3333333333333333,
              "#9c179e"
             ],
             [
              0.4444444444444444,
              "#bd3786"
             ],
             [
              0.5555555555555556,
              "#d8576b"
             ],
             [
              0.6666666666666666,
              "#ed7953"
             ],
             [
              0.7777777777777778,
              "#fb9f3a"
             ],
             [
              0.8888888888888888,
              "#fdca26"
             ],
             [
              1,
              "#f0f921"
             ]
            ],
            "type": "histogram2dcontour"
           }
          ],
          "mesh3d": [
           {
            "colorbar": {
             "outlinewidth": 0,
             "ticks": ""
            },
            "type": "mesh3d"
           }
          ],
          "parcoords": [
           {
            "line": {
             "colorbar": {
              "outlinewidth": 0,
              "ticks": ""
             }
            },
            "type": "parcoords"
           }
          ],
          "pie": [
           {
            "automargin": true,
            "type": "pie"
           }
          ],
          "scatter": [
           {
            "fillpattern": {
             "fillmode": "overlay",
             "size": 10,
             "solidity": 0.2
            },
            "type": "scatter"
           }
          ],
          "scatter3d": [
           {
            "line": {
             "colorbar": {
              "outlinewidth": 0,
              "ticks": ""
             }
            },
            "marker": {
             "colorbar": {
              "outlinewidth": 0,
              "ticks": ""
             }
            },
            "type": "scatter3d"
           }
          ],
          "scattercarpet": [
           {
            "marker": {
             "colorbar": {
              "outlinewidth": 0,
              "ticks": ""
             }
            },
            "type": "scattercarpet"
           }
          ],
          "scattergeo": [
           {
            "marker": {
             "colorbar": {
              "outlinewidth": 0,
              "ticks": ""
             }
            },
            "type": "scattergeo"
           }
          ],
          "scattergl": [
           {
            "marker": {
             "colorbar": {
              "outlinewidth": 0,
              "ticks": ""
             }
            },
            "type": "scattergl"
           }
          ],
          "scattermapbox": [
           {
            "marker": {
             "colorbar": {
              "outlinewidth": 0,
              "ticks": ""
             }
            },
            "type": "scattermapbox"
           }
          ],
          "scatterpolar": [
           {
            "marker": {
             "colorbar": {
              "outlinewidth": 0,
              "ticks": ""
             }
            },
            "type": "scatterpolar"
           }
          ],
          "scatterpolargl": [
           {
            "marker": {
             "colorbar": {
              "outlinewidth": 0,
              "ticks": ""
             }
            },
            "type": "scatterpolargl"
           }
          ],
          "scatterternary": [
           {
            "marker": {
             "colorbar": {
              "outlinewidth": 0,
              "ticks": ""
             }
            },
            "type": "scatterternary"
           }
          ],
          "surface": [
           {
            "colorbar": {
             "outlinewidth": 0,
             "ticks": ""
            },
            "colorscale": [
             [
              0,
              "#0d0887"
             ],
             [
              0.1111111111111111,
              "#46039f"
             ],
             [
              0.2222222222222222,
              "#7201a8"
             ],
             [
              0.3333333333333333,
              "#9c179e"
             ],
             [
              0.4444444444444444,
              "#bd3786"
             ],
             [
              0.5555555555555556,
              "#d8576b"
             ],
             [
              0.6666666666666666,
              "#ed7953"
             ],
             [
              0.7777777777777778,
              "#fb9f3a"
             ],
             [
              0.8888888888888888,
              "#fdca26"
             ],
             [
              1,
              "#f0f921"
             ]
            ],
            "type": "surface"
           }
          ],
          "table": [
           {
            "cells": {
             "fill": {
              "color": "#EBF0F8"
             },
             "line": {
              "color": "white"
             }
            },
            "header": {
             "fill": {
              "color": "#C8D4E3"
             },
             "line": {
              "color": "white"
             }
            },
            "type": "table"
           }
          ]
         },
         "layout": {
          "annotationdefaults": {
           "arrowcolor": "#2a3f5f",
           "arrowhead": 0,
           "arrowwidth": 1
          },
          "autotypenumbers": "strict",
          "coloraxis": {
           "colorbar": {
            "outlinewidth": 0,
            "ticks": ""
           }
          },
          "colorscale": {
           "diverging": [
            [
             0,
             "#8e0152"
            ],
            [
             0.1,
             "#c51b7d"
            ],
            [
             0.2,
             "#de77ae"
            ],
            [
             0.3,
             "#f1b6da"
            ],
            [
             0.4,
             "#fde0ef"
            ],
            [
             0.5,
             "#f7f7f7"
            ],
            [
             0.6,
             "#e6f5d0"
            ],
            [
             0.7,
             "#b8e186"
            ],
            [
             0.8,
             "#7fbc41"
            ],
            [
             0.9,
             "#4d9221"
            ],
            [
             1,
             "#276419"
            ]
           ],
           "sequential": [
            [
             0,
             "#0d0887"
            ],
            [
             0.1111111111111111,
             "#46039f"
            ],
            [
             0.2222222222222222,
             "#7201a8"
            ],
            [
             0.3333333333333333,
             "#9c179e"
            ],
            [
             0.4444444444444444,
             "#bd3786"
            ],
            [
             0.5555555555555556,
             "#d8576b"
            ],
            [
             0.6666666666666666,
             "#ed7953"
            ],
            [
             0.7777777777777778,
             "#fb9f3a"
            ],
            [
             0.8888888888888888,
             "#fdca26"
            ],
            [
             1,
             "#f0f921"
            ]
           ],
           "sequentialminus": [
            [
             0,
             "#0d0887"
            ],
            [
             0.1111111111111111,
             "#46039f"
            ],
            [
             0.2222222222222222,
             "#7201a8"
            ],
            [
             0.3333333333333333,
             "#9c179e"
            ],
            [
             0.4444444444444444,
             "#bd3786"
            ],
            [
             0.5555555555555556,
             "#d8576b"
            ],
            [
             0.6666666666666666,
             "#ed7953"
            ],
            [
             0.7777777777777778,
             "#fb9f3a"
            ],
            [
             0.8888888888888888,
             "#fdca26"
            ],
            [
             1,
             "#f0f921"
            ]
           ]
          },
          "colorway": [
           "#636efa",
           "#EF553B",
           "#00cc96",
           "#ab63fa",
           "#FFA15A",
           "#19d3f3",
           "#FF6692",
           "#B6E880",
           "#FF97FF",
           "#FECB52"
          ],
          "font": {
           "color": "#2a3f5f"
          },
          "geo": {
           "bgcolor": "white",
           "lakecolor": "white",
           "landcolor": "#E5ECF6",
           "showlakes": true,
           "showland": true,
           "subunitcolor": "white"
          },
          "hoverlabel": {
           "align": "left"
          },
          "hovermode": "closest",
          "mapbox": {
           "style": "light"
          },
          "paper_bgcolor": "white",
          "plot_bgcolor": "#E5ECF6",
          "polar": {
           "angularaxis": {
            "gridcolor": "white",
            "linecolor": "white",
            "ticks": ""
           },
           "bgcolor": "#E5ECF6",
           "radialaxis": {
            "gridcolor": "white",
            "linecolor": "white",
            "ticks": ""
           }
          },
          "scene": {
           "xaxis": {
            "backgroundcolor": "#E5ECF6",
            "gridcolor": "white",
            "gridwidth": 2,
            "linecolor": "white",
            "showbackground": true,
            "ticks": "",
            "zerolinecolor": "white"
           },
           "yaxis": {
            "backgroundcolor": "#E5ECF6",
            "gridcolor": "white",
            "gridwidth": 2,
            "linecolor": "white",
            "showbackground": true,
            "ticks": "",
            "zerolinecolor": "white"
           },
           "zaxis": {
            "backgroundcolor": "#E5ECF6",
            "gridcolor": "white",
            "gridwidth": 2,
            "linecolor": "white",
            "showbackground": true,
            "ticks": "",
            "zerolinecolor": "white"
           }
          },
          "shapedefaults": {
           "line": {
            "color": "#2a3f5f"
           }
          },
          "ternary": {
           "aaxis": {
            "gridcolor": "white",
            "linecolor": "white",
            "ticks": ""
           },
           "baxis": {
            "gridcolor": "white",
            "linecolor": "white",
            "ticks": ""
           },
           "bgcolor": "#E5ECF6",
           "caxis": {
            "gridcolor": "white",
            "linecolor": "white",
            "ticks": ""
           }
          },
          "title": {
           "x": 0.05
          },
          "xaxis": {
           "automargin": true,
           "gridcolor": "white",
           "linecolor": "white",
           "ticks": "",
           "title": {
            "standoff": 15
           },
           "zerolinecolor": "white",
           "zerolinewidth": 2
          },
          "yaxis": {
           "automargin": true,
           "gridcolor": "white",
           "linecolor": "white",
           "ticks": "",
           "title": {
            "standoff": 15
           },
           "zerolinecolor": "white",
           "zerolinewidth": 2
          }
         }
        }
       }
      }
     },
     "metadata": {},
     "output_type": "display_data"
    }
   ],
   "source": [
    "import plotly.express as px\n",
    "fig=px.scatter_3d(new_vis_set, x=\"fre\", y=\"conf\", z=\"validate rate\", color=\"name\", opacity=0.7)\n",
    "fig.show()"
   ]
  },
  {
   "cell_type": "code",
   "execution_count": null,
   "metadata": {
    "collapsed": false
   },
   "outputs": [],
   "source": []
  },
  {
   "cell_type": "code",
   "execution_count": null,
   "id": "a3108ac2",
   "metadata": {},
   "outputs": [],
   "source": [
    "def keep_validate(df: pd.Series):\n",
    "    ..."
   ]
  },
  {
   "cell_type": "code",
   "execution_count": 31,
   "id": "209b241e",
   "metadata": {},
   "outputs": [],
   "source": [
    "def data_summary(df: pd.DataFrame):\n",
    "    sp2r=(df[\"stk on start\"].sum()+df[\"prj on start\"].sum())/df[\"risk on start\"].sum()\n",
    "    pr2s=(df[\"risk on start\"].sum()+df[\"prj on start\"].sum())/df[\"stk on start\"].sum()\n",
    "    p2rs=df[\"prj on start\"].sum()/(df[\"risk on start\"].sum()+df[\"stk on start\"].sum())\n",
    "    return pd.DataFrame([sp2r, pr2s, p2rs], index=[\"sp2r\", \"pr2s\", \"p2rs\"], columns=[\"convertion rate\"])"
   ]
  },
  {
   "cell_type": "code",
   "execution_count": null,
   "id": "153d7c28",
   "metadata": {},
   "outputs": [],
   "source": [
    "def split_hor(df: pd.DataFrame, number: int=10) -> list:\n",
    "    if df.empty(): raise Exception(\"dataframe is empty.\")\n",
    "    interval=math.floor(df.shape[1]/number)\n",
    "    return [df.loc[val*interval:val*(interval+1), ('p1', \"p2\", 'probability')] for val in range(0, number)]"
   ]
  },
  {
   "cell_type": "markdown",
   "id": "198f0d10",
   "metadata": {},
   "source": [
    "### multithreading support"
   ]
  },
  {
   "cell_type": "code",
   "execution_count": null,
   "id": "c7193cf9",
   "metadata": {},
   "outputs": [],
   "source": [
    "def falshretrieve(left: KeywordProcessor, comparison: list):\n",
    "    with ThreadPoolExecutor() as executor:\n",
    "        result=executor.map(row_retrieve, left, comparison)\n"
   ]
  },
  {
   "cell_type": "code",
   "execution_count": 83,
   "id": "109481d7",
   "metadata": {},
   "outputs": [],
   "source": [
    "def initial_keyw():\n",
    "    riskw, projectw, stkw=KeywordProcessor(),KeywordProcessor(),KeywordProcessor()\n",
    "    keywords=keyword()\n",
    "    keywords.riskw, keywords.prjw=riskw.add_keywords_from_list(riskw), projectw.add_keywords_from_list(prjkeyw)\n",
    "    keywords.stkw= stkw.add_keywords_from_list(stkkeyw)\n",
    "    return keywords\n",
    "    # return [riskw.add_keywords_from_list(riskw),\n",
    "    #         projectw.add_keywords_from_list(prjkeyw),\n",
    "    #         stkw.add_keywords_from_list(stkkeyw)]"
   ]
  },
  {
   "cell_type": "code",
   "execution_count": null,
   "id": "60dd7156",
   "metadata": {},
   "outputs": [],
   "source": [
    "def outer(comparison: pd.DataFrame):\n",
    "    \"\"\"\n",
    "    multithreading must involve in the last\n",
    "    :param comparison:\n",
    "    :return:\n",
    "    \"\"\"\n",
    "    keywords=initial_keyw()\n",
    "    flash=split_hor(comparison, 8)\n",
    "    for processor in keywords:\n",
    "        df=falshretrieve(processor, flash)\n",
    "    return df"
   ]
  },
  {
   "cell_type": "code",
   "execution_count": 71,
   "id": "b8a12da7",
   "metadata": {},
   "outputs": [],
   "source": [
    "def check_in():\n",
    "    warpfp=Warp_fpgrowth(0.01, 0.2, \"res\")\n",
    "    callAC=acmachine()\n",
    "\n",
    "    ..."
   ]
  },
  {
   "cell_type": "code",
   "execution_count": 75,
   "id": "e85b0c7d",
   "metadata": {},
   "outputs": [
    {
     "data": {
      "text/plain": [
       "0         [TIME, grouting risk, PURPOSE, Dynamic risk, M...\n",
       "1         [TAR, ON, Safety, And risk, uses risk, Operati...\n",
       "2         [ON, Safety, The risk, Resource, To risk, Unde...\n",
       "3         [AIM, Aggregate risk, Paramount, Planning, The...\n",
       "4         [Weibull, ON, Networks, COST, And risk, Differ...\n",
       "                                ...                        \n",
       "125092    [TIMES, Elsevier Ltd., Characteristics, Differ...\n",
       "125093    [ON, National, Utilities, Elsevier Inc., Post,...\n",
       "125094    [ON, complete risk, The risk, Economics, With ...\n",
       "125095    [Sustainability, ON, epidemic risk, The risk, ...\n",
       "125096    [investor risk, ON, Credit risk, EU, Resulting...\n",
       "Name: Abstract, Length: 120420, dtype: object"
      ]
     },
     "execution_count": 75,
     "metadata": {},
     "output_type": "execute_result"
    }
   ],
   "source": [
    "if __name__==\"__main__\":\n",
    "    keys=initial_keyw()\n"
   ]
  },
  {
   "cell_type": "code",
   "execution_count": null,
   "id": "83e7e765",
   "metadata": {},
   "outputs": [],
   "source": []
  }
 ],
 "metadata": {
  "kernelspec": {
   "display_name": "Python 3 (ipykernel)",
   "language": "python",
   "name": "python3"
  },
  "language_info": {
   "codemirror_mode": {
    "name": "ipython",
    "version": 3
   },
   "file_extension": ".py",
   "mimetype": "text/x-python",
   "name": "python",
   "nbconvert_exporter": "python",
   "pygments_lexer": "ipython3",
   "version": "3.9.16"
  }
 },
 "nbformat": 4,
 "nbformat_minor": 5
}
