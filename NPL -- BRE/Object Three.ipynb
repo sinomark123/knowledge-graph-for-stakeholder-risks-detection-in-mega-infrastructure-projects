{
 "cells": [
  {
   "cell_type": "code",
   "execution_count": 10,
   "id": "028d0dd3",
   "metadata": {},
   "outputs": [],
   "source": [
    "import pandas\n",
    "from fpgrowth_py import fpgrowth\n",
    "import pandas as pd\n",
    "import re\n",
    "import json\n",
    "import spacy\n",
    "import seaborn as sns\n",
    "from spacy import displacy\n",
    "from flashtext import KeywordProcessor\n",
    "import ahocorasick\n",
    "import nltk\n",
    "# import pyplot-express as px\n",
    "\n",
    "pathprefix = r\"D:\\Code Working Area\\Jupyter\\knowledge-graph-for-stakeholder-risks-detection-in-mega-infrastructure-projects\\ExcelData\"\n",
    "jsfile = pathprefix+\"\\\\Transactions.json\"\n",
    "\n",
    "project = pathprefix+\"\\\\Gg.csv\"\n",
    "risk = pathprefix+\"\\\\Risk_Simplified.xlsx\"\n",
    "stake = pathprefix+\"\\\\expansive.csv\"\n",
    "\n",
    "project1 = pathprefix+\"\\\\newTitle_Project.xlsx\"\n",
    "risk0 = pathprefix+\"\\\\RiskFinal.xlsx\"\n",
    "stake1 = pathprefix+\"\\\\New_StakeHolder_Abstract.xlsx\"\n",
    "\n",
    "stake2 = pathprefix+\"\\\\second_layer_stakeholder.xlsx\""
   ]
  },
  {
   "cell_type": "code",
   "execution_count": 2,
   "id": "6e3a3de2",
   "metadata": {},
   "outputs": [
    {
     "data": {
      "text/plain": "'D:\\\\Code Working Area\\\\Jupyter\\\\knowledge-graph-for-stakeholder-risks-detection-in-mega-infrastructure-projects\\\\ExcelData\\\\second_layer_stakeholder.xlsx'"
     },
     "execution_count": 2,
     "metadata": {},
     "output_type": "execute_result"
    }
   ],
   "source": [
    "# !pip install regex\n",
    "# !pip install sapcy\n",
    "# !pip install fpgrowth_py\n",
    "# !pip install pandas\n",
    "# !pip install seaborn\n",
    "# !pip install openpyxl\n",
    "# !python -m spacy install en_core_web_sm\n",
    "stake2"
   ]
  },
  {
   "cell_type": "code",
   "execution_count": 2,
   "id": "a13df1ef",
   "metadata": {},
   "outputs": [
    {
     "name": "stderr",
     "output_type": "stream",
     "text": [
      "C:\\Users\\jqi22\\AppData\\Local\\Temp\\ipykernel_40404\\1512847667.py:1: DtypeWarning: Columns (3,7,8,12,13,18,27,28,29,30,31,38,39,40,41,42,43,44,45,50,51,53,54,59,63,64,65,67) have mixed types. Specify dtype option on import or set low_memory=False.\n",
      "  pj = pd.read_csv(project, sep = \",\")\n"
     ]
    }
   ],
   "source": [
    "pj = pd.read_csv(project, sep = \",\")\n",
    "risk1 = pd.read_excel(risk)\n",
    "stk = pd.read_csv(stake, sep = \",\")\n",
    "\n",
    "prj = pd.read_excel(project1)\n",
    "risk2 = pd.read_excel(risk0)\n",
    "stk1 = pd.read_excel(stake1)\n",
    "stk2 = pd.read_excel(stake2)\n",
    "stk2.dropna(inplace=True)\n",
    "\n",
    "en = spacy.load('en_core_web_sm')\n",
    "stopwords = en.Defaults.stop_words"
   ]
  },
  {
   "cell_type": "code",
   "execution_count": 3,
   "id": "07668456",
   "metadata": {},
   "outputs": [],
   "source": [
    "# get the target text from original dataset to match\n",
    "nproject = pd.DataFrame(pj[\"Article Title\"])\n",
    "nrisk = pd.DataFrame(risk1[\"Abstract\"])\n",
    "nstack = pd.DataFrame(stk[\"Abstract\"])\n",
    "\n",
    "nrisk.dropna(inplace=True, how=\"any\")\n",
    "\n",
    "stk1.name = stk1.name.str.lower()"
   ]
  },
  {
   "cell_type": "code",
   "execution_count": 4,
   "id": "aade67ab",
   "metadata": {},
   "outputs": [],
   "source": [
    "def reload_dashes(droped: int)->pd.DataFrame:\n",
    "    dashes = pd.read_excel(pathprefix+\"\\\\adjustment.xlsx\")\n",
    "    dashes = dashes[dashes.frequency > droped].Words.to_list()\n",
    "    return set(dashes)\n",
    "\n",
    "stopwords |= reload_dashes(2)\n",
    "# filout = pd.read_excel(r\"D:\\Code Working Area\\Python\\knowledge-graph-for-stakeholder-risks-detection-in-mega-infrastructure-projects\\ExcelData\\filtered.xlsx\")\n",
    "# stopwords |= set(filout.name.to_list())\n",
    "stopwords |= set([str(num) for num in range(1,100)])\n",
    "\n",
    "# manually add the words to the stopwords\n",
    "possiblew = {\"connections\", \"efficacy\", \"life\", \"This\"}\n",
    "stopwords |= possiblew"
   ]
  },
  {
   "cell_type": "code",
   "execution_count": 5,
   "id": "9c0336c1",
   "metadata": {},
   "outputs": [],
   "source": [
    "risk2.Abstract=risk2.Abstract.astype(str)\n",
    "stk2.stk=stk2.stk.astype(str)"
   ]
  },
  {
   "cell_type": "code",
   "execution_count": 6,
   "id": "39329214",
   "metadata": {},
   "outputs": [],
   "source": [
    "keypro=KeywordProcessor()\n",
    "keypro.add_keywords_from_list(prj[\"Article Title\"].to_list()+risk2[\"Abstract\"].to_list()+list(set(stk2[\"stk\"].to_list())))"
   ]
  },
  {
   "cell_type": "code",
   "execution_count": 7,
   "id": "1988ca31",
   "metadata": {},
   "outputs": [],
   "source": [
    "def abst(args:str):\n",
    "    return keypro.extract_keywords(args)\n",
    "res=nrisk.Abstract.apply(abst)\n",
    "res=res.apply(lambda x: list(set(x)))"
   ]
  },
  {
   "cell_type": "code",
   "execution_count": 8,
   "id": "8d9b9f25",
   "metadata": {},
   "outputs": [],
   "source": [
    "res=res.apply(lambda x: list(set(x)))\n",
    "temp=res.explode(ignore_index=True).dropna(how=\"any\")"
   ]
  },
  {
   "cell_type": "code",
   "execution_count": 58,
   "outputs": [],
   "source": [
    "tempres=temp.value_counts().to_frame()\n",
    "tempres[\"words\"]=tempres.index\n",
    "tempres.reset_index(drop=True, inplace=True)"
   ],
   "metadata": {
    "collapsed": false
   }
  },
  {
   "cell_type": "code",
   "execution_count": 59,
   "outputs": [],
   "source": [
    "tempres[\"word type\"]=tempres.words.apply(lambda row: nltk.pos_tag(nltk.word_tokenize(row))[0][1])"
   ],
   "metadata": {
    "collapsed": false
   }
  },
  {
   "cell_type": "code",
   "execution_count": 74,
   "outputs": [],
   "source": [
    "wordstp=tempres[\"word type\"].value_counts().index.to_list()\n",
    "with pd.ExcelWriter(pathprefix+\"\\\\words_types.xlsx\") as writer:\n",
    "    for val in wordstp:\n",
    "        tempres[tempres[\"word type\"]==val].to_excel(writer,index=False, sheet_name=val)"
   ],
   "metadata": {
    "collapsed": false
   }
  },
  {
   "cell_type": "code",
   "execution_count": 71,
   "outputs": [],
   "source": [
    "tempres[tempres[\"word type\"]==\"NNP\"].to_excel(pathprefix+\"\\\\words_type.xlsx\", sheet_name=\"NNP\")"
   ],
   "metadata": {
    "collapsed": false
   }
  },
  {
   "cell_type": "code",
   "execution_count": 72,
   "outputs": [
    {
     "data": {
      "text/plain": "['NN',\n 'NNP',\n 'DT',\n 'JJ',\n 'VBG',\n 'NNS',\n 'VBN',\n 'CD',\n 'RB',\n 'IN',\n 'JJR',\n 'JJS',\n 'VB',\n 'VBZ',\n 'PRP',\n 'CC',\n 'WRB',\n 'WP',\n 'PRP$',\n 'VBD',\n 'TO',\n 'RBR',\n 'MD',\n '$',\n 'WDT',\n 'NNPS']"
     },
     "execution_count": 72,
     "metadata": {},
     "output_type": "execute_result"
    }
   ],
   "source": [],
   "metadata": {
    "collapsed": false
   }
  },
  {
   "cell_type": "code",
   "execution_count": null,
   "outputs": [],
   "source": [],
   "metadata": {
    "collapsed": false
   }
  }
 ],
 "metadata": {
  "kernelspec": {
   "display_name": "Python 3 (ipykernel)",
   "language": "python",
   "name": "python3"
  },
  "language_info": {
   "codemirror_mode": {
    "name": "ipython",
    "version": 3
   },
   "file_extension": ".py",
   "mimetype": "text/x-python",
   "name": "python",
   "nbconvert_exporter": "python",
   "pygments_lexer": "ipython3",
   "version": "3.9.13"
  }
 },
 "nbformat": 4,
 "nbformat_minor": 5
}
