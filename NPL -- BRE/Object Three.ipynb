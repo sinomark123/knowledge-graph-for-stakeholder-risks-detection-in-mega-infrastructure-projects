{
 "cells": [
  {
   "cell_type": "code",
   "execution_count": 1,
   "id": "028d0dd3",
   "metadata": {},
   "outputs": [],
   "source": [
    "import math\n",
    "\n",
    "import pandas\n",
    "from fpgrowth_py import fpgrowth\n",
    "import pandas as pd\n",
    "import re\n",
    "import json\n",
    "import spacy\n",
    "import seaborn as sns\n",
    "from spacy import displacy\n",
    "from flashtext import KeywordProcessor\n",
    "import ahocorasick\n",
    "import nltk\n",
    "from concurrent.futures import ThreadPoolExecutor\n",
    "from enum import Enum\n",
    "\n",
    "pathprefix = r\"D:\\Code Working Area\\Jupyter\\knowledge-graph-for-stakeholder-risks-detection-in-mega-infrastructure-projects\\ExcelData\"\n",
    "jsfile = pathprefix+\"\\\\Transactions.json\"\n",
    "\n",
    "project = pathprefix+\"\\\\Gg.csv\"\n",
    "risk = pathprefix+\"\\\\Risk_Simplified.xlsx\"\n",
    "stake = pathprefix+\"\\\\expansive.csv\"\n",
    "\n",
    "project1 = pathprefix+\"\\\\newTitle_Project.xlsx\"\n",
    "risk0 = pathprefix+\"\\\\RiskFinal.xlsx\"\n",
    "stake1 = pathprefix+\"\\\\New_StakeHolder_Abstract.xlsx\"\n",
    "\n",
    "stake2 = pathprefix+\"\\\\second_layer_stakeholder.xlsx\""
   ]
  },
  {
   "cell_type": "code",
   "execution_count": 2,
   "id": "6e3a3de2",
   "metadata": {},
   "outputs": [
    {
     "data": {
      "text/plain": "'D:\\\\Code Working Area\\\\Jupyter\\\\knowledge-graph-for-stakeholder-risks-detection-in-mega-infrastructure-projects\\\\ExcelData\\\\second_layer_stakeholder.xlsx'"
     },
     "execution_count": 2,
     "metadata": {},
     "output_type": "execute_result"
    }
   ],
   "source": [
    "# !pip install regex\n",
    "# !pip install spacy\n",
    "# !pip install fpgrowth_py\n",
    "# !pip install pandas\n",
    "# !pip install seaborn\n",
    "# !pip install openpyxl\n",
    "# !python -m spacy install en_core_web_sm\n",
    "stake2"
   ]
  },
  {
   "cell_type": "code",
   "execution_count": 2,
   "id": "a13df1ef",
   "metadata": {},
   "outputs": [
    {
     "name": "stderr",
     "output_type": "stream",
     "text": [
      "C:\\Users\\jqi22\\AppData\\Local\\Temp\\ipykernel_17588\\2812288643.py:1: DtypeWarning: Columns (3,7,8,12,13,18,27,28,29,30,31,38,39,40,41,42,43,44,45,50,51,53,54,59,63,64,65,67) have mixed types. Specify dtype option on import or set low_memory=False.\n",
      "  pj = pd.read_csv(project, sep = \",\")\n"
     ]
    }
   ],
   "source": [
    "pj = pd.read_csv(project, sep = \",\")\n",
    "risk1 = pd.read_excel(risk)\n",
    "stk = pd.read_csv(stake, sep = \",\")\n",
    "\n",
    "prj = pd.read_excel(project1, index_col=None)\n",
    "risk2 = pd.read_excel(risk0, index_col=None)\n",
    "stk1 = pd.read_excel(stake1, index_col=None)\n",
    "stk2 = pd.read_excel(stake2, index_col=None)\n",
    "stk2.dropna(inplace=True)\n",
    "\n",
    "en = spacy.load('en_core_web_sm')\n",
    "stopwords = en.Defaults.stop_words"
   ]
  },
  {
   "cell_type": "code",
   "execution_count": 4,
   "outputs": [
    {
     "data": {
      "text/plain": "                      Article\n0                 gas project\n1        Construction project\n2          mitigation project\n3            pipeline project\n4       afforestation project\n...                       ...\n5196             AEMS project\n5197              pia project\n5198           burner project\n5199  vermicomposting project\n5200           Outage project\n\n[5201 rows x 1 columns]",
      "text/html": "<div>\n<style scoped>\n    .dataframe tbody tr th:only-of-type {\n        vertical-align: middle;\n    }\n\n    .dataframe tbody tr th {\n        vertical-align: top;\n    }\n\n    .dataframe thead th {\n        text-align: right;\n    }\n</style>\n<table border=\"1\" class=\"dataframe\">\n  <thead>\n    <tr style=\"text-align: right;\">\n      <th></th>\n      <th>Article</th>\n    </tr>\n  </thead>\n  <tbody>\n    <tr>\n      <th>0</th>\n      <td>gas project</td>\n    </tr>\n    <tr>\n      <th>1</th>\n      <td>Construction project</td>\n    </tr>\n    <tr>\n      <th>2</th>\n      <td>mitigation project</td>\n    </tr>\n    <tr>\n      <th>3</th>\n      <td>pipeline project</td>\n    </tr>\n    <tr>\n      <th>4</th>\n      <td>afforestation project</td>\n    </tr>\n    <tr>\n      <th>...</th>\n      <td>...</td>\n    </tr>\n    <tr>\n      <th>5196</th>\n      <td>AEMS project</td>\n    </tr>\n    <tr>\n      <th>5197</th>\n      <td>pia project</td>\n    </tr>\n    <tr>\n      <th>5198</th>\n      <td>burner project</td>\n    </tr>\n    <tr>\n      <th>5199</th>\n      <td>vermicomposting project</td>\n    </tr>\n    <tr>\n      <th>5200</th>\n      <td>Outage project</td>\n    </tr>\n  </tbody>\n</table>\n<p>5201 rows × 1 columns</p>\n</div>"
     },
     "execution_count": 4,
     "metadata": {},
     "output_type": "execute_result"
    }
   ],
   "source": [
    "prj"
   ],
   "metadata": {
    "collapsed": false
   }
  },
  {
   "cell_type": "code",
   "execution_count": 3,
   "id": "07668456",
   "metadata": {},
   "outputs": [],
   "source": [
    "# get the target text from original dataset to match\n",
    "nproject = pd.DataFrame(pj[\"Article Title\"])\n",
    "nrisk = pd.DataFrame(risk1[\"Abstract\"])\n",
    "nstack = pd.DataFrame(stk[\"Abstract\"])\n",
    "\n",
    "nrisk.dropna(inplace=True, how=\"any\")\n",
    "\n",
    "stk1.name = stk1.name.str.lower()"
   ]
  },
  {
   "cell_type": "code",
   "execution_count": 4,
   "id": "aade67ab",
   "metadata": {},
   "outputs": [],
   "source": [
    "def reload_dashes(droped: int)->pd.DataFrame:\n",
    "    dashes = pd.read_excel(pathprefix+\"\\\\adjustment.xlsx\")\n",
    "    dashes = dashes[dashes.frequency > droped].Words.to_list()\n",
    "    return set(dashes)\n",
    "\n",
    "stopwords |= reload_dashes(2)\n",
    "stopwords |= set([str(num) for num in range(1,100)])\n",
    "\n",
    "# manually add the words to the stopwords\n",
    "possiblew = {\"connections\", \"efficacy\", \"life\", \"This\"}\n",
    "stopwords |= possiblew"
   ]
  },
  {
   "cell_type": "code",
   "execution_count": 5,
   "id": "9c0336c1",
   "metadata": {},
   "outputs": [],
   "source": [
    "risk2.Abstract=risk2.Abstract.astype(str)\n",
    "stk2.Abstract=stk2.Abstract.astype(str)"
   ]
  },
  {
   "cell_type": "code",
   "execution_count": 25,
   "outputs": [],
   "source": [
    "prjkey_list=prj[\"Article\"].to_list()\n",
    "riskey_list=risk2[\"Abstract\"].to_list()\n",
    "stkey_list=list(set(stk2[\"Abstract\"].to_list()))"
   ],
   "metadata": {
    "collapsed": false
   }
  },
  {
   "cell_type": "markdown",
   "source": [
    "### Data pre-process finished"
   ],
   "metadata": {
    "collapsed": false
   }
  },
  {
   "cell_type": "code",
   "execution_count": 9,
   "id": "39329214",
   "metadata": {},
   "outputs": [],
   "source": [
    "keypro=KeywordProcessor()\n",
    "keypro.add_keywords_from_list(prjkey_list+riskey_list+stkey_list)"
   ]
  },
  {
   "cell_type": "code",
   "execution_count": 10,
   "id": "1988ca31",
   "metadata": {},
   "outputs": [],
   "source": [
    "def abst(args:str):\n",
    "    return keypro.extract_keywords(args)\n",
    "res=nrisk.Abstract.apply(abst)\n",
    "res=res.apply(lambda x: list(set(x)))\n",
    "temp=res.explode(ignore_index=True).dropna(how=\"any\")"
   ]
  },
  {
   "cell_type": "code",
   "execution_count": 11,
   "outputs": [],
   "source": [
    "tempres=temp.value_counts().to_frame()\n",
    "tempres[\"words\"]=tempres.index\n",
    "tempres.reset_index(drop=True, inplace=True)\n",
    "tempres[\"word type\"]=tempres.words.apply(lambda row: nltk.pos_tag(nltk.word_tokenize(row))[0][1])"
   ],
   "metadata": {
    "collapsed": false
   }
  },
  {
   "cell_type": "markdown",
   "source": [
    "### First section of extraction keyword finished\n",
    "#### Usually suggested to comment out if already with test dataset"
   ],
   "metadata": {
    "collapsed": false
   }
  },
  {
   "cell_type": "code",
   "execution_count": 18,
   "outputs": [
    {
     "data": {
      "text/plain": "                      Article\n0                 gas project\n1        Construction project\n2          mitigation project\n3            pipeline project\n4       afforestation project\n...                       ...\n5196             AEMS project\n5197              pia project\n5198           burner project\n5199  vermicomposting project\n5200           Outage project\n\n[5201 rows x 1 columns]",
      "text/html": "<div>\n<style scoped>\n    .dataframe tbody tr th:only-of-type {\n        vertical-align: middle;\n    }\n\n    .dataframe tbody tr th {\n        vertical-align: top;\n    }\n\n    .dataframe thead th {\n        text-align: right;\n    }\n</style>\n<table border=\"1\" class=\"dataframe\">\n  <thead>\n    <tr style=\"text-align: right;\">\n      <th></th>\n      <th>Article</th>\n    </tr>\n  </thead>\n  <tbody>\n    <tr>\n      <th>0</th>\n      <td>gas project</td>\n    </tr>\n    <tr>\n      <th>1</th>\n      <td>Construction project</td>\n    </tr>\n    <tr>\n      <th>2</th>\n      <td>mitigation project</td>\n    </tr>\n    <tr>\n      <th>3</th>\n      <td>pipeline project</td>\n    </tr>\n    <tr>\n      <th>4</th>\n      <td>afforestation project</td>\n    </tr>\n    <tr>\n      <th>...</th>\n      <td>...</td>\n    </tr>\n    <tr>\n      <th>5196</th>\n      <td>AEMS project</td>\n    </tr>\n    <tr>\n      <th>5197</th>\n      <td>pia project</td>\n    </tr>\n    <tr>\n      <th>5198</th>\n      <td>burner project</td>\n    </tr>\n    <tr>\n      <th>5199</th>\n      <td>vermicomposting project</td>\n    </tr>\n    <tr>\n      <th>5200</th>\n      <td>Outage project</td>\n    </tr>\n  </tbody>\n</table>\n<p>5201 rows × 1 columns</p>\n</div>"
     },
     "execution_count": 18,
     "metadata": {},
     "output_type": "execute_result"
    }
   ],
   "source": [
    "# usually be considered as temp console, using for debug and test\n",
    "prj"
   ],
   "metadata": {
    "collapsed": false
   }
  },
  {
   "cell_type": "code",
   "execution_count": 8,
   "outputs": [],
   "source": [
    "test_file=pd.read_csv(r\"D:\\Code Working Area\\Jupyter\\knowledge-graph-for-stakeholder-risks-detection-in-mega-infrastructure-projects\\ExcelData\\Result_0.001_0.5.csv\")"
   ],
   "metadata": {
    "collapsed": false
   }
  },
  {
   "cell_type": "code",
   "execution_count": 10,
   "outputs": [],
   "source": [
    "test_file=test_file.replace(regex=[\"{\", \"}\", \"'\"], value=\"\")"
   ],
   "metadata": {
    "collapsed": false
   }
  },
  {
   "cell_type": "code",
   "execution_count": 12,
   "outputs": [],
   "source": [
    "def Warp_fpgrowth(minSup:float, confident:float, dataset_name: str):\n",
    "    ..."
   ],
   "metadata": {
    "collapsed": false
   }
  },
  {
   "cell_type": "code",
   "execution_count": 13,
   "outputs": [],
   "source": [
    "def acmachine():\n",
    "    \"\"\"achieve the fast retrieve goal by AC auto machine\"\"\"\n",
    "    ..."
   ],
   "metadata": {
    "collapsed": false
   }
  },
  {
   "cell_type": "code",
   "execution_count": 15,
   "outputs": [],
   "source": [
    "# Originally be devised for initialize the keyword for later integration\n",
    "class keyword():\n",
    "    prj, stk, risk=\"project\", \"stakeholder\", \"risk\"\n",
    "    prjw: KeywordProcessor=None\n",
    "    stkw: KeywordProcessor=None\n",
    "    riskw: KeywordProcessor=None\n",
    "\n",
    "    def re_estabilishment(self):\n",
    "        if not self.prjw and not self.stkw and not self.riskw:\n",
    "            ...\n"
   ],
   "metadata": {
    "collapsed": false
   }
  },
  {
   "cell_type": "code",
   "execution_count": 16,
   "outputs": [],
   "source": [
    "def single_plot(left: KeywordProcessor, val: list):\n",
    "    existence: int=0\n",
    "    for keyword in val:\n",
    "        if left.extract_keywords(keyword): existence+=1\n",
    "    return existence"
   ],
   "metadata": {
    "collapsed": false
   }
  },
  {
   "cell_type": "code",
   "execution_count": 17,
   "outputs": [],
   "source": [
    "def row_retrieve(name: str, left: KeywordProcessor, comparison: pd.DataFrame):\n",
    "    extradata: list=[]\n",
    "    for val in comparison.iterrows():\n",
    "        ori, dest = val[1][0:2]\n",
    "        ori,dest=ori.split(\", \"), dest.split(\", \")\n",
    "        ori,dest=single_plot(left, ori), single_plot(left, dest)\n",
    "        extradata.append([ori, dest])\n",
    "    comparison[[name+\" on start\", name+\" on destination\"]] = pd.DataFrame(extradata)\n",
    "    return comparison"
   ],
   "metadata": {
    "collapsed": false
   }
  },
  {
   "cell_type": "code",
   "execution_count": 26,
   "outputs": [],
   "source": [
    "def test_retrieve(test_file: pd.DataFrame):\n",
    "    temp=row_retrieve(\"prj\", prjkeyword, test_file)\n",
    "    temp=row_retrieve(\"stk\", stkeyw, temp)\n",
    "    return row_retrieve(\"risk\", riskeyw, temp)"
   ],
   "metadata": {
    "collapsed": false
   }
  },
  {
   "cell_type": "code",
   "execution_count": 27,
   "outputs": [],
   "source": [
    "# test running process\n",
    "prjkeyword, stkeyw, riskeyw=KeywordProcessor(), KeywordProcessor(), KeywordProcessor()\n",
    "prjkeyword.add_keywords_from_list(prjkey_list)\n",
    "stkeyw.add_keywords_from_list(stkey_list)\n",
    "riskeyw.add_keywords_from_list(riskey_list)\n",
    "temp=test_retrieve(test_file)"
   ],
   "metadata": {
    "collapsed": false
   }
  },
  {
   "cell_type": "code",
   "execution_count": 30,
   "outputs": [
    {
     "data": {
      "text/plain": "<Figure size 640x480 with 1 Axes>",
      "image/png": "[encoded data removed]"
     },
     "metadata": {},
     "output_type": "display_data"
    }
   ],
   "source": [
    "plots=temp.drop(columns=[\"p1\", \"p2\", \"probability\"])\n",
    "plots.plot();"
   ],
   "metadata": {
    "collapsed": false
   }
  },
  {
   "cell_type": "code",
   "execution_count": 33,
   "outputs": [],
   "source": [
    "temp.to_csv(r\"../attempt.csv\", index=False)"
   ],
   "metadata": {
    "collapsed": false
   }
  },
  {
   "cell_type": "code",
   "execution_count": 32,
   "outputs": [
    {
     "data": {
      "text/plain": "      convertion rate\nsp2r        18.754098\npr2s         0.057946\np2rs         0.004167",
      "text/html": "<div>\n<style scoped>\n    .dataframe tbody tr th:only-of-type {\n        vertical-align: middle;\n    }\n\n    .dataframe tbody tr th {\n        vertical-align: top;\n    }\n\n    .dataframe thead th {\n        text-align: right;\n    }\n</style>\n<table border=\"1\" class=\"dataframe\">\n  <thead>\n    <tr style=\"text-align: right;\">\n      <th></th>\n      <th>convertion rate</th>\n    </tr>\n  </thead>\n  <tbody>\n    <tr>\n      <th>sp2r</th>\n      <td>18.754098</td>\n    </tr>\n    <tr>\n      <th>pr2s</th>\n      <td>0.057946</td>\n    </tr>\n    <tr>\n      <th>p2rs</th>\n      <td>0.004167</td>\n    </tr>\n  </tbody>\n</table>\n</div>"
     },
     "execution_count": 32,
     "metadata": {},
     "output_type": "execute_result"
    }
   ],
   "source": [
    "data_summary(temp)"
   ],
   "metadata": {
    "collapsed": false
   }
  },
  {
   "cell_type": "code",
   "execution_count": null,
   "outputs": [],
   "source": [
    "def plot_generation(df:pd.DataFrame):\n",
    "    ..."
   ],
   "metadata": {
    "collapsed": false
   }
  },
  {
   "cell_type": "code",
   "execution_count": 31,
   "outputs": [],
   "source": [
    "def data_summary(df: pd.DataFrame):\n",
    "    sp2r=(df[\"stk on start\"].sum()+df[\"prj on start\"].sum())/df[\"risk on start\"].sum()\n",
    "    pr2s=(df[\"risk on start\"].sum()+df[\"prj on start\"].sum())/df[\"stk on start\"].sum()\n",
    "    p2rs=df[\"prj on start\"].sum()/(df[\"risk on start\"].sum()+df[\"stk on start\"].sum())\n",
    "    return pd.DataFrame([sp2r, pr2s, p2rs], index=[\"sp2r\", \"pr2s\", \"p2rs\"], columns=[\"convertion rate\"])"
   ],
   "metadata": {
    "collapsed": false
   }
  },
  {
   "cell_type": "code",
   "execution_count": null,
   "outputs": [],
   "source": [
    "def split_hor(df: pd.DataFrame, number: int=10) -> list:\n",
    "    if df.empty(): raise Exception(\"dataframe is empty.\")\n",
    "    interval=math.floor(df.shape[1]/number)\n",
    "    return [df.loc[val*interval:val*(interval+1), ('p1', \"p2\", 'probability')] for val in range(0, number)]"
   ],
   "metadata": {
    "collapsed": false
   }
  },
  {
   "cell_type": "markdown",
   "source": [
    "### multithreading support"
   ],
   "metadata": {
    "collapsed": false
   }
  },
  {
   "cell_type": "code",
   "execution_count": null,
   "outputs": [],
   "source": [
    "def falshretrieve(left: KeywordProcessor, comparison: list):\n",
    "    with ThreadPoolExecutor() as executor:\n",
    "        result=executor.map(row_retrieve, left, comparison)\n"
   ],
   "metadata": {
    "collapsed": false
   }
  },
  {
   "cell_type": "code",
   "execution_count": 83,
   "outputs": [],
   "source": [
    "def initial_keyw():\n",
    "    riskw, projectw, stkw=KeywordProcessor(),KeywordProcessor(),KeywordProcessor()\n",
    "    keywords=keyword()\n",
    "    keywords.riskw, keywords.prjw=riskw.add_keywords_from_list(riskw), projectw.add_keywords_from_list(prjkeyw)\n",
    "    keywords.stkw= stkw.add_keywords_from_list(stkkeyw)\n",
    "    return keywords\n",
    "    # return [riskw.add_keywords_from_list(riskw),\n",
    "    #         projectw.add_keywords_from_list(prjkeyw),\n",
    "    #         stkw.add_keywords_from_list(stkkeyw)]"
   ],
   "metadata": {
    "collapsed": false
   }
  },
  {
   "cell_type": "code",
   "execution_count": null,
   "outputs": [],
   "source": [
    "def outer(comparison: pd.DataFrame):\n",
    "    \"\"\"\n",
    "    multithreading must involve in the last\n",
    "    :param comparison:\n",
    "    :return:\n",
    "    \"\"\"\n",
    "    keywords=initial_keyw()\n",
    "    flash=split_hor(comparison, 8)\n",
    "    for processor in keywords:\n",
    "        df=falshretrieve(processor, flash)\n",
    "    return df"
   ],
   "metadata": {
    "collapsed": false
   }
  },
  {
   "cell_type": "code",
   "execution_count": 71,
   "outputs": [],
   "source": [
    "def check_in():\n",
    "    warpfp=Warp_fpgrowth(0.01, 0.2, \"res\")\n",
    "    callAC=acmachine()\n",
    "\n",
    "    ..."
   ],
   "metadata": {
    "collapsed": false
   }
  },
  {
   "cell_type": "code",
   "execution_count": 75,
   "outputs": [
    {
     "data": {
      "text/plain": "0         [TIME, grouting risk, PURPOSE, Dynamic risk, M...\n1         [TAR, ON, Safety, And risk, uses risk, Operati...\n2         [ON, Safety, The risk, Resource, To risk, Unde...\n3         [AIM, Aggregate risk, Paramount, Planning, The...\n4         [Weibull, ON, Networks, COST, And risk, Differ...\n                                ...                        \n125092    [TIMES, Elsevier Ltd., Characteristics, Differ...\n125093    [ON, National, Utilities, Elsevier Inc., Post,...\n125094    [ON, complete risk, The risk, Economics, With ...\n125095    [Sustainability, ON, epidemic risk, The risk, ...\n125096    [investor risk, ON, Credit risk, EU, Resulting...\nName: Abstract, Length: 120420, dtype: object"
     },
     "execution_count": 75,
     "metadata": {},
     "output_type": "execute_result"
    }
   ],
   "source": [
    "if __name__==\"__main__\":\n",
    "    keys=initial_keyw()\n"
   ],
   "metadata": {
    "collapsed": false
   }
  },
  {
   "cell_type": "code",
   "execution_count": null,
   "outputs": [],
   "source": [],
   "metadata": {
    "collapsed": false
   }
  }
 ],
 "metadata": {
  "kernelspec": {
   "display_name": "Python 3 (ipykernel)",
   "language": "python",
   "name": "python3"
  },
  "language_info": {
   "codemirror_mode": {
    "name": "ipython",
    "version": 3
   },
   "file_extension": ".py",
   "mimetype": "text/x-python",
   "name": "python",
   "nbconvert_exporter": "python",
   "pygments_lexer": "ipython3",
   "version": "3.9.13"
  }
 },
 "nbformat": 4,
 "nbformat_minor": 5
}
